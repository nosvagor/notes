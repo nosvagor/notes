{
 "metadata": {
  "language_info": {
   "codemirror_mode": {
    "name": "ipython",
    "version": 3
   },
   "file_extension": ".py",
   "mimetype": "text/x-python",
   "name": "python",
   "nbconvert_exporter": "python",
   "pygments_lexer": "ipython3",
   "version": "3.9.5-final"
  },
  "orig_nbformat": 2,
  "kernelspec": {
   "name": "python39264bitlinearvenv6ce40b61835845b0a51e3922e69d679e",
   "display_name": "Python 3.9.2 64-bit ('linear': venv)"
  }
 },
 "nbformat": 4,
 "nbformat_minor": 2,
 "cells": [
  {
   "cell_type": "code",
   "execution_count": 1,
   "metadata": {},
   "outputs": [],
   "source": [
    "import numpy as np\n",
    "from sympy import *\n",
    "from fractions import Fraction"
   ]
  },
  {
   "source": [
    "## Question 1\n",
    "\n",
    "For each of the following sets of vectors, determine whether it is linearly independent or linearly dependent. If it is dependent, give a non-trivial linear combination of the vectors yielding the zero vector. Give your combination as an expression using u, v, and w for the vector variables **u**, **v**, and **w**."
   ],
   "cell_type": "markdown",
   "metadata": {}
  },
  {
   "cell_type": "code",
   "execution_count": 2,
   "metadata": {},
   "outputs": [
    {
     "output_type": "stream",
     "name": "stdout",
     "text": [
      "------------------------------\n[[ 1 -3  1]\n [-2  6 -1]\n [-3  9 -1]]\n  rref 🠗\n[[1 -3 0]\n [0 0 1]\n [0 0 0]]\n\nleft nullspace = [-1 -2 1]\n\n-u - 2*v + w = 0\n------------------------------\n------------------------------\n[[ 1  3 -3]\n [ 1  4  2]\n [ 1  4 -1]]\n  rref 🠗\n[[1 0 0]\n [0 1 0]\n [0 0 1]]\n\nVectors are linearly independent\n------------------------------\n"
     ]
    }
   ],
   "source": [
    "def linearDependence(a,b,c):\n",
    "    print('-'*30)\n",
    "    a = np.array([a])\n",
    "    b = np.array([b])\n",
    "    c = np.array([c])\n",
    "\n",
    "    u,v,w = symbols('u,v,w')\n",
    "    symbolic = np.array([u,v,w])\n",
    "\n",
    "    A = np.concatenate((a,b,c))\n",
    "    print(A)\n",
    "    print('  rref 🠗')\n",
    "    print(np.array(Matrix(A).rref()[0]))\n",
    "    # check leftnullspace for linear dependence\n",
    "    # return vector required to reach zero vector if true\n",
    "    ANul = np.array(Matrix(A.T).nullspace())\n",
    "    if len(ANul) >= 1:\n",
    "        cokernel = ANul[0].T[0]\n",
    "        print(f'\\nleft nullspace = {cokernel}')\n",
    "        print(f'\\n{symbolic@cokernel} = 0')\n",
    "        print('-'*30)\n",
    "    else:\n",
    "        print('\\nVectors are linearly independent')\n",
    "        print('-'*30)\n",
    "\n",
    "\n",
    "linearDependence(\n",
    "    [1,-3,1],\n",
    "    [-2,6,-1],\n",
    "    [-3,9,-1],\n",
    ")\n",
    "linearDependence(\n",
    "    [1,3,-3],\n",
    "    [1,4,2],\n",
    "    [1,4,-1],\n",
    ")"
   ]
  },
  {
   "source": [
    "## Question 2 \n",
    "\n",
    "Given the following vectors u and v, find a vector w in ℝ4 so that {**u**, **v**, **w**} is linearly independent and a non-zero vector z in ℝ4 so that {**u**, **v**, **z**} is linearly dependent:\n"
   ],
   "cell_type": "markdown",
   "metadata": {}
  },
  {
   "cell_type": "code",
   "execution_count": 101,
   "metadata": {},
   "outputs": [
    {
     "output_type": "stream",
     "name": "stdout",
     "text": [
      "[44/41 5/41 1 0]\n[[ -4 -14   6   8]]\n"
     ]
    }
   ],
   "source": [
    "u = np.array([[-2,-7,3,4]])\n",
    "v = np.array([[-10,6,10,2]])\n",
    "\n",
    "A = np.concatenate((u,v))\n",
    "print(np.array(Matrix(A).nullspace())[0].T[0])\n",
    "# print(A)\n",
    "\n",
    "z = 2*u\n",
    "print(z)"
   ]
  },
  {
   "source": [
    "## Question 3\n",
    "\n",
    "Give a basis for span(S), where S is the set given below."
   ],
   "cell_type": "markdown",
   "metadata": {}
  },
  {
   "cell_type": "code",
   "execution_count": 33,
   "metadata": {},
   "outputs": [
    {
     "output_type": "execute_result",
     "data": {
      "text/plain": [
       "Matrix([\n",
       "[1, 0, 0],\n",
       "[0, 1, 0],\n",
       "[0, 0, 1]])"
      ],
      "text/latex": "$\\displaystyle \\left[\\begin{matrix}1 & 0 & 0\\\\0 & 1 & 0\\\\0 & 0 & 1\\end{matrix}\\right]$"
     },
     "metadata": {},
     "execution_count": 33
    }
   ],
   "source": [
    "S = np.array([\n",
    "    [0,0,2,-2],\n",
    "    [1,-1,-1,3],\n",
    "    [0,1,7,-9]\n",
    "])\n",
    "\n",
    "Matrix(np.eye(np.linalg.matrix_rank(S),dtype=int))"
   ]
  },
  {
   "source": [
    "## Question 4\n",
    "\n",
    " Give a basis for the image of the matrix A."
   ],
   "cell_type": "markdown",
   "metadata": {}
  },
  {
   "cell_type": "code",
   "execution_count": 72,
   "metadata": {},
   "outputs": [
    {
     "output_type": "stream",
     "name": "stdout",
     "text": [
      "Number of vectors = 3\n\n[[2]\n [-3]\n [-2]] \n\n[[2]\n [-3]\n [-1]] \n\n[[-2]\n [6]\n [0]] \n\n"
     ]
    }
   ],
   "source": [
    "S = np.array([\n",
    "    [2,2,-2,-2],\n",
    "    [-3,-3,6,6],\n",
    "    [-2,-1,0,-2]\n",
    "])\n",
    "\n",
    "img = Matrix(S).columnspace()\n",
    "\n",
    "print(f'Number of vectors = {len(img)}\\n')\n",
    "for i in range(len(img)):\n",
    "    print(np.array(img)[i],'\\n')\n"
   ]
  },
  {
   "source": [
    "## Question 5\n",
    "\n",
    "Give a basis for the null space of the matrix A."
   ],
   "cell_type": "markdown",
   "metadata": {}
  },
  {
   "cell_type": "code",
   "execution_count": 89,
   "metadata": {},
   "outputs": [
    {
     "output_type": "stream",
     "name": "stdout",
     "text": [
      "Number of vectors = 2\n\n[[-5]\n [1]\n [0]\n [0]] \n\n[[5]\n [0]\n [1]\n [0]] \n\n"
     ]
    }
   ],
   "source": [
    "A = np.array([\n",
    "    [1,5,-5,0],\n",
    "    [0,0,0,1],\n",
    "    [0,0,0,0]\n",
    "])\n",
    "\n",
    "nullspace = Matrix(A).nullspace()\n",
    "\n",
    "print(f'Number of vectors = {len(nullspace)}\\n')\n",
    "for i in range(len(nullspace)):\n",
    "    print(np.array(nullspace)[i],'\\n')"
   ]
  },
  {
   "source": [
    "## Question 6   \n",
    "\n",
    "Find a basis for the eigenspace of A corresponding to the eigenvalue λ."
   ],
   "cell_type": "markdown",
   "metadata": {}
  },
  {
   "cell_type": "code",
   "execution_count": 100,
   "metadata": {},
   "outputs": [
    {
     "output_type": "stream",
     "name": "stdout",
     "text": [
      "Number of vectors = 1\n\n[[0]\n [-1]\n [1]] \n\n"
     ]
    }
   ],
   "source": [
    "A = np.array([\n",
    "    [-2,-9,-9],\n",
    "    [0,-5,-4],\n",
    "    [0,6,5]\n",
    "])\n",
    "\n",
    "λ = -1\n",
    "\n",
    "eigenspace = Matrix((A - λ*np.eye(np.shape(A)[0],dtype=int))).nullspace()\n",
    "\n",
    "\n",
    "print(f'Number of vectors = {len(eigenspace)}\\n')\n",
    "for i in range(len(eigenspace)):\n",
    "    print(np.array(eigenspace)[i],'\\n')\n"
   ]
  },
  {
   "cell_type": "code",
   "execution_count": null,
   "metadata": {},
   "outputs": [],
   "source": []
  }
 ]
}