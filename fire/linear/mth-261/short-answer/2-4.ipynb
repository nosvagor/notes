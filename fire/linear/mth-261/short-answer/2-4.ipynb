{
 "metadata": {
  "language_info": {
   "codemirror_mode": {
    "name": "ipython",
    "version": 3
   },
   "file_extension": ".py",
   "mimetype": "text/x-python",
   "name": "python",
   "nbconvert_exporter": "python",
   "pygments_lexer": "ipython3",
   "version": "3.9.4-final"
  },
  "orig_nbformat": 2,
  "kernelspec": {
   "name": "python39264bitlinearvenv6ce40b61835845b0a51e3922e69d679e",
   "display_name": "Python 3.9.2 64-bit ('linear': venv)"
  }
 },
 "nbformat": 4,
 "nbformat_minor": 2,
 "cells": [
  {
   "cell_type": "code",
   "execution_count": 1,
   "metadata": {},
   "outputs": [],
   "source": [
    "import numpy as np\n",
    "from sympy import *"
   ]
  },
  {
   "source": [
    "## Question 1\n",
    "Compute the inverse"
   ],
   "cell_type": "markdown",
   "metadata": {}
  },
  {
   "cell_type": "code",
   "execution_count": 2,
   "metadata": {},
   "outputs": [
    {
     "output_type": "stream",
     "name": "stdout",
     "text": [
      "[[-0.33333333 -1.        ]\n [ 0.66666667  1.        ]]\n"
     ]
    }
   ],
   "source": [
    "A = np.array([\n",
    "    [3,3],\n",
    "    [-2,-1]\n",
    "])\n",
    "\n",
    "print(np.linalg.inv(A))"
   ]
  },
  {
   "source": [
    "## Question 2\n",
    "\n",
    "Find solution to system of equations using matrix inverse\n"
   ],
   "cell_type": "markdown",
   "metadata": {}
  },
  {
   "cell_type": "code",
   "execution_count": 13,
   "metadata": {},
   "outputs": [
    {
     "output_type": "stream",
     "name": "stdout",
     "text": [
      "A^-1=\n [[ 2.6  1.  -4. ]\n [-1.4  0.   2. ]\n [-0.8  0.   1. ]]\nx =\n [[-1.]\n [-1.]\n [ 2.]]\n"
     ]
    }
   ],
   "source": [
    "# Coefficents of system \n",
    "A = np.array([\n",
    "    [0,5,-10],\n",
    "    [1,3,-2],\n",
    "    [0,4,-7,]\n",
    "])\n",
    "\n",
    "# Constants of system\n",
    "b = np.array([\n",
    "    [-25,-8,-18]\n",
    "])\n",
    "\n",
    "Ainv = np.linalg.inv(A)\n",
    "\n",
    "# Ax = b -> x = A^-1 b\n",
    "x = Ainv@b.T\n",
    "\n",
    "print(\"A^-1=\\n\",Ainv)\n",
    "print(\"x =\\n\",x)"
   ]
  },
  {
   "source": [
    "## Question 3\n",
    "\n",
    "Find A given two other matrices using the inverse"
   ],
   "cell_type": "markdown",
   "metadata": {}
  },
  {
   "cell_type": "code",
   "execution_count": 12,
   "metadata": {},
   "outputs": [
    {
     "output_type": "stream",
     "name": "stdout",
     "text": [
      "A =\n [[-30.   13.   39. ]\n [  9.4  -2.  -10.2]\n [  3.8  -1.   -4.4]]\n"
     ]
    }
   ],
   "source": [
    "B = np.array([\n",
    "    [9,0,-7],\n",
    "    [-6,3,9],\n",
    "    [2,6,4]\n",
    "])\n",
    "\n",
    "C = np.array([\n",
    "    [0,5,-10],\n",
    "    [0,3,-9],\n",
    "    [1,3,1]\n",
    "])\n",
    "\n",
    "# WARN: GIVEN EQAUTINO DIFFERENT EACH TIME ### \n",
    "# Isolate A, then change print statement to match equation\n",
    "\n",
    "# B A^-1 = C <-- Given equation\n",
    "# B = C A <-- multiply both sides by A (A^-1 A = 1)\n",
    "# C^-1 B = A <-- multiply both sides by C^-1 \n",
    "\n",
    "print(\"A =\\n\", np.linalg.inv(C)@B)"
   ]
  },
  {
   "source": [
    "## Question 4\n",
    "\n",
    "Find conditions on k that will make the matrix A invertible."
   ],
   "cell_type": "markdown",
   "metadata": {}
  },
  {
   "cell_type": "code",
   "execution_count": 8,
   "metadata": {},
   "outputs": [
    {
     "output_type": "stream",
     "name": "stdout",
     "text": [
      "-3\n"
     ]
    }
   ],
   "source": [
    "for k in range(-100,100):   \n",
    "    A = np.array([\n",
    "    [2,1,0],\n",
    "    [-1,k,-2],\n",
    "    [1,3,2]\n",
    "    ])  \n",
    "    if np.linalg.det(A) == 0:\n",
    "        print(k)\n",
    "        break\n",
    "    # Honestly, should never get to this, idk if this actually works if is always invertible. Idk test for if it is never invertbile. \n",
    "    if k == 99: \n",
    "        print(always)\n",
    "        break"
   ]
  },
  {
   "source": [
    "## Question 5\n",
    "\n",
    "Find the inevrse of the given transformation, T"
   ],
   "cell_type": "markdown",
   "metadata": {}
  },
  {
   "cell_type": "code",
   "execution_count": 6,
   "metadata": {},
   "outputs": [
    {
     "output_type": "stream",
     "name": "stdout",
     "text": [
      "[[-1.   2. ]\n [-0.6  1. ]]\n"
     ]
    }
   ],
   "source": [
    "T = np.array([\n",
    "    [5,-10],\n",
    "    [3,-5]\n",
    "])\n",
    "\n",
    "# Include variables in a single vector, i.e., \n",
    "# [[x1 + y1]\n",
    "#  [x2 + y2]]\n",
    "print(np.linalg.inv(T))"
   ]
  }
 ]
}