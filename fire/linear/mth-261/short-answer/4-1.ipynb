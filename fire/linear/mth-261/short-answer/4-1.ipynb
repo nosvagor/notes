{
  "nbformat": 4,
  "nbformat_minor": 0,
  "metadata": {
    "language_info": {
      "codemirror_mode": {
        "name": "ipython",
        "version": 3
      },
      "file_extension": ".py",
      "mimetype": "text/x-python",
      "name": "python",
      "nbconvert_exporter": "python",
      "pygments_lexer": "ipython3",
      "version": "3.9.5-final"
    },
    "orig_nbformat": 2,
    "kernelspec": {
      "name": "python39264bitlinearvenv6ce40b61835845b0a51e3922e69d679e",
      "display_name": "Python 3.9.2 64-bit ('linear': venv)"
    },
    "colab": {
      "name": "4-1.ipynb",
      "provenance": [],
      "collapsed_sections": []
    }
  },
  "cells": [
    {
      "cell_type": "code",
      "metadata": {
        "id": "wAfbLIiNxlK7"
      },
      "source": [
        "import numpy as np\n",
        "from sympy import *"
      ],
      "execution_count": 1,
      "outputs": []
    },
    {
      "cell_type": "markdown",
      "metadata": {
        "id": "ot8VqCaVxlK-"
      },
      "source": [
        "## Question 1\n",
        "\n",
        "If **u** and **v** are the vectors below, solve the following equation for the vector **x**.\n",
        "\n",
        "Given equation:\n",
        "$$ \n",
        "\\begin{align*}\n",
        "3(\\vec{x}-3\\vec{u})-2\\vec{v}=2\\vec{v}+\\vec{u}-\\vec{x}\n",
        "\\end{align*}\n",
        "$$"
      ]
    },
    {
      "cell_type": "code",
      "metadata": {
        "colab": {
          "base_uri": "https://localhost:8080/"
        },
        "id": "3QLzqfEmxlK-",
        "outputId": "56559fd2-73df-4c6e-ae35-e3de16030351"
      },
      "source": [
        "from fractions import Fraction\n",
        "np.set_printoptions(formatter={'all':lambda x: str(Fraction(x).limit_denominator())})\n",
        "\n",
        "u,v,x = symbols('u,v,x')\n",
        "\n",
        "# Given equation -> Eq(left side, right side)\n",
        "vec_eq = Eq(3*(x-3*u)-2*v, 2*v+u-x)\n",
        "print(solve(vec_eq, x))\n",
        "print(' ')\n",
        "\n",
        "# Given vectors\n",
        "u = np.array([[-4,3,-3]]).T\n",
        "v = np.array([[5,-2,1]]).T\n",
        "\n",
        "# Result from solve() function\n",
        "x = (5/2)*u + v\n",
        "\n",
        "print(x)\n"
      ],
      "execution_count": 2,
      "outputs": [
        {
          "output_type": "stream",
          "text": [
            "[5*u/2 + v]\n",
            " \n",
            "[[-5]\n",
            " [11/2]\n",
            " [-13/2]]\n"
          ],
          "name": "stdout"
        }
      ]
    },
    {
      "cell_type": "markdown",
      "metadata": {
        "id": "GrNwkZL-xlK_"
      },
      "source": [
        "## Question 2\n",
        "\n",
        "Find the distance d between the points $P_1$ and $P_2$ by first finding the vector $\\vec{v}$ from $P_1$ to $P_2$, then finding the length of $\\vec{v}$. Use the square root symbol '√' where needed to give an exact value for your answer.\n",
        "\n"
      ]
    },
    {
      "cell_type": "code",
      "metadata": {
        "colab": {
          "base_uri": "https://localhost:8080/"
        },
        "id": "_O4QEfHWxlLA",
        "outputId": "3375b242-0360-4ceb-aad6-f72231c01b53"
      },
      "source": [
        "# Inputing as row vector (easeir), tranpose to make column vector\n",
        "P1 = np.array([[-9,-8,1]]).T\n",
        "P2 = np.array([[-7,4,4]]).T\n",
        "\n",
        "# v = distance between points\n",
        "v = P2-P1\n",
        "print(f'v = {v.T[0]}.T\\n')\n",
        "\n",
        "# d = norm = length = ||v|| = (v.T@v)**0.5 = sqrt(v.T@v)\n",
        "d = np.linalg.norm(v)\n",
        "vTv = v.T @ v\n",
        "\n",
        "print(f'd = sqrt({int(d**2)})\\n')\n",
        "print('d =', d)\n",
        "print('d^2 =', int(d**2))\n",
        "print('vTv =', vTv[0][0])\n",
        "\n"
      ],
      "execution_count": 3,
      "outputs": [
        {
          "output_type": "stream",
          "text": [
            "v = [2 12 3].T\n",
            "\n",
            "d = sqrt(157)\n",
            "\n",
            "d = 12.529964086141668\n",
            "d^2 = 157\n",
            "vTv = 157\n"
          ],
          "name": "stdout"
        }
      ]
    },
    {
      "cell_type": "markdown",
      "metadata": {
        "id": "a0xPV0POxlLA"
      },
      "source": [
        "## Question 3\n",
        "\n",
        "Find a unit vector $\\vec{u}$ with the same direction as the given vector $\\vec{v}$. Use the square root symbol '√' where needed to give an exact value for your answer. "
      ]
    },
    {
      "cell_type": "code",
      "metadata": {
        "colab": {
          "base_uri": "https://localhost:8080/"
        },
        "id": "yebqPMS6xlLB",
        "outputId": "a711ac65-8d59-4bfd-bdb1-ae4a6cee19bc"
      },
      "source": [
        "v = np.array([[-9,5,10]]).T\n",
        "\n",
        "u = v/np.linalg.norm(v)\n",
        "vhat = v / (v**2).sum()**0.5\n",
        "\n",
        "# u = vhat\n",
        "print(u-vhat)\n",
        "print(' ')\n",
        "\n",
        "print(f'u= sqrt(\\n{u**2})\\n')\n",
        "print(f'u=\\n{u}')"
      ],
      "execution_count": 4,
      "outputs": [
        {
          "output_type": "stream",
          "text": [
            "[[0]\n",
            " [0]\n",
            " [0]]\n",
            " \n",
            "u= sqrt(\n",
            "[[81/206]\n",
            " [25/206]\n",
            " [50/103]])\n",
            "\n",
            "u=\n",
            "[[-622923/993403]\n",
            " [347451/997372]\n",
            " [596331/855896]]\n"
          ],
          "name": "stdout"
        }
      ]
    },
    {
      "cell_type": "markdown",
      "metadata": {
        "id": "g1PE7IOMxlLB"
      },
      "source": [
        "## Question 4\n",
        "\n",
        "Find the vector equation for the line passing through the points $P_1$ and $P_2$."
      ]
    },
    {
      "cell_type": "code",
      "metadata": {
        "colab": {
          "base_uri": "https://localhost:8080/"
        },
        "id": "titj2HVyxlLB",
        "outputId": "764708e5-59cb-48d7-9eb3-83adb51aaff2"
      },
      "source": [
        "p1 = np.array([[-5,-9,7]]).T\n",
        "p2 = np.array([[-11,-5,9]]).T\n",
        "\n",
        "v = p2-p1\n",
        "print(f't =\\n{v}\\n')\n",
        "\n",
        "print('Use either p1 or p2 for vector in vector equation')"
      ],
      "execution_count": 5,
      "outputs": [
        {
          "output_type": "stream",
          "text": [
            "t =\n",
            "[[-6]\n",
            " [4]\n",
            " [2]]\n",
            "\n",
            "Use either p1 or p2 for vector in vector equation\n"
          ],
          "name": "stdout"
        }
      ]
    },
    {
      "cell_type": "markdown",
      "metadata": {
        "id": "Ss4KiMU_xlLC"
      },
      "source": [
        "## Question 5\n",
        "\n",
        "Find the vector equation for the line passing through the point $P$ and parallel to the line given\n",
        "\n",
        "---\n",
        "\n",
        "Code isn't helpful for this one.\n",
        "\n",
        "1. Input P as a vector\n",
        "2. Then input all scalrs of t as a vector for the equation\n",
        "\n",
        "E.g.,\n",
        "\n",
        "$P(-2,4,6)$ parallel to line \n",
        "\n",
        "$$\n",
        "\\begin{align*}\n",
        "x &= -3+2t \\\\\n",
        "y &= 2-8t \\\\ \n",
        "z &= -6+2t \n",
        "\\end{align*}\n",
        "$$\n",
        "yields\n",
        "$$\n",
        "\\begin{bmatrix} x \\\\ y \\\\ z \\end{bmatrix} = \n",
        "\\begin{bmatrix} -2 \\\\ 4 \\\\ 6 \\end{bmatrix} + \n",
        "t \\begin{bmatrix} 2 \\\\ -8 \\\\ 2 \\end{bmatrix}\n",
        "$$\n",
        "\n"
      ]
    },
    {
      "cell_type": "markdown",
      "metadata": {
        "id": "ZMpHoB5uxlLD"
      },
      "source": [
        "## Question 6\n",
        "\n",
        "\n",
        "Let $L_1$ be the line passing through the points $Q_1(5, 3, -4)$ and $Q_2(7,0,−5)$ and let $L_2$ be the line passing through the point $P_1(−32, −13,31)$ with direction vector $d=[−9, −6, 9]^T$ Determine whether $L_1$ and $L_2$ intersect. If so, find the point of intersection $Q$.\n"
      ]
    },
    {
      "cell_type": "code",
      "metadata": {
        "id": "XvDCiuEJxlLD",
        "outputId": "2dc6d840-56b7-4e88-8218-4fd84c8dae3a"
      },
      "source": [
        "q1 = np.array([[5,3,-4]]).T\n",
        "q2 = np.array([[7,0,-5]]).T\n",
        "tvec = q2 - q1\n",
        "\n",
        "print(f'Direction vector t =\\n{tvec}\\n')\n",
        "\n",
        "p1 = np.array([[-32,-13,31]]).T\n",
        "rvec = np.array([[-9,-6,9]]).T\n",
        "\n",
        "print(f'Dirction vector r =\\n{rvec}\\n')\n",
        "\n",
        "A = Matrix(np.concatenate((tvec,rvec,p1-q1),axis=1))\n",
        "\n",
        "print(f'A = \\n{np.array(A,dtype=float)}\\n')\n",
        "\n",
        "Asol = A.rref()\n",
        "\n",
        "print(f'rref(A) = \\n{np.array(Asol[0],dtype=float)}\\n')\n",
        "\n",
        "\n",
        "t = float(Asol[0][0,2])\n",
        "r = float(Asol[0][1,2])\n",
        "\n",
        "print(f't = {str(Fraction(t).limit_denominator())}')\n",
        "print(f'r = {str(Fraction(r).limit_denominator())}')\n",
        "\n",
        "Q = Matrix([np.concatenate((q1,tvec*t),axis=1).sum(axis=1)]).T\n",
        "\n",
        "Q"
      ],
      "execution_count": null,
      "outputs": [
        {
          "output_type": "stream",
          "text": [
            "Direction vector t =\n",
            "[[2]\n",
            " [-3]\n",
            " [-1]]\n",
            "\n",
            "Dirction vector r =\n",
            "[[-9]\n",
            " [-6]\n",
            " [9]]\n",
            "\n",
            "A = \n",
            "[[2 -9 -37]\n",
            " [-3 -6 -16]\n",
            " [-1 9 35]]\n",
            "\n",
            "rref(A) = \n",
            "[[1 0 -2]\n",
            " [0 1 11/3]\n",
            " [0 0 0]]\n",
            "\n",
            "t = -2\n",
            "r = 11/3\n"
          ],
          "name": "stdout"
        },
        {
          "output_type": "execute_result",
          "data": {
            "text/plain": [
              "Matrix([\n",
              "[ 1.0],\n",
              "[ 9.0],\n",
              "[-2.0]])"
            ],
            "text/latex": "$\\displaystyle \\left[\\begin{matrix}1.0\\\\9.0\\\\-2.0\\end{matrix}\\right]$"
          },
          "metadata": {
            "tags": []
          },
          "execution_count": 202
        }
      ]
    },
    {
      "cell_type": "markdown",
      "metadata": {
        "id": "hmS8Ot-jxlLF"
      },
      "source": [
        "### Question 6 Visualized\n",
        "\n",
        "$$\n",
        "L_1 = \\begin{bmatrix} x \\\\ y \\\\ z \\end{bmatrix} = \n",
        "\\begin{bmatrix} 5 \\\\ 3 \\\\ -4 \\end{bmatrix} + \n",
        "t \\begin{bmatrix} 2 \\\\ -3 \\\\ -1 \\end{bmatrix}\n",
        "$$\n",
        "\n",
        "$$\\downarrow$$\n",
        "\n",
        "$$\n",
        "\\begin{align*}\n",
        "x &= 5+2t \\\\\n",
        "y &= 3-3t \\\\ \n",
        "z &= -4-t \n",
        "\\end{align*}\n",
        "$$\n",
        "\n",
        "$$\\downarrow$$\n",
        "\n",
        "$$\n",
        "L_2 = \n",
        "\\begin{bmatrix} x \\\\ y \\\\ z \\end{bmatrix} = \n",
        "\\begin{bmatrix} -32 \\\\ -13 \\\\ 31 \\end{bmatrix} + \n",
        "r \\begin{bmatrix} -9 \\\\ -6 \\\\ 9 \\end{bmatrix}\n",
        "$$\n",
        "\n",
        "$$\\downarrow$$\n",
        "\n",
        "$$\n",
        "\\begin{align*}\n",
        "x &= -32-9r \\\\\n",
        "y &= -13-6r \\\\ \n",
        "z &= 31+9r \n",
        "\\end{align*}\n",
        "$$\n",
        "\n",
        "$$\\downarrow$$\n",
        "\n",
        "$$\n",
        "\\begin{align*}\n",
        "5+2t  &= -32-9r \\\\\n",
        "3-3t &= -13-6r \\\\ \n",
        "-4-t &= 31+9r \n",
        "\\end{align*}\n",
        "$$\n",
        "\n",
        "$$\\downarrow$$\n",
        "\n",
        "$$\n",
        "\\begin{align*}\n",
        "2t-9r &= -37 \\\\\n",
        "-3t-6r &= -16 \\\\ \n",
        "-1t+9r &= 35 \n",
        "\\end{align*}\n",
        "$$\n",
        "\n",
        "$$\\downarrow$$\n",
        "\n",
        "$$\n",
        "\\operatorname{rref}\\left(\\begin{bmatrix} \n",
        "2 & -9 & -37 \\\\ \n",
        "-3 & -6 & -16 \\\\ \n",
        "-1 & 9 & 35\n",
        "\\end{bmatrix}\\right)\n",
        "$$\n"
      ]
    },
    {
      "cell_type": "code",
      "metadata": {
        "id": "v912m0Y7xlLF",
        "outputId": "bbbe962e-f4ec-42d9-95b9-50fe0cb31bc5"
      },
      "source": [
        "A.rref()[0]"
      ],
      "execution_count": null,
      "outputs": [
        {
          "output_type": "execute_result",
          "data": {
            "text/plain": [
              "Matrix([\n",
              "[1, 0,   -2],\n",
              "[0, 1, 11/3],\n",
              "[0, 0,    0]])"
            ],
            "text/latex": "$\\displaystyle \\left[\\begin{matrix}1 & 0 & -2\\\\0 & 1 & \\frac{11}{3}\\\\0 & 0 & 0\\end{matrix}\\right]$"
          },
          "metadata": {
            "tags": []
          },
          "execution_count": 205
        }
      ]
    },
    {
      "cell_type": "markdown",
      "metadata": {
        "id": "5oy66PubxlLF"
      },
      "source": [
        "Input t, or r, back into respective equation (I am using t)\n",
        "$$\n",
        "\\begin{align*}\n",
        "x &= 5+2(-2) \\\\\n",
        "y &= 3-3(-2) \\\\ \n",
        "z &= -4-(-2) \n",
        "\\end{align*}\n",
        "$$\n",
        "Gives us point of intersect, Q:\n",
        "$$\n",
        "\\begin{bmatrix} 1 & 9 & -2 \\end{bmatrix} \n",
        "$$"
      ]
    }
  ]
}