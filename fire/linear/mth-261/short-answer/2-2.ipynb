{
 "metadata": {
  "language_info": {
   "codemirror_mode": {
    "name": "ipython",
    "version": 3
   },
   "file_extension": ".py",
   "mimetype": "text/x-python",
   "name": "python",
   "nbconvert_exporter": "python",
   "pygments_lexer": "ipython3",
   "version": "3.9.2-final"
  },
  "orig_nbformat": 2,
  "kernelspec": {
   "name": "python39264bitlinearvenv6ce40b61835845b0a51e3922e69d679e",
   "display_name": "Python 3.9.2 64-bit ('linear': venv)"
  }
 },
 "nbformat": 4,
 "nbformat_minor": 2,
 "cells": [
  {
   "source": [
    "# 2.2 &mdash; Matrix-Vector Multiplication"
   ],
   "cell_type": "markdown",
   "metadata": {}
  },
  {
   "cell_type": "code",
   "execution_count": 3,
   "metadata": {},
   "outputs": [],
   "source": [
    "import numpy as np\n",
    "from sympy import *"
   ]
  },
  {
   "source": [
    "# Question 1\n",
    "# No useful code for this, see subsection titled: Elementary Operations (System of Linear Equations)"
   ],
   "cell_type": "code",
   "metadata": {},
   "execution_count": 4,
   "outputs": []
  },
  {
   "cell_type": "code",
   "execution_count": 5,
   "metadata": {},
   "outputs": [],
   "source": [
    "# Question 2\n",
    "# No useful code for this...\n",
    "# Number of unrestired columns = number of parameters; \n",
    "# Number of rows = base + number of parametrs;\n",
    "# unrestired columns get a 1 in the row immediately below last equation that contains a number;\n",
    "# first column (i.e., + b) = contant matrix;\n",
    "# s,t columns = -1 * numbers in these columns;\n",
    "# rows of zeros = reduce number of variables (rows)"
   ]
  },
  {
   "cell_type": "code",
   "execution_count": 8,
   "metadata": {},
   "outputs": [
    {
     "output_type": "stream",
     "name": "stdout",
     "text": [
      "RREF of Matrix A:\n\n[[1 0 0 -5]\n [0 1 0 1]\n [0 0 1 0]]\n"
     ]
    }
   ],
   "source": [
    "# Question 3\n",
    "# Solve 👏 The 👏 System 👏\n",
    "\n",
    "# RREF calculator set up\n",
    "\n",
    "# Make a matrix using the sympy package. \n",
    "# Must be a list of lists, i.e., \n",
    "\n",
    "# [[],[],[],[]] or ...\n",
    "\n",
    "# [[x_11,x_12,...,x_1n],\n",
    "#  [x_21,x_22,...,x_2n],\n",
    "#        [...],\n",
    "#  [x_m1,x_m2,...,x_mn]]\n",
    "\n",
    "# Each list is a row vector of the matrix in question, \n",
    "# where number of lists = number of columns\n",
    "A = Matrix([\n",
    "            [3,-6,-9,-21],\n",
    "            [-1,3,4,8],\n",
    "            [-1,1,3,6]\n",
    "])\n",
    "\n",
    "# Compute RREF\n",
    "rrefA = A.rref()\n",
    "\n",
    "# Print it out nicely\n",
    "print('RREF of Matrix A:\\n')\n",
    "print(np.array(rrefA[0]))"
   ]
  },
  {
   "cell_type": "code",
   "execution_count": 9,
   "metadata": {},
   "outputs": [
    {
     "output_type": "stream",
     "name": "stdout",
     "text": [
      "RREF of Matrix A:\n\n[[1 5 -2 4]\n [0 0 0 0]\n [0 0 0 0]]\n"
     ]
    }
   ],
   "source": [
    "# Question 4\n",
    "# Combination of Q3 and Q2\n",
    "\n",
    "A = Matrix([\n",
    "            [1,5,-2,4],\n",
    "            [-1,-5,2,-4],\n",
    "            [2,10,-4,8]\n",
    "])\n",
    "\n",
    "# Compute RREF\n",
    "rrefA = A.rref()\n",
    "\n",
    "# Print it out nicely\n",
    "print('RREF of Matrix A:\\n')\n",
    "print(np.array(rrefA[0]))"
   ]
  },
  {
   "cell_type": "code",
   "execution_count": 10,
   "metadata": {},
   "outputs": [
    {
     "output_type": "stream",
     "name": "stdout",
     "text": [
      "RREF of Matrix A:\n\n[[1 0 -3 0]\n [0 1 3 0]\n [0 0 0 1]]\n"
     ]
    }
   ],
   "source": [
    "# Question 5\n",
    "# No solution, give RREF\n",
    "\n",
    "A = Matrix([\n",
    "            [1,2,3,-3],\n",
    "            [-2,-4,-6,9],\n",
    "            [-3,-5,-6,10]\n",
    "])\n",
    "\n",
    "# Compute RREF\n",
    "rrefA = A.rref()\n",
    "\n",
    "# Print it out nicely\n",
    "print('RREF of Matrix A:\\n')\n",
    "print(np.array(rrefA[0]))"
   ]
  },
  {
   "cell_type": "code",
   "execution_count": 24,
   "metadata": {},
   "outputs": [
    {
     "output_type": "stream",
     "name": "stdout",
     "text": [
      "[-87 -66  -9]\n[-87 -66  -9]\n"
     ]
    }
   ],
   "source": [
    "# Question 6\n",
    "# Easy af, input matrix and vector\n",
    "\n",
    "# matrix\n",
    "A = np.array([\n",
    "    [9,-5],\n",
    "    [6,-6],\n",
    "    [0,-3]\n",
    "])\n",
    "\n",
    "# vector (really 2x1 matrix)\n",
    "v = np.array([-8,3])\n",
    "\n",
    "# @ = matrix multiplcation operator (dot product)\n",
    "print(A@v)\n",
    "print(np.dot(A,v))\n",
    "\n",
    "# Do unequal sizes work? \n",
    "\n",
    "# v2= v = np.array([2,7,3])\n",
    "# print(A*v2)"
   ]
  },
  {
   "cell_type": "code",
   "execution_count": 27,
   "metadata": {},
   "outputs": [
    {
     "output_type": "stream",
     "name": "stdout",
     "text": [
      "[-22 -92 -33   4]\n[-22 -92 -33   4]\n"
     ]
    }
   ],
   "source": [
    "# Question 7 \n",
    "# Larger version of 6, just as easy! \n",
    "\n",
    "# matrix (3x4)\n",
    "A = np.array([\n",
    "    [7,6,-6],\n",
    "    [-10,-2,-10],\n",
    "    [1,-7,-4],\n",
    "    [8,9,-3]\n",
    "])\n",
    "\n",
    "# vector (really 3x1 matrix)\n",
    "v = np.array([2,1,7])\n",
    "\n",
    "# @ = matrix multiplcation operator (dot product)\n",
    "print(A@v)\n",
    "print(np.dot(A,v))"
   ]
  },
  {
   "cell_type": "code",
   "execution_count": 37,
   "metadata": {},
   "outputs": [
    {
     "output_type": "stream",
     "name": "stdout",
     "text": [
      "[-13  -6 -27]\n"
     ]
    }
   ],
   "source": [
    "# Question 8\n",
    "\n",
    "# I guess yo can find the linear transformation by finding the dot product?\n",
    "\n",
    "A = np.array([\n",
    "    [4,5],\n",
    "    [3,3],\n",
    "    [-4,3],\n",
    "])\n",
    "\n",
    "u = np.array([3,-5])\n",
    "\n",
    "# enter result as a column matrix\n",
    "print(A@u)"
   ]
  },
  {
   "cell_type": "code",
   "execution_count": null,
   "metadata": {},
   "outputs": [],
   "source": []
  }
 ]
}