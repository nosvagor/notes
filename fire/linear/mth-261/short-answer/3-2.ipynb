{
 "metadata": {
  "language_info": {
   "codemirror_mode": {
    "name": "ipython",
    "version": 3
   },
   "file_extension": ".py",
   "mimetype": "text/x-python",
   "name": "python",
   "nbconvert_exporter": "python",
   "pygments_lexer": "ipython3",
   "version": "3.9.5-final"
  },
  "orig_nbformat": 2,
  "kernelspec": {
   "name": "python39264bitlinearvenv6ce40b61835845b0a51e3922e69d679e",
   "display_name": "Python 3.9.2 64-bit ('linear': venv)"
  }
 },
 "nbformat": 4,
 "nbformat_minor": 2,
 "cells": [
  {
   "cell_type": "code",
   "execution_count": 1,
   "metadata": {},
   "outputs": [],
   "source": [
    "import numpy as np\n",
    "from sympy import *"
   ]
  },
  {
   "source": [
    "## 3.2 Question 1\n",
    "\n",
    "  If A, B, and C are 3×3 matrices; and det(A) = 5, det(B) = −2, and det(C) = −1 then compute:\n",
    "\n",
    "$det(4C^TA^TC^2B^3C^TB^{-1})$ \n",
    " \n"
   ],
   "cell_type": "markdown",
   "metadata": {}
  },
  {
   "cell_type": "code",
   "execution_count": 2,
   "metadata": {},
   "outputs": [
    {
     "output_type": "stream",
     "name": "stdout",
     "text": [
      "1280.0\n"
     ]
    }
   ],
   "source": [
    "# Determinants of given matrices\n",
    "A, B, C = 5,-2,-1\n",
    "\n",
    "# Size of given matrices\n",
    "n = 3\n",
    "\n",
    "# Given computation, ** = ^\n",
    "print(\n",
    "    4**n * C * A * C**2 * B**3 * C * B**-1\n",
    ")"
   ]
  },
  {
   "source": [
    "## 3.2 Question 2\n",
    "\n",
    "Compute the adjugate of the following matrix:\n"
   ],
   "cell_type": "markdown",
   "metadata": {}
  },
  {
   "cell_type": "code",
   "execution_count": 3,
   "metadata": {},
   "outputs": [
    {
     "output_type": "stream",
     "name": "stdout",
     "text": [
      "[[-60. -30. -20.]\n [-12. -72.  62.]\n [-48.  42.  28.]]\n"
     ]
    }
   ],
   "source": [
    "A = np.array([\n",
    "    [7,0,5],\n",
    "    [4,4,-6],\n",
    "    [6,-6,-6]\n",
    "])\n",
    "\n",
    "# Adj(A) = A^-1 * det(A) --- Only for square matrices\n",
    "print(np.linalg.inv(A)*np.linalg.det(A))"
   ]
  },
  {
   "source": [
    "## 3.3 Question 1\n",
    "\n",
    "Find the characteristic polynomial of A. Use x for the variable in your polynomial. You do not need to factor your polynomial.\n"
   ],
   "cell_type": "markdown",
   "metadata": {}
  },
  {
   "cell_type": "code",
   "execution_count": 4,
   "metadata": {},
   "outputs": [
    {
     "output_type": "execute_result",
     "data": {
      "text/plain": [
       "[1, 2, 2]"
      ]
     },
     "metadata": {},
     "execution_count": 4
    }
   ],
   "source": [
    "x = symbols('x')\n",
    "\n",
    "# Subtract x from diagonal elements\n",
    "A = Matrix([\n",
    "    [0-x,-0,-2],\n",
    "    [1,2-x,1],\n",
    "    [1,0,3-x]\n",
    "])\n",
    "\n",
    "real_roots(A.det())"
   ]
  },
  {
   "cell_type": "code",
   "execution_count": 5,
   "metadata": {},
   "outputs": [
    {
     "output_type": "stream",
     "name": "stdout",
     "text": [
      "[-2  1  1]\n"
     ]
    }
   ],
   "source": [
    "A = np.array([\n",
    "    [0,0,-2],\n",
    "    [1,2,1],\n",
    "    [1,0,3]\n",
    "])\n",
    "\n",
    "v = np.array([-2,1,1]).T\n",
    "\n",
    "print(A@v)\n"
   ]
  },
  {
   "source": [
    "## 3.3 Question 2\n",
    "\n",
    "Find the characteristic polynomial of A. Use x for the variable in your polynomial.\n"
   ],
   "cell_type": "markdown",
   "metadata": {}
  },
  {
   "cell_type": "code",
   "execution_count": 6,
   "metadata": {},
   "outputs": [
    {
     "output_type": "execute_result",
     "data": {
      "text/plain": [
       "x**4 + 4*x**3 - 3*x**2 - 18*x"
      ],
      "text/latex": "$\\displaystyle x^{4} + 4 x^{3} - 3 x^{2} - 18 x$"
     },
     "metadata": {},
     "execution_count": 6
    }
   ],
   "source": [
    "A = Matrix([\n",
    "    [-3-x,0,-3,4],\n",
    "    [0,-3-x,3,-1],\n",
    "    [0,0,0-x,-1],\n",
    "    [0,0,0,2-x]\n",
    "])\n",
    "\n",
    "A.det()"
   ]
  },
  {
   "source": [
    "## 3.3 Question 3\n",
    "\n",
    "List all of the distinct eigenvalues of A. Enter your answer as a list of numbers separated by commas."
   ],
   "cell_type": "markdown",
   "metadata": {}
  },
  {
   "cell_type": "code",
   "execution_count": 7,
   "metadata": {},
   "outputs": [
    {
     "output_type": "stream",
     "name": "stdout",
     "text": [
      "[5. 5.]\n"
     ]
    }
   ],
   "source": [
    "A = np.array([\n",
    "    [5,1],\n",
    "    [0,5]\n",
    "])\n",
    "\n",
    "print(np.linalg.eigvals(A))"
   ]
  },
  {
   "source": [
    "## 3.3 Question 4\n",
    "\n",
    "List all of the distinct eigenvalues of A. Enter your answer as a list of numbers separated by commas.\n"
   ],
   "cell_type": "markdown",
   "metadata": {}
  },
  {
   "cell_type": "code",
   "execution_count": 8,
   "metadata": {},
   "outputs": [
    {
     "output_type": "stream",
     "name": "stdout",
     "text": [
      "[ 1. -2.  0.]\n"
     ]
    }
   ],
   "source": [
    "A = np.array([\n",
    "    [1,-1,0],\n",
    "    [0,0,0],\n",
    "    [0,-2,-2]\n",
    "])\n",
    "\n",
    "print(np.linalg.eigvals(A))"
   ]
  },
  {
   "source": [
    "## 3.3 Question 5\n",
    "\n",
    "Find the basic eigenvectors of A corresponding to the eigenvalue λ."
   ],
   "cell_type": "markdown",
   "metadata": {}
  },
  {
   "cell_type": "code",
   "execution_count": 14,
   "metadata": {},
   "outputs": [
    {
     "output_type": "stream",
     "name": "stdout",
     "text": [
      "Eigen values ↓\n\n[2 1 2]\n \nEigen vectors (normalized) ↓\n\n[[ 0.         -0.81649658  0.70710678]\n [ 1.          0.40824829  0.        ]\n [ 0.          0.40824829 -0.70710678]]\n\n-------------------\n\nEigenvalue: 1\nEigenvector(s)↓\n\n[[[-2]\n  [1]\n  [1]]]\n \nEigenvalue: 2\nEigenvector(s)↓\n\n[[[0]\n  [1]\n  [0]]\n\n [[-1]\n  [0]\n  [1]]]\n \n-------------------\n\nEigenvector(s) of given eigenvalue, 2  ↓ \n\n[[[0]\n  [1]\n  [0]]\n\n [[-1]\n  [0]\n  [1]]]\n"
     ]
    }
   ],
   "source": [
    "A = np.array([\n",
    "    [0,0,-2],\n",
    "    [1,2,1],\n",
    "    [1,0,3]\n",
    "])\n",
    "\n",
    "evals,evecs = np.linalg.eig(A)\n",
    "evals = evals.astype(int)\n",
    "\n",
    "print('Eigen values ↓\\n')\n",
    "print(evals)\n",
    "print(' ')\n",
    "print('Eigen vectors (normalized) ↓\\n')\n",
    "print(evecs)\n",
    "\n",
    "print('\\n-------------------\\n')\n",
    "\n",
    "A = Matrix(A)\n",
    "sym_evecs = A.eigenvects()\n",
    "\n",
    "for i in range(len(sym_evecs)):\n",
    "    print('Eigenvalue:',sym_evecs[i][0])\n",
    "    print('Eigenvector(s)↓\\n')\n",
    "    print(np.array(sym_evecs[i][2]))\n",
    "    print(' ')\n",
    "\n",
    "print('-------------------\\n')\n",
    "# Change based on eigen value value of interest\n",
    "λ = int(2) \n",
    "\n",
    "print('Eigenvector(s) of given eigenvalue,',λ,' ↓ \\n')\n",
    "for i in range(len(sym_evecs)):\n",
    "    if sym_evecs[i][0] == λ:\n",
    "            print(np.array(sym_evecs[i][2][:]))"
   ]
  },
  {
   "cell_type": "code",
   "execution_count": 18,
   "metadata": {},
   "outputs": [
    {
     "output_type": "stream",
     "name": "stdout",
     "text": [
      "[0. 0. 0.]\n"
     ]
    }
   ],
   "source": [
    "A = np.array(A,dtype='float')\n",
    "v = np.array([-2,1,1]).T\n",
    "D = np.diag([1,1,1])\n",
    "\n",
    "print((A - D)@v)\n"
   ]
  },
  {
   "source": [
    "## 3.3 Question 6\n",
    "\n",
    "Find all distinct eigenvalues of A. Then find the basic eigenvectors of A corresponding to each eigenvalue.\n",
    "For each eigenvalue, specify the number of basic eigenvectors corresponding to that eigenvalue, then enter the eigenvalue followed by the basic eigenvectors corresponding to that eigenvalue.\n"
   ],
   "cell_type": "markdown",
   "metadata": {}
  },
  {
   "cell_type": "code",
   "execution_count": 11,
   "metadata": {},
   "outputs": [
    {
     "output_type": "stream",
     "name": "stdout",
     "text": [
      "Eigen values ↓\n\n[-3  3]\n \nEigen vectors (normalized) ↓\n\n[[-0.89442719 -0.70710678]\n [-0.4472136  -0.70710678]]\n\n-------------------\n\nEigenvalue: -3\nEigenvector(s)↓\n\n[[[2]\n  [1]]]\n \nEigenvalue: 3\nEigenvector(s)↓\n\n[[[1]\n  [1]]]\n \n"
     ]
    }
   ],
   "source": [
    "A = np.array([\n",
    "    [-9,12],\n",
    "    [-6,9]\n",
    "])\n",
    "\n",
    "evals,evecs = np.linalg.eig(A)\n",
    "evals = evals.astype(int)\n",
    "\n",
    "print('Eigen values ↓\\n')\n",
    "print(evals)\n",
    "print(' ')\n",
    "print('Eigen vectors (normalized) ↓\\n')\n",
    "print(evecs)\n",
    "\n",
    "print('\\n-------------------\\n')\n",
    "\n",
    "A = Matrix(A)\n",
    "sym_evecs = A.eigenvects()\n",
    "\n",
    "for i in range(len(sym_evecs)):\n",
    "    print('Eigenvalue:',sym_evecs[i][0])\n",
    "    print('Eigenvector(s)↓\\n')\n",
    "    print(np.array(sym_evecs[i][2]))\n",
    "    print(' ')"
   ]
  },
  {
   "source": [
    "## 3.3 Question 7 \n",
    "\n",
    "Find an invertible matrix P and a diagonal matrix D such that $P^{−1}AP=D$.\n"
   ],
   "cell_type": "markdown",
   "metadata": {}
  },
  {
   "cell_type": "code",
   "execution_count": 12,
   "metadata": {},
   "outputs": [
    {
     "output_type": "stream",
     "name": "stdout",
     "text": [
      "D =\n",
      "[[-3  0  0]\n",
      " [ 0  3  0]\n",
      " [ 0  0  1]]\n",
      " \n",
      "Eigenvalue: -3\n",
      "Eigenvector(s)↓\n",
      "\n",
      "[[[-2]\n",
      "  [-2]\n",
      "  [1]]]\n",
      " \n",
      "Eigenvalue: 1\n",
      "Eigenvector(s)↓\n",
      "\n",
      "[[[1/2]\n",
      "  [1]\n",
      "  [0]]]\n",
      " \n",
      "Eigenvalue: 3\n",
      "Eigenvector(s)↓\n",
      "\n",
      "[[[-1]\n",
      "  [-2]\n",
      "  [1]]]\n",
      " \n",
      "P = all eigenvectors in matrix\n"
     ]
    }
   ],
   "source": [
    "A = np.array([\n",
    "    [-9,5,-2],\n",
    "    [-12,7,-4],\n",
    "    [6,-3,3]\n",
    "])\n",
    "\n",
    "# eigendecomposition\n",
    "evals,evecs = np.linalg.eig(A)\n",
    "\n",
    "print('D =')\n",
    "print(np.diag(evals.astype(int)))\n",
    "print(' ')\n",
    "\n",
    "A = Matrix(A)\n",
    "sym_evecs = A.eigenvects()\n",
    "\n",
    "for i in range(len(sym_evecs)):\n",
    "    print('Eigenvalue:',sym_evecs[i][0])\n",
    "    print('Eigenvector(s)↓\\n')\n",
    "    print(np.array(sym_evecs[i][2]))\n",
    "    print(' ')\n",
    "\n",
    "print('P = all eigenvectors in matrix')\n"
   ]
  }
 ]
}