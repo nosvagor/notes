{
 "cells": [
  {
   "cell_type": "code",
   "execution_count": 2,
   "metadata": {},
   "outputs": [],
   "source": [
    "import numpy as np\n",
    "import matplotlib.pyplot as plt\n",
    "import math"
   ]
  },
  {
   "cell_type": "markdown",
   "metadata": {},
   "source": [
    "\n",
    "---\n",
    "# VIDEO: Computing rank: theory and practice\n",
    "---\n"
   ]
  },
  {
   "cell_type": "code",
   "execution_count": 3,
   "metadata": {},
   "outputs": [
    {
     "output_type": "stream",
     "name": "stdout",
     "text": [
      "rank = 4\n"
     ]
    }
   ],
   "source": [
    "# make a matrix\n",
    "m = 4\n",
    "n = 6\n",
    "\n",
    "# create a random matrix\n",
    "A = np.random.randn(m,n)\n",
    "\n",
    "# what is the largest possible rank?\n",
    "ra = np.linalg.matrix_rank(A)\n",
    "print('rank = ' + str(ra))\n",
    "\n",
    "# set last column to be repeat of penultimate column\n",
    "B = A\n",
    "B[:,-1] = B[:,-2]\n",
    "\n",
    "rb = np.linalg.matrix_rank(B)\n",
    "# print('rank = ' + str(rb))"
   ]
  },
  {
   "cell_type": "code",
   "execution_count": 4,
   "metadata": {},
   "outputs": [
    {
     "output_type": "stream",
     "name": "stdout",
     "text": [
      "2\n"
     ]
    }
   ],
   "source": [
    "A = np.array([[1,3,3],[5,-7,-7],[-5,2,2]])\n",
    "print(np.linalg.matrix_rank(A))"
   ]
  },
  {
   "cell_type": "code",
   "execution_count": 3,
   "metadata": {},
   "outputs": [
    {
     "output_type": "stream",
     "name": "stdout",
     "text": [
      "rank (w/o noise) = 3\nrank (with noise) = 4\n"
     ]
    }
   ],
   "source": [
    "## adding noise to a rank-deficient matrix\n",
    "\n",
    "# square for convenience\n",
    "A = np.round( 10*np.random.randn(m,m) )\n",
    "\n",
    "# reduce the rank\n",
    "A[:,-1] = A[:,-2]\n",
    "\n",
    "# noise level\n",
    "noiseamp = .001\n",
    "\n",
    "# add the noise\n",
    "B = A + noiseamp*np.random.randn(m,m)\n",
    "\n",
    "print('rank (w/o noise) = ' + str(np.linalg.matrix_rank(A)))\n",
    "print('rank (with noise) = ' + str(np.linalg.matrix_rank(B)))\n"
   ]
  },
  {
   "cell_type": "code",
   "execution_count": 4,
   "metadata": {},
   "outputs": [
    {
     "output_type": "stream",
     "name": "stdout",
     "text": [
      "(10, 10)\n5\n[[ 1.  0. -1.  0.  2.  1.  0.  0.  1.  1.]\n [-1. -2.  0. -2. -2. -1.  0. -2. -2. -1.]\n [-1. -2. -2. -2.  3.  4.  2. -1.  1.  2.]\n [ 2. -2. -5.  4.  7.  3.  2.  1.  2.  1.]\n [-1. -2. -2.  3.  3.  1.  0.  1.  1. -3.]\n [-3.  0.  1.  0. -1.  2.  2.  1.  0.  0.]\n [ 2.  1.  1. -1. -2. -3. -2. -1. -1.  0.]\n [-1. -2. -2.  1.  2.  2.  2.  0.  0.  0.]\n [-1.  1.  1. -1.  2.  2. -2.  1.  3. -1.]\n [ 1.  4.  3.  1. -2. -2. -2.  2.  1.  0.]]\n"
     ]
    }
   ],
   "source": [
    "m = 10\n",
    "n = 10\n",
    "r = 5\n",
    "\n",
    "A = np.round( np.random.randn(m,r) )\n",
    "B = np.round( np.random.randn(r,n) )\n",
    "\n",
    "C = A@B\n",
    "\n",
    "rank = str(np.linalg.matrix_rank(C))\n",
    "\n",
    "print(np.shape(C))\n",
    "print(rank)\n",
    "print(C)\n"
   ]
  },
  {
   "cell_type": "markdown",
   "metadata": {},
   "source": [
    "\n",
    "---\n",
    "# VIDEO: Rank of A^TA and AA^T\n",
    "---\n"
   ]
  },
  {
   "cell_type": "code",
   "execution_count": 7,
   "metadata": {},
   "outputs": [
    {
     "output_type": "stream",
     "name": "stdout",
     "text": [
      "AtA: 3x3, rank=3\nAAt: 14x14, rank=3\n"
     ]
    }
   ],
   "source": [
    "# matrix sizes\n",
    "m = 14\n",
    "n =  3\n",
    "\n",
    "# create matrices\n",
    "A = np.round( 10*np.random.randn(m,n) )\n",
    "\n",
    "AtA = A.T@A\n",
    "AAt = A@A.T\n",
    "\n",
    "# get matrix sizes\n",
    "sizeAtA = AtA.shape\n",
    "sizeAAt = AAt.shape\n",
    "\n",
    "# print info!\n",
    "print('AtA: %dx%d, rank=%d' %(sizeAtA[0],sizeAtA[1],np.linalg.matrix_rank(AtA)))\n",
    "print('AAt: %dx%d, rank=%d' %(sizeAAt[0],sizeAAt[1],np.linalg.matrix_rank(AAt)))\n"
   ]
  },
  {
   "cell_type": "code",
   "execution_count": 9,
   "metadata": {},
   "outputs": [
    {
     "output_type": "stream",
     "name": "stdout",
     "text": [
      "[-10.  -5.  -6.   5.  -0.] [ 4.  7.  0. 14. -0.]\n"
     ]
    }
   ],
   "source": [
    "# matrix sizes\n",
    "m = 2\n",
    "n = 5\n",
    "\n",
    "# create matrices\n",
    "A,B = np.round( 10*np.random.randn(m,n) )\n",
    "\n",
    "print(A,B)"
   ]
  },
  {
   "cell_type": "markdown",
   "metadata": {},
   "source": [
    "\n",
    "---\n",
    "# VIDEO: Making a matrix full-rank by \"shifting\"\n",
    "---\n"
   ]
  },
  {
   "cell_type": "code",
   "execution_count": 6,
   "metadata": {},
   "outputs": [
    {
     "output_type": "stream",
     "name": "stdout",
     "text": [
      "rank(w/o shift) = 29\nrank(with shift) = 30\n"
     ]
    }
   ],
   "source": [
    "# size of matrix\n",
    "m = 30\n",
    "\n",
    "# create the square symmetric matrix\n",
    "A = np.random.randn(m,m)\n",
    "A = np.round( 10*A.T@A )\n",
    "\n",
    "# reduce the rank\n",
    "A[:,0] = A[:,1]\n",
    "\n",
    "# shift amount (l=lambda)\n",
    "l = .01\n",
    "\n",
    "# new matrix\n",
    "B = A + l*np.eye(m,m)\n",
    "\n",
    "# print information\n",
    "print('rank(w/o shift) = %d' %np.linalg.matrix_rank(A))\n",
    "print('rank(with shift) = %d' %np.linalg.matrix_rank(B))\n"
   ]
  }
 ],
 "metadata": {
  "kernelspec": {
   "display_name": "Python 3.9.2 64-bit ('linear': venv)",
   "language": "python",
   "name": "python39264bitlinearvenv6ce40b61835845b0a51e3922e69d679e"
  },
  "language_info": {
   "codemirror_mode": {
    "name": "ipython",
    "version": 3
   },
   "file_extension": ".py",
   "mimetype": "text/x-python",
   "name": "python",
   "nbconvert_exporter": "python",
   "pygments_lexer": "ipython3",
   "version": "3.9.3-final"
  }
 },
 "nbformat": 4,
 "nbformat_minor": 2
}