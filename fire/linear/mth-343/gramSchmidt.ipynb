{
  "nbformat": 4,
  "nbformat_minor": 0,
  "metadata": {
    "colab": {
      "name": "Copy of Orthonormalizer.ipynb",
      "provenance": [],
      "collapsed_sections": []
    },
    "kernelspec": {
      "display_name": "Python 3",
      "name": "python3"
    },
    "language_info": {
      "name": "python"
    }
  },
  "cells": [
    {
      "cell_type": "markdown",
      "metadata": {
        "id": "ieiLttNTETqs"
      },
      "source": [
        "# Implementing Gram-Schmidt\n",
        "Gram-Scmidt process involes two steps:\n",
        "- Orthogonalize each column, relative to previous columns\n",
        "- Normalize each column, yielding unit vectors.\n",
        "\n",
        "## Checks to verify accuracy\n",
        "- $Q^T Q = I$\n",
        "- Compare against numpy's implementation of qr decomposition. `np.linalg.qr()`\n",
        "\n"
      ]
    },
    {
      "cell_type": "code",
      "metadata": {
        "id": "nZi2uu-m7zHF"
      },
      "source": [
        "import numpy as np\n",
        "from sympy import Matrix"
      ],
      "execution_count": 1,
      "outputs": []
    },
    {
      "cell_type": "code",
      "metadata": {
        "id": "GD66MvD89n1h"
      },
      "source": [
        "def proj(a,b):\n",
        "  mapping = a @ b\n",
        "  magnitude = a.T @ a\n",
        "  projection = a * mapping / magnitude\n",
        "  return projection"
      ],
      "execution_count": 2,
      "outputs": []
    },
    {
      "cell_type": "code",
      "metadata": {
        "colab": {
          "base_uri": "https://localhost:8080/",
          "height": 114
        },
        "id": "lc01yIYl7DYd",
        "outputId": "782d78cb-b69a-4cef-8fa5-0adc91158a18"
      },
      "source": [
        "m = 3\n",
        "n = 3\n",
        "A = np.random.randint(-9,9,size=(m,n))  # unlikely that columns will be dependent\n",
        "Q = np.zeros((m,n))\n",
        "\n",
        "print(\"A = \\n\")\n",
        "Matrix(A)"
      ],
      "execution_count": 3,
      "outputs": [
        {
          "output_type": "stream",
          "name": "stdout",
          "text": [
            "A = \n",
            "\n"
          ]
        },
        {
          "output_type": "execute_result",
          "data": {
            "text/latex": "$\\displaystyle \\left[\\begin{matrix}8 & -5 & 8\\\\-9 & -9 & -1\\\\3 & 6 & -9\\end{matrix}\\right]$",
            "text/plain": [
              "Matrix([\n",
              "[ 8, -5,  8],\n",
              "[-9, -9, -1],\n",
              "[ 3,  6, -9]])"
            ]
          },
          "metadata": {},
          "execution_count": 3
        }
      ]
    },
    {
      "cell_type": "code",
      "metadata": {
        "id": "Gm1ZLfd_8AOA"
      },
      "source": [
        "for i in range(n):\n",
        "\n",
        "  # set current column of A to current column of Q\n",
        "  a = A[:,i]\n",
        "  Q[:,i] = a\n",
        "\n",
        "  # Step 1: orthogonalize the column in Q relative to previous columns\n",
        "  for j in range(i): \n",
        "    q = Q[:,j]\n",
        "    Q[:,i] = Q[:,i] - proj(q, a)\n",
        "\n",
        "  # Step 2: normalize the column, yielding an orthogonal unit vector\n",
        "  Q[:,i] =  Q[:,i]  / np.dot(Q[:,i], Q[:,i])**0.5"
      ],
      "execution_count": 4,
      "outputs": []
    },
    {
      "cell_type": "code",
      "metadata": {
        "id": "9Mdcsb6nAqYJ",
        "colab": {
          "base_uri": "https://localhost:8080/",
          "height": 114
        },
        "outputId": "d7919036-f592-4bd5-ac2f-14781a85b74d"
      },
      "source": [
        "# result\n",
        "print(\"Q = \\n\")\n",
        "Matrix(np.round(Q,2))"
      ],
      "execution_count": 5,
      "outputs": [
        {
          "output_type": "stream",
          "name": "stdout",
          "text": [
            "Q = \n",
            "\n"
          ]
        },
        {
          "output_type": "execute_result",
          "data": {
            "text/latex": "$\\displaystyle \\left[\\begin{matrix}0.64 & -0.74 & -0.2\\\\-0.73 & -0.51 & -0.46\\\\0.24 & 0.44 & -0.86\\end{matrix}\\right]$",
            "text/plain": [
              "Matrix([\n",
              "[ 0.64, -0.74,  -0.2],\n",
              "[-0.73, -0.51, -0.46],\n",
              "[ 0.24,  0.44, -0.86]])"
            ]
          },
          "metadata": {},
          "execution_count": 5
        }
      ]
    },
    {
      "cell_type": "code",
      "metadata": {
        "id": "HxPWTnkfAIU7",
        "colab": {
          "base_uri": "https://localhost:8080/",
          "height": 78
        },
        "outputId": "e46b1d3b-56a4-444a-cefc-1163eec06973"
      },
      "source": [
        "# QT @ Q should = I\n",
        "Matrix(np.round(Q.T@Q, 2))"
      ],
      "execution_count": 6,
      "outputs": [
        {
          "output_type": "execute_result",
          "data": {
            "text/latex": "$\\displaystyle \\left[\\begin{matrix}1.0 & 0.0 & 0.0\\\\0.0 & 1.0 & 0.0\\\\0.0 & 0.0 & 1.0\\end{matrix}\\right]$",
            "text/plain": [
              "Matrix([\n",
              "[1.0, 0.0, 0.0],\n",
              "[0.0, 1.0, 0.0],\n",
              "[0.0, 0.0, 1.0]])"
            ]
          },
          "metadata": {},
          "execution_count": 6
        }
      ]
    },
    {
      "cell_type": "code",
      "metadata": {
        "id": "eu1ec0ydBOxc",
        "colab": {
          "base_uri": "https://localhost:8080/",
          "height": 114
        },
        "outputId": "44d13646-a21d-473e-85d9-212aa5fff4a5"
      },
      "source": [
        "Q_np, R = np.linalg.qr(A, \"complete\")\n",
        "\n",
        "# sign flips are arbitrary\n",
        "print(\"numpy's Q = \\n\")\n",
        "Matrix(np.round(Q_np,2))"
      ],
      "execution_count": 7,
      "outputs": [
        {
          "output_type": "stream",
          "name": "stdout",
          "text": [
            "numpy's Q = \n",
            "\n"
          ]
        },
        {
          "output_type": "execute_result",
          "data": {
            "text/latex": "$\\displaystyle \\left[\\begin{matrix}-0.64 & -0.74 & 0.2\\\\0.73 & -0.51 & 0.46\\\\-0.24 & 0.44 & 0.86\\end{matrix}\\right]$",
            "text/plain": [
              "Matrix([\n",
              "[-0.64, -0.74,  0.2],\n",
              "[ 0.73, -0.51, 0.46],\n",
              "[-0.24,  0.44, 0.86]])"
            ]
          },
          "metadata": {},
          "execution_count": 7
        }
      ]
    }
  ]
}