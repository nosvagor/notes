{
  "nbformat": 4,
  "nbformat_minor": 0,
  "metadata": {
    "colab": {
      "name": "Copy of HW2.ipynb",
      "provenance": [],
      "collapsed_sections": []
    },
    "kernelspec": {
      "name": "python3",
      "display_name": "Python 3"
    },
    "language_info": {
      "name": "python"
    }
  },
  "cells": [
    {
      "cell_type": "markdown",
      "source": [
        "## Stationary iterative method\n",
        "\n",
        "A stationary iterative method for solving $Ax = b$ can be defined on the basis of a matrix $B$ which is much simpler to solve system with than with $A$.For exmaple,$B$ can be a diagonal matrix, or an invertible(lower or upper) triangular matrix. Then a simple stationary iterative method reads as follow:"
      ],
      "metadata": {
        "id": "ee_NAqHwauoh"
      }
    },
    {
      "cell_type": "markdown",
      "source": [
        "Given an invertible matrix $B$, for solving $Ax=b$, we proceed as follows: \\\\\n",
        "$\\bullet$ Choose an arbitrary $x_0$(zero or random); \\\\\n",
        "$\\bullet$ For $k$ = 1,2,...,until a stopping criterion is satisfied, we solve for $x_k$ the system for equations with $B$:\n",
        "\n",
        "#<center>$B(x_k - x_{k-1}) = b - Ax_{k_1}$</center>\n",
        "Equivalently, we compute the residual\n",
        "#<center> $r_{k-1} = b - Ax_{k-1}$ </center>\n",
        "and then solve for the correction $z_k$\n",
        "#<center> $Bz_k = r_{k-1}$ </center>\n",
        "The next iterate $x_k$ is obtained by updating the previous one, $x_{k-1}$ with the correction $z_k$,\n",
        "#<center> $x_k = x_{k-1} + z_k$ </center>\n"
      ],
      "metadata": {
        "id": "f7q7x826bQt_"
      }
    },
    {
      "cell_type": "markdown",
      "source": [
        "# $L_1 smoother$\n",
        "Let $D$ = diag($d_i$) where $d_i$ = $\\sum_{j=1}^{n} |a_{ij}|$, the rowsum of the absolute values of the entries of $A$ in each row, $D$ is referred to as the $l_1$ smoother. It has the property that $D - A$ is symmetric positive semidefinite,hence it provides a convergent stationary iteration method."
      ],
      "metadata": {
        "id": "YEeLndVqeAvD"
      }
    },
    {
      "cell_type": "markdown",
      "source": [
        "## $Gauss-Seidel$ method\n",
        "\n",
        "Let $A$ be split as $A = D + L + L^{T}$, where $D$ is its diagonal and $L$ is its strictly lower triangular part.\n",
        "\n",
        "$\\bullet$ Consider $B = D + L$ which is an invertible lower triangular matrix. It gives a stationary iterative method referred to as the (forward) Gauss-Seidel method.\n",
        "\n",
        "$\\bullet$ Similarly, if $B = D + L^{T}$(the upper triangular part of A) gives a stationary iterative method referred to as the (backward)Gauss-Seidel method\n",
        "\n",
        "$\\bullet$ Finally, the factored matrix $B = (D+L)D^{-1}(D+L^{T})$ gives a convergent stationary iterative method referred to as the symmetric Gauss-Seidel iteration method."
      ],
      "metadata": {
        "id": "31uGj39Dezwl"
      }
    },
    {
      "cell_type": "markdown",
      "source": [
        "# Your tasks\n",
        "Write an iterative algorithm for solving $Ax = b$ for a given sparse s.p.d matrix $A$ stored in $csr$ format. The ```function``` should take as input: \\\\\n",
        "$\\bullet$ matrix ```A```, ```b```,initial iterate ```x_0```, maximal number of iterations ```max_iter```, tolerance ```e```. \\\\\n",
        "$\\bullet$ on ouput produces: number of iterations, iter, residual norm δ = $||r||$;accuracy achieved, i.e, $\\frac{||r||}{||r_0||}$, where δ = $||r_0||$ is the norm of the initial residual."
      ],
      "metadata": {
        "id": "W8VOqAdQgAR7"
      }
    },
    {
      "cell_type": "markdown",
      "source": [
        "For iteration matrix B, use: \\\\\n",
        "(i) the diagonal matrix $D$ representing the $l_1$ - smoother. \\\\\n",
        "(ii) the forward Gauss-Seidel iteration matrix preferably implemented as lower triangular solve (from Homework 1). \\\\\n",
        "(iii) the backward Gauss-Seidel iteration matrix preferably as  upper triangular solve (from Homework 1). \\\\\n",
        "(iv) the symmetric Gauss-Seidel iteration matrix preferably as two consecutive calls (one to lower triangular solve and another one to upper triangular solve). \\\\"
      ],
      "metadata": {
        "id": "CTiea8eDh3WN"
      }
    },
    {
      "cell_type": "code",
      "execution_count": null,
      "metadata": {
        "id": "9ocJk-qFN3ZN"
      },
      "outputs": [],
      "source": [
        "from pandas import read_csv"
      ]
    },
    {
      "cell_type": "code",
      "source": [
        "def read_matrix(filepath):\n",
        "    df = read_csv(filepath,\n",
        "                  sep=\" \",\n",
        "                  header=None)\n",
        "    df.columns = [\"col\", \"row\", \"data\"]\n",
        "    mtx = coo_matrix((df[\"data\"], (df[\"row\"], df[\"col\"]))).tocsr()\n",
        "    return mtx\n",
        "    "
      ],
      "metadata": {
        "id": "00iyeJAzN6cX"
      },
      "execution_count": null,
      "outputs": []
    },
    {
      "cell_type": "markdown",
      "source": [
        "# make inverse diagonal matrix\n",
        "Here we need to write a function that takes ```A``` in $csr$ format and return it's inverse diagal."
      ],
      "metadata": {
        "id": "_zF-oPLQifWd"
      }
    },
    {
      "cell_type": "code",
      "source": [
        "def make_inverse_diag_mtx(A):\n",
        "    return csr_matrix\n",
        "    "
      ],
      "metadata": {
        "id": "yesKHEnlOAsX"
      },
      "execution_count": null,
      "outputs": []
    },
    {
      "cell_type": "markdown",
      "source": [
        "# Forward and backward substitution function\n",
        "Use the function you wrote from homework 1 or use a package."
      ],
      "metadata": {
        "id": "zJb1LRqUjO8n"
      }
    },
    {
      "cell_type": "code",
      "source": [
        "def forward_subs(lower, b):\n",
        "    return y\n",
        "\n",
        "def backward_subs(upper, y):\n",
        "    return x\n",
        "    "
      ],
      "metadata": {
        "id": "kMTawr-yOBFX"
      },
      "execution_count": null,
      "outputs": []
    }
  ]
}