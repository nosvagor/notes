{
 "cells": [
  {
   "cell_type": "code",
   "execution_count": 2,
   "metadata": {},
   "outputs": [],
   "source": [
    "import numpy as np"
   ]
  },
  {
   "cell_type": "markdown",
   "metadata": {},
   "source": [
    "\n",
    "---\n",
    "# VIDEO: A zoo of matrices\n",
    "---\n"
   ]
  },
  {
   "cell_type": "code",
   "execution_count": 3,
   "metadata": {},
   "outputs": [
    {
     "output_type": "stream",
     "name": "stdout",
     "text": [
      "[[ 2.25233838 -0.13009994 -0.83346301  0.67198549  1.54724722]\n [ 0.56453664  0.72394576 -0.23668359 -0.46701518 -1.04837582]\n [-1.01081597 -0.38514792 -0.45030101 -0.64328299  2.17698677]\n [-0.45589683 -0.47892496  0.47500161 -0.078508   -0.51358343]\n [ 0.75936164 -0.73246071  0.68335829 -0.16791855  0.25291615]]\n \n[[ 0.67132     0.2860495 ]\n [ 0.373048   -0.80651901]\n [ 0.42062892  0.31782866]\n [ 0.50664305  0.86663881]\n [ 1.93347033  0.65998893]]\n[[1. 0. 0.]\n [0. 1. 0.]\n [0. 0. 1.]]\n \n[[0. 0. 0. 0.]\n [0. 0. 0. 0.]\n [0. 0. 0. 0.]\n [0. 0. 0. 0.]]\n \n[[1 0 0 0 0]\n [0 2 0 0 0]\n [0 0 3 0 0]\n [0 0 0 5 0]\n [0 0 0 0 2]]\n \n[[ 0.42450926  0.          0.          0.          0.        ]\n [-1.28333014  0.87606438  0.          0.          0.        ]\n [ 0.69125555  0.35097191  0.14649183  0.          0.        ]\n [-1.36265645 -0.3394134   0.00980883  0.58252251  0.        ]\n [ 0.64638355 -1.36202177  1.9614332  -0.21562696  0.90568654]]\n \n[[-0.31393592  1.74505586 -0.29074925 -1.07859333  0.03008376  0.06731143]\n [ 0.20263746 -0.19785306  1.20512093  0.45486519  0.0350539  -0.01739193]\n [ 0.53970116  0.40065308  0.97824617  2.02686693 -1.1742165   1.78819143]\n [-0.3567367   0.22299073  2.94324785  1.68504638  0.24140909 -1.06215613]]\n"
     ]
    }
   ],
   "source": [
    "\n",
    "# square vs. rectangular\n",
    "S = np.random.randn(5,5)\n",
    "R = np.random.randn(5,2) # 5 rows, 2 columns\n",
    "print(S), print(' ')\n",
    "print(R)\n",
    "\n",
    "# identity\n",
    "I = np.eye(3)\n",
    "print(I), print(' ')\n",
    "\n",
    "# zeros\n",
    "Z = np.zeros((4,4))\n",
    "print(Z), print(' ')\n",
    "\n",
    "# diagonal\n",
    "D = np.diag([ 1, 2, 3, 5, 2 ])\n",
    "print(D), print(' ')\n",
    "\n",
    "# create triangular matrix from full matrices\n",
    "S = np.random.randn(5,5)\n",
    "U = np.triu(S)\n",
    "L = np.tril(S)\n",
    "print(L), print(' ')\n",
    "\n",
    "# concatenate matrices (sizes must match!)\n",
    "A = np.random.randn(4,2)\n",
    "B = np.random.randn(4,4)\n",
    "C = np.concatenate((A,B),axis=1)\n",
    "print(C)"
   ]
  },
  {
   "cell_type": "markdown",
   "metadata": {},
   "source": [
    "\n",
    "---\n",
    "# VIDEO: Matrix addition and subtraction\n",
    "---\n"
   ]
  },
  {
   "cell_type": "code",
   "execution_count": 3,
   "metadata": {},
   "outputs": [
    {
     "output_type": "stream",
     "name": "stdout",
     "text": [
      "[[ 0.07750587  0.07446618  1.07585865  1.69913408 -0.47180239]\n [ 1.17126061  1.38445814  0.41921586 -0.93142656 -1.85059947]\n [-0.15173269  0.16818307  0.63310615 -0.31305661  1.28960705]\n [ 0.90175407  0.97718882 -1.86195469  0.62735069 -0.1992067 ]\n [-2.48342675  0.87540086  0.76149126  0.12250908 -0.10380067]]\n \n[[23.07750587  0.07446618  1.07585865  1.69913408 -0.47180239]\n [ 1.17126061 24.38445814  0.41921586 -0.93142656 -1.85059947]\n [-0.15173269  0.16818307 23.63310615 -0.31305661  1.28960705]\n [ 0.90175407  0.97718882 -1.86195469 23.62735069 -0.1992067 ]\n [-2.48342675  0.87540086  0.76149126  0.12250908 22.89619933]]\n"
     ]
    },
    {
     "output_type": "execute_result",
     "data": {
      "text/plain": [
       "(None, None, None)"
      ]
     },
     "metadata": {},
     "execution_count": 3
    }
   ],
   "source": [
    "\n",
    "# create random matrices\n",
    "A = np.round(np.random.randn(2,2))\n",
    "B = np.round(np.random.randn(2,2))\n",
    "C = np.round(np.random.randn(2,2))\n",
    "\n",
    "# try to add them\n",
    "# A+B\n",
    "A+C\n",
    "\n",
    "\n",
    "\n",
    "# \"shifting\" a matrix\n",
    "l = 23 # lambda\n",
    "N = 5  # size of square matrix\n",
    "D = np.random.randn(N,N) # can only shift a square matrix\n",
    "\n",
    "Ds = D + l*np.eye(N)\n",
    "print(D), print(' '), print(Ds)"
   ]
  },
  {
   "cell_type": "markdown",
   "metadata": {},
   "source": [
    "\n",
    "---\n",
    "# VIDEO: Matrix-scalar multiplication\n",
    "---\n"
   ]
  },
  {
   "cell_type": "code",
   "execution_count": 2,
   "metadata": {},
   "outputs": [
    {
     "output_type": "stream",
     "name": "stdout",
     "text": [
      "[[ 2  4]\n [ 4 10]]\n[[ 2  4]\n [ 4 10]]\n"
     ]
    }
   ],
   "source": [
    "# define matrix and scalar\n",
    "M = np.array([ [1, 2], [2, 5] ])\n",
    "s = 2\n",
    "\n",
    "# pre- and post-multiplication is the same:\n",
    "print( M*s )\n",
    "print( s*M )\n"
   ]
  },
  {
   "cell_type": "code",
   "execution_count": 15,
   "metadata": {},
   "outputs": [
    {
     "output_type": "stream",
     "name": "stdout",
     "text": [
      "[[ 0.00000000e+00  0.00000000e+00 -6.50521303e-19  0.00000000e+00\n  -2.77555756e-17]\n [ 0.00000000e+00  1.38777878e-17  0.00000000e+00  0.00000000e+00\n  -1.11022302e-16]\n [ 0.00000000e+00  2.77555756e-17  0.00000000e+00  2.77555756e-17\n   1.73472348e-17]\n [ 0.00000000e+00  6.93889390e-18  5.55111512e-17  5.55111512e-17\n   1.38777878e-17]\n [ 0.00000000e+00  0.00000000e+00  0.00000000e+00 -2.77555756e-17\n  -8.67361738e-19]\n [-5.55111512e-17  0.00000000e+00  1.04083409e-17  0.00000000e+00\n   0.00000000e+00]]\n"
     ]
    }
   ],
   "source": [
    "# code challenge: l(A+B) =? sA + sB\n",
    "\n",
    "m,n = 5,6\n",
    "A = np.random.randn(n,m)\n",
    "B = np.random.randn(n,m)\n",
    "\n",
    "l = np.random.randn()\n",
    "\n",
    "res1 = l * (A + B)\n",
    "res2 = l * A + l * B\n",
    "\n",
    "print(res1 == res2)\n",
    "\n",
    "# nope! \n"
   ]
  },
  {
   "cell_type": "markdown",
   "metadata": {},
   "source": [
    "# VIDEO: Transpose"
   ]
  },
  {
   "cell_type": "code",
   "execution_count": null,
   "metadata": {},
   "outputs": [],
   "source": [
    "M = np.array([ [1,2,3],\n",
    "               [2,3,4] ])\n",
    "\n",
    "print(M), print('')\n",
    "print(M.T), print('') # one transpose\n",
    "print(M.T.T), print('') # double-transpose returns the original matrix\n",
    "\n",
    "# can also use the function transpose\n",
    "print(np.transpose(M))"
   ]
  },
  {
   "cell_type": "code",
   "execution_count": null,
   "metadata": {},
   "outputs": [],
   "source": [
    "# warning! be careful when using complex matrices\n",
    "C = np.array([ [4+1j , 3 , 2-4j] ])\n",
    "\n",
    "print(C), print('')\n",
    "print(C.T), print('')\n",
    "print(np.transpose(C)), print('')\n",
    "\n",
    "# Note: In MATLAB, the transpose is the Hermitian transpose; \n",
    "#       in Python, you need to call the Hermitian explicitly by first converting from an array into a matrix\n",
    "print(np.matrix(C).H) # note the sign flips!\n"
   ]
  },
  {
   "cell_type": "markdown",
   "metadata": {},
   "source": [
    "\n",
    "---\n",
    "# VIDEO: Diagonal and trace\n",
    "---\n"
   ]
  },
  {
   "cell_type": "code",
   "execution_count": null,
   "metadata": {},
   "outputs": [],
   "source": [
    "\n",
    "M = np.round( 6*np.random.randn(4,4) )\n",
    "print(M), print(' ')\n",
    "# extract the diagonals\n",
    "d = np.diag(M)\n",
    "\n",
    "# notice the two ways of using the diag function\n",
    "d = np.diag(M) # input is matrix, output is vector\n",
    "D = np.diag(d) # input is vector, output is matrix\n",
    "print(d)\n",
    "print(D)\n",
    "\n",
    "# trace as sum of diagonal elements\n",
    "tr = np.trace(M)\n",
    "tr2 = sum( np.diag(M) )\n",
    "print(tr,tr2)"
   ]
  },
  {
   "cell_type": "markdown",
   "metadata": {},
   "source": [
    "\n",
    "---\n",
    "# VIDEO: Broadcasting matrix arithmetic\n",
    "---\n"
   ]
  },
  {
   "cell_type": "code",
   "execution_count": null,
   "metadata": {},
   "outputs": [],
   "source": [
    "# create a matrix\n",
    "A = np.reshape(np.arange(1,13),(3,4),'F') # F=column, C=row\n",
    "\n",
    "# and two vectors\n",
    "r = [ 10, 20, 30, 40 ]\n",
    "c = [ 100, 200, 300 ]\n",
    "\n",
    "print(A), print(' ')\n",
    "print(r), print(' ')\n",
    "print(c), print(' ');"
   ]
  },
  {
   "cell_type": "code",
   "execution_count": null,
   "metadata": {},
   "outputs": [],
   "source": [
    "# broadcast on the rows\n",
    "# print(A+r), print(' ')\n",
    "\n",
    "# broadcast on the columns\n",
    "print(A+c)\n",
    "# print(A+np.reshape(c,(len(c),1))) # only works for explicit column vectors\n"
   ]
  }
 ],
 "metadata": {
  "kernelspec": {
   "display_name": "Python 3",
   "language": "python",
   "name": "python3"
  },
  "language_info": {
   "codemirror_mode": {
    "name": "ipython",
    "version": 3
   },
   "file_extension": ".py",
   "mimetype": "text/x-python",
   "name": "python",
   "nbconvert_exporter": "python",
   "pygments_lexer": "ipython3",
   "version": "3.9.4-final"
  }
 },
 "nbformat": 4,
 "nbformat_minor": 2
}