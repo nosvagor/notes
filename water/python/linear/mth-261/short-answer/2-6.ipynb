{
 "metadata": {
  "language_info": {
   "codemirror_mode": {
    "name": "ipython",
    "version": 3
   },
   "file_extension": ".py",
   "mimetype": "text/x-python",
   "name": "python",
   "nbconvert_exporter": "python",
   "pygments_lexer": "ipython3",
   "version": "3.9.4-final"
  },
  "orig_nbformat": 2,
  "kernelspec": {
   "name": "python39264bitlinearvenv6ce40b61835845b0a51e3922e69d679e",
   "display_name": "Python 3.9.2 64-bit ('linear': venv)"
  }
 },
 "nbformat": 4,
 "nbformat_minor": 2,
 "cells": [
  {
   "cell_type": "code",
   "execution_count": 28,
   "metadata": {},
   "outputs": [],
   "source": [
    "import numpy as np\n",
    "from sympy import *\n",
    "# from fractions import Fraction\n",
    "# np.set_printoptions(formatter={'all':lambda x: str(Fraction(x).limit_denominator())})"
   ]
  },
  {
   "source": [
    "## Question 1\n",
    "\n",
    "Find a formula for T(x), where x is any vector in ℝ2"
   ],
   "cell_type": "markdown",
   "metadata": {}
  },
  {
   "cell_type": "code",
   "execution_count": 29,
   "metadata": {},
   "outputs": [
    {
     "output_type": "stream",
     "name": "stdout",
     "text": [
      "[['-10x' '8y' '-8z']\n ['-4x' '-4y' '1z']]\n"
     ]
    }
   ],
   "source": [
    "Te1 = [-10,-4]\n",
    "Te2 = [8,-4]\n",
    "Te3 = [-8,1] # If in ℝ2, then put 0s here\n",
    "\n",
    "Tx,Ty,Tz = [],[],[]\n",
    "\n",
    "for i in Te1:\n",
    "    Tx.append(str(i)+'x')\n",
    "for i in Te2:\n",
    "    Ty.append(str(i)+'y')\n",
    "for i in Te3:\n",
    "    Tz.append(str(i)+'z')\n",
    "\n",
    "Txy = np.array([Tx,Ty,Tz])\n",
    "\n",
    " # Ignore zeros if in ℝ2\n",
    " # Result should be a vector with elements of each row added together. \n",
    "print(Txy.T)\n",
    "# E.g.,\n",
    "# T[xyz] = [-10x-8y-8z, -4x-4y+z]\n"
   ]
  },
  {
   "source": [
    "## Question 2\n",
    "\n",
    "Suppose T: ℝ3→ℝ2 is a linear transformation. Let u and v be the vectors given below, and suppose that T(u) and T(v) are as given. Find given transformation."
   ],
   "cell_type": "markdown",
   "metadata": {}
  },
  {
   "cell_type": "code",
   "execution_count": 30,
   "metadata": {},
   "outputs": [
    {
     "output_type": "stream",
     "name": "stdout",
     "text": [
      "[[-44]\n [ 52]]\n"
     ]
    }
   ],
   "source": [
    "Tu = np.array([[-1,2]])\n",
    "Tv = np.array([[-15,18]])\n",
    "\n",
    "# This needs to match T(x*u (+-) y*v) given\n",
    "T = -1*Tu+3*Tv\n",
    "\n",
    "print(T.T)\n"
   ]
  },
  {
   "source": [
    "## Question 3\n",
    "\n",
    "Suppose T: ℝ3→ℝ2 is a linear transformation. Let u, v and w be the vectors given below, and suppose that T(u) and T(v) are as given. Find T(w)"
   ],
   "cell_type": "markdown",
   "metadata": {}
  },
  {
   "cell_type": "code",
   "execution_count": 31,
   "metadata": {},
   "outputs": [
    {
     "output_type": "stream",
     "name": "stdout",
     "text": [
      "Scalars = \n[[1]\n [3]] \n\nw = k*u + l*v\n[[8]\n [-9]] \n\nDoes k*u + l*v = w?\n[[ True]\n [ True]] \n\nT(w) =\n[[51]\n [-43]\n [-61]]\n"
     ]
    }
   ],
   "source": [
    "u = np.array([[2,-3]]).T\n",
    "v = np.array([[2,-2]]).T\n",
    "w = np.array([[8,-9]]).T\n",
    "\n",
    "# Turn vectors into matrix, rref, then extract solution (i.e., the scalars needed to make w from u and v)\n",
    "uvw = Matrix(np.concatenate((u,v,w),axis=1)).rref()\n",
    "scalars = np.array(uvw[0])[:,2:]\n",
    "\n",
    "print('Scalars = ')\n",
    "print(scalars,'\\n')\n",
    "\n",
    "Tu = np.array([[15,-13,-19]]).T\n",
    "Tv = np.array([[12,-10,-14]]).T\n",
    "\n",
    "# Test scalars\n",
    "k = scalars[0][0]\n",
    "l = scalars[1][0]\n",
    "\n",
    "T = k*u + l*v\n",
    "\n",
    "print('w = k*u + l*v')\n",
    "print(T,'\\n')\n",
    "\n",
    "print(\"Does k*u + l*v = w?\")\n",
    "print(w==T,'\\n')\n",
    "\n",
    "Tw = k*Tu + l*Tv\n",
    "\n",
    "print('T(w) =')\n",
    "print(Tw)"
   ]
  },
  {
   "source": [
    "## Question 4\n",
    "\n",
    "Let A be the matrix below and define a transformation T:ℝ3→ℝ3 by T(u) = Au. For the vector b below, find a vector u such that T maps u to b, if possible. Otherwise state that there is no such u."
   ],
   "cell_type": "markdown",
   "metadata": {}
  },
  {
   "cell_type": "code",
   "execution_count": 32,
   "metadata": {},
   "outputs": [
    {
     "output_type": "stream",
     "name": "stdout",
     "text": [
      "[[-1]\n [-2]\n [3]]\n"
     ]
    }
   ],
   "source": [
    "A = np.array([\n",
    "    [3,6,3],\n",
    "    [-3,-3,-9],\n",
    "    [-1,1,-6]\n",
    "])\n",
    "\n",
    "b = np.array([[-6,-18,-19]]).T\n",
    "\n",
    "# Similar to question 3, create augmented matrix in order \n",
    "# to find vector u, which describes transformation needed \n",
    "Ab = Matrix(np.concatenate((A,b),axis=1)).rref()\n",
    "u = np.array(Ab[0])[:,3:]\n",
    "\n",
    "print(u)"
   ]
  },
  {
   "source": [
    "\n",
    "## Question 5\n",
    "\n",
    "Let A be the matrix below and define a transformation T:ℝ3→ℝ3 by T(u) = Au. For the vector b below, find a vector u such that T maps u to b, if possible. Otherwise state that there is no such u.\n",
    "\n"
   ],
   "cell_type": "markdown",
   "metadata": {}
  },
  {
   "cell_type": "code",
   "execution_count": 33,
   "metadata": {},
   "outputs": [
    {
     "output_type": "stream",
     "name": "stdout",
     "text": [
      "[[0]\n [1]\n [0]]\n"
     ]
    }
   ],
   "source": [
    "A = np.array([\n",
    "    [0,3,3],\n",
    "    [0,1,1],\n",
    "    [1,-3,0]\n",
    "])\n",
    "\n",
    "b = np.array([[3,1,-3]]).T\n",
    "\n",
    "# Similar to question 3, create augmented matrix in order \n",
    "# to find vector u, which describes transformation needed \n",
    "Ab = Matrix(np.concatenate((A,b),axis=1)).rref()\n",
    "u = np.array(Ab[0])[:,3:]\n",
    "\n",
    "print(u)"
   ]
  },
  {
   "source": [
    "## Question 6\n",
    "\n",
    "Suppose T is a transformation from ℝ2 to ℝ2. Find the matrix A that induces T if T is rotation by given θ."
   ],
   "cell_type": "markdown",
   "metadata": {}
  },
  {
   "cell_type": "code",
   "execution_count": 34,
   "metadata": {},
   "outputs": [
    {
     "output_type": "stream",
     "name": "stdout",
     "text": [
      "[[-0.5       -0.8660254]\n [ 0.8660254 -0.5      ]]\n"
     ]
    }
   ],
   "source": [
    "import math\n",
    "\n",
    "# Given angle can change \n",
    "θ = 2/3 * math.pi\n",
    "\n",
    "A = np.array([\n",
    "    [math.cos(θ), -1* math.sin(θ)],\n",
    "    [math.sin(θ), math.cos(θ)]\n",
    "])\n",
    "\n",
    "print(A)"
   ]
  }
 ]
}