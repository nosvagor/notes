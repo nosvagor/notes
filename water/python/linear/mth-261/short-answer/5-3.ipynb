{
 "metadata": {
  "language_info": {
   "codemirror_mode": {
    "name": "ipython",
    "version": 3
   },
   "file_extension": ".py",
   "mimetype": "text/x-python",
   "name": "python",
   "nbconvert_exporter": "python",
   "pygments_lexer": "ipython3",
   "version": "3.9.5-final"
  },
  "orig_nbformat": 2,
  "kernelspec": {
   "name": "python39264bitlinearvenv6ce40b61835845b0a51e3922e69d679e",
   "display_name": "Python 3.9.2 64-bit ('linear': venv)"
  }
 },
 "nbformat": 4,
 "nbformat_minor": 2,
 "cells": [
  {
   "cell_type": "code",
   "execution_count": 1,
   "metadata": {},
   "outputs": [],
   "source": [
    "import numpy as np\n",
    "from sympy import *\n",
    "from termcolor import colored"
   ]
  },
  {
   "cell_type": "code",
   "execution_count": 2,
   "metadata": {},
   "outputs": [],
   "source": [
    "# Functions for problems\n",
    "\n",
    "def nodiag_view(a):\n",
    "    m = a.shape[0]\n",
    "    p,q = a.strides\n",
    "    return np.lib.stride_tricks.as_strided(a[:,1:], (m-1,m), (p+q,q))\n",
    "\n",
    "def isOrthogonal(A,normalized=False):\n",
    "    Q,R = np.linalg.qr(A)\n",
    "    R = np.array(R,dtype=int)\n",
    "    print(f'R from QR decomp should be diagonal, i.e.,\\n{R}')\n",
    "    orthog_set = (nodiag_view(R)==0).all()\n",
    "    print(f'\\nIs R diagonal (and full rank)? {orthog_set}\\n')\n",
    "    if orthog_set == True and np.linalg.matrix_rank(R) == np.shape(A[2]):\n",
    "        print(colored('{u,v,w} is orthogonal\\n','green'))\n",
    "        if normalized:\n",
    "            print(colored(f\"normalized  ↓ \\n{np.array(Q)}\",'green'))\n",
    "        print('\\n','-'*20,'\\n')\n",
    "    else:\n",
    "        print(colored('{u,v,w} is not orthogonal\\n','red'))\n",
    "        notOrthogonal(A)\n",
    "\n",
    "def notOrthogonal(A):\n",
    "    u,v,w =A[:,0], A[:,1],A[:,2]\n",
    "    if not u@v == 0:\n",
    "        print(colored(f'u@v = {u@v}','red'))\n",
    "    elif not u@w == 0:\n",
    "        print(colored(f'u@w = {u@w}','red'))\n",
    "    elif not v@w == 0:\n",
    "        print(colored(f'v@w = {v@w}','red'))\n",
    "\n",
    "    print('\\n','-'*20,'\\n')"
   ]
  },
  {
   "source": [
    "## Question 1\n",
    "\n",
    "For each of the following sets of vectors, determine whether or not the set is orthogonal. If it is not orthogonal, show this by giving the dot product of an appropriate pair of the vectors."
   ],
   "cell_type": "markdown",
   "metadata": {}
  },
  {
   "cell_type": "code",
   "execution_count": 3,
   "metadata": {},
   "outputs": [
    {
     "output_type": "stream",
     "name": "stdout",
     "text": [
      "R from QR decomp should be diagonal, i.e.,\n[[ -6  -1   1]\n [  0 -19   0]\n [  0   0   0]]\n\nIs R diagonal (and full rank)? False\n\n\u001b[31m{u,v,w} is not orthogonal\n\u001b[0m\n\u001b[31mu@v = 9\u001b[0m\n\n -------------------- \n\nR from QR decomp should be diagonal, i.e.,\n[[-3  0  0]\n [ 0 -6  0]\n [ 0  0  1]]\n\nIs R diagonal (and full rank)? True\n\n\u001b[32m{u,v,w} is orthogonal\n\u001b[0m\n\n -------------------- \n\n"
     ]
    }
   ],
   "source": [
    "A = np.array([\n",
    "    [2,0,-1],\n",
    "    [-5,11,1],\n",
    "    [-4,-16,1]\n",
    "])\n",
    "\n",
    "isOrthogonal(A)\n",
    "\n",
    "B = np.array([\n",
    "    [3,1,1],\n",
    "    [-2,4,1],\n",
    "    [-1,-5,1]\n",
    "])\n",
    "\n",
    "isOrthogonal(B)\n",
    "    \n"
   ]
  },
  {
   "source": [
    "## Question 2\n",
    "\n",
    "For each of the following sets of vectors, determine whether or not the set is orthogonal.\n",
    "\n",
    "if the set is orthogonal, normalize it to obtain an orthonormal set\n",
    "\n",
    "if the set is not orthogonal, show this by giving the dot product of an appropriate pair of the vectors\n"
   ],
   "cell_type": "markdown",
   "metadata": {}
  },
  {
   "cell_type": "code",
   "execution_count": 4,
   "metadata": {},
   "outputs": [
    {
     "output_type": "stream",
     "name": "stdout",
     "text": [
      "R from QR decomp should be diagonal, i.e.,\n[[-3  0  0]\n [ 0 -4  0]\n [ 0  0  2]]\n\nIs R diagonal (and full rank)? True\n\n\u001b[32m{u,v,w} is orthogonal\n\u001b[0m\n\u001b[32mnormalized  ↓ \n[[-0.26726124 -0.87287156 -0.40824829]\n [ 0.53452248  0.21821789 -0.81649658]\n [ 0.80178373 -0.43643578  0.40824829]]\u001b[0m\n\n -------------------- \n\nR from QR decomp should be diagonal, i.e.,\n[[ 21   0   6]\n [  0 -30   0]\n [  0   0  -1]]\n\nIs R diagonal (and full rank)? False\n\n\u001b[31m{u,v,w} is not orthogonal\n\u001b[0m\n\u001b[31mu@w = 150\u001b[0m\n\n -------------------- \n\n"
     ]
    }
   ],
   "source": [
    "A = np.array([\n",
    "    [1,4,-1],\n",
    "    [-2,-1,-2],\n",
    "    [-3,2,1]\n",
    "])\n",
    "\n",
    "isOrthogonal(A,normalized=True)\n",
    "\n",
    "B = np.array([\n",
    "    [-9,14,-4],\n",
    "    [8,27,3],\n",
    "    [18,-5,5]\n",
    "])\n",
    "\n",
    "isOrthogonal(B,normalized=True)"
   ]
  },
  {
   "source": [],
   "cell_type": "markdown",
   "metadata": {}
  },
  {
   "cell_type": "code",
   "execution_count": 5,
   "metadata": {},
   "outputs": [
    {
     "output_type": "execute_result",
     "data": {
      "text/plain": [
       "Matrix([\n",
       "[   sqrt(14)/14, 4*sqrt(21)/21, -sqrt(6)/6],\n",
       "[   -sqrt(14)/7,  -sqrt(21)/21, -sqrt(6)/3],\n",
       "[-3*sqrt(14)/14, 2*sqrt(21)/21,  sqrt(6)/6]])"
      ],
      "text/latex": "$\\displaystyle \\left[\\begin{matrix}\\frac{\\sqrt{14}}{14} & \\frac{4 \\sqrt{21}}{21} & - \\frac{\\sqrt{6}}{6}\\\\- \\frac{\\sqrt{14}}{7} & - \\frac{\\sqrt{21}}{21} & - \\frac{\\sqrt{6}}{3}\\\\- \\frac{3 \\sqrt{14}}{14} & \\frac{2 \\sqrt{21}}{21} & \\frac{\\sqrt{6}}{6}\\end{matrix}\\right]$"
     },
     "metadata": {},
     "execution_count": 5
    }
   ],
   "source": [
    " # Q matrix, but easier to read, input orthogonal set (eithr A or B)\n",
    " Matrix(A).QRdecomposition()[0]\n"
   ]
  }
 ]
}