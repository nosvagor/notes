{
 "metadata": {
  "language_info": {
   "codemirror_mode": {
    "name": "ipython",
    "version": 3
   },
   "file_extension": ".py",
   "mimetype": "text/x-python",
   "name": "python",
   "nbconvert_exporter": "python",
   "pygments_lexer": "ipython3",
   "version": "3.9.4-final"
  },
  "orig_nbformat": 2,
  "kernelspec": {
   "name": "python39264bitlinearvenv6ce40b61835845b0a51e3922e69d679e",
   "display_name": "Python 3.9.2 64-bit ('linear': venv)"
  }
 },
 "nbformat": 4,
 "nbformat_minor": 2,
 "cells": [
  {
   "cell_type": "code",
   "execution_count": 88,
   "metadata": {},
   "outputs": [],
   "source": [
    "import numpy as np"
   ]
  },
  {
   "source": [
    "## Question 1\n",
    "\n",
    " For each of the following elementary matrices, give the row operation that has the same result as left-multiplication by the given matrix"
   ],
   "cell_type": "markdown",
   "metadata": {}
  },
  {
   "cell_type": "code",
   "execution_count": 89,
   "metadata": {},
   "outputs": [],
   "source": [
    "# Pretty easy, no code needed. \n",
    "# Identify row operations required to get to given matrix from identity matrix"
   ]
  },
  {
   "source": [
    "## Question 2\n",
    "\n",
    "Find inverse of matrices that are nearly the idenitiy matrix"
   ],
   "cell_type": "markdown",
   "metadata": {}
  },
  {
   "cell_type": "code",
   "execution_count": 90,
   "metadata": {},
   "outputs": [
    {
     "output_type": "stream",
     "name": "stdout",
     "text": [
      "[[1. 0. 0. 0.]\n [0. 1. 0. 0.]\n [0. 0. 0. 1.]\n [0. 0. 1. 0.]]\n"
     ]
    }
   ],
   "source": [
    "# Can use to check, but should be able to do without\n",
    "\n",
    "A = np.array([\n",
    "    [1,0,0,0],\n",
    "    [0,1,0,0],\n",
    "    [0,0,0,1], \n",
    "    [0,0,1,0]\n",
    "])\n",
    "\n",
    "print(np.linalg.inv(A))"
   ]
  },
  {
   "source": [
    "## Question 3\n",
    "\n",
    "If E, F, G are the following elementary matrices, compute the given matrix expression."
   ],
   "cell_type": "markdown",
   "metadata": {}
  },
  {
   "cell_type": "code",
   "execution_count": 91,
   "metadata": {},
   "outputs": [
    {
     "output_type": "stream",
     "name": "stdout",
     "text": [
      "E^-1 = \n [[0.5 0.  0.  0. ]\n [0.  1.  0.  0. ]\n [0.  0.  1.  0. ]\n [0.  0.  0.  1. ]] \n\nF^-1 =\n [[1. 0. 0. 0.]\n [0. 0. 0. 1.]\n [0. 0. 1. 0.]\n [0. 1. 0. 0.]]  \n\nG^-1 =\n [[1. 0. 0. 0.]\n [0. 1. 0. 0.]\n [0. 0. 1. 3.]\n [0. 0. 0. 1.]] \n \nResult = \n [[0.5 0.  0.  0. ]\n [0.  0.  0.  1. ]\n [0.  0.  1.  0. ]\n [0.  1.  0.  0. ]]\n"
     ]
    }
   ],
   "source": [
    "E = np.array([\n",
    "    [2,0,0,0], # Multiply R_1 by 2\n",
    "    [0,1,0,0],\n",
    "    [0,0,1,0],\n",
    "    [0,0,0,1]\n",
    "])\n",
    "\n",
    "F = np.array([\n",
    "    [1,0,0,0],\n",
    "    [0,0,0,1], # Swap rows\n",
    "    [0,0,1,0],\n",
    "    [0,1,0,0]  # Swap rows\n",
    "])\n",
    "\n",
    "G = np.array([\n",
    "    [1,0,0,0],\n",
    "    [0,1,0,0],\n",
    "    [0,0,1,-3], # Add -3*R_4 to row 3\n",
    "    [0,0,0,1]\n",
    "])\n",
    "\n",
    "Einv, Finv, Ginv = np.linalg.inv([E,F,G])\n",
    "\n",
    "print(\"E^-1 = \\n\", Einv,'\\n\\nF^-1 =\\n',Finv,' \\n\\nG^-1 =\\n',Ginv,'\\n ')\n",
    "\n",
    "# Will have to change this\n",
    "print('Result = \\n', np.linalg.inv((F@Ginv@E@G)))"
   ]
  },
  {
   "source": [
    "## Question 4\n",
    "\n",
    "Compute the specified power of each of the following elementary matrices"
   ],
   "cell_type": "markdown",
   "metadata": {}
  },
  {
   "cell_type": "code",
   "execution_count": 92,
   "metadata": {},
   "outputs": [],
   "source": [
    "# Apply given power to any number in diagonal\n",
    "# Multiply any number in off diagonal by power, except 1 (1=1)\n",
    "# Even powers swap numbers in non zero elements? (I'm not sure here)"
   ]
  },
  {
   "source": [
    "## Question 5\n",
    "\n",
    "Given the following matrices A and B, find an elementary matrix E such that B = EA\n",
    "\n",
    "Use elementary row operations dictated by an elementary matrix\n"
   ],
   "cell_type": "markdown",
   "metadata": {}
  },
  {
   "cell_type": "code",
   "execution_count": 93,
   "metadata": {},
   "outputs": [
    {
     "output_type": "stream",
     "name": "stdout",
     "text": [
      "[[-12 -10   4]\n [ -7  -9   1]\n [  2  -5  -5]\n [  3  -1  -8]]\n"
     ]
    }
   ],
   "source": [
    "# Again, can be used to test but not necessary.\n",
    "\n",
    "A = np.array([\n",
    "    [2,8,2],\n",
    "    [-7,-9,1],\n",
    "    [2,-5,-5],\n",
    "    [3,-1,-8]\n",
    "])\n",
    "\n",
    "E = np.array([\n",
    "    [1,2,0,0], #  add 2*R_2 to row 1\n",
    "    [0,1,0,0],\n",
    "    [0,0,1,0],\n",
    "    [0,0,0,1]\n",
    "])\n",
    "\n",
    "print(E@A)"
   ]
  },
  {
   "source": [
    "## Question 6\n",
    "\n",
    "Given the following matrices A and B, find elementary matrices E and F such that B = FEA\n",
    "\n",
    "Use elementary row operations dictated by elementary matrixes"
   ],
   "cell_type": "markdown",
   "metadata": {}
  },
  {
   "cell_type": "code",
   "execution_count": 94,
   "metadata": {},
   "outputs": [
    {
     "output_type": "stream",
     "name": "stdout",
     "text": [
      "[[-6 -6  0]\n [-6 -8  4]\n [-8  6  7]\n [ 5  8  1]]\n"
     ]
    }
   ],
   "source": [
    "# Same thing as 5, but with more than one elementary matrix\n",
    "\n",
    "A = np.array([\n",
    "    [-8,6,7],\n",
    "    [3,4,-2],\n",
    "    [-6,-6,0],\n",
    "    [5,8,1]\n",
    "])\n",
    "\n",
    "E = np.array([\n",
    "    [0,0,1,0], # Swiitch rows\n",
    "    [0,1,0,0],\n",
    "    [1,0,0,0], # Switch rows\n",
    "    [0,0,0,1]\n",
    "])\n",
    "\n",
    "F = np.array([\n",
    "    [1,0,0,0], \n",
    "    [0,-2,0,0], # Multiply row 2 by -2\n",
    "    [0,0,1,0], \n",
    "    [0,0,0,1]\n",
    "])\n",
    "\n",
    "print(F@E@A)"
   ]
  },
  {
   "source": [
    "## Question 7\n",
    "\n",
    "Given the following matrix A, find an invertible matrix U so that UA is equal to the reduced row-echelon form of A"
   ],
   "cell_type": "markdown",
   "metadata": {}
  },
  {
   "cell_type": "code",
   "execution_count": 98,
   "metadata": {},
   "outputs": [
    {
     "output_type": "stream",
     "name": "stdout",
     "text": [
      "rref(A|I) =\n [[1 0 2 -1 0 -4/7 -1/14]\n [0 1 -1 -5 0 1/7 1/7]\n [0 0 0 0 1 2/7 -5/7]]\n \nU = \n [[0 -4/7 -1/14]\n [0 1/7 1/7]\n [1 2/7 -5/7]]\n"
     ]
    }
   ],
   "source": [
    "from sympy import *\n",
    "\n",
    "A = np.array([\n",
    "    [2,6,-2,-32],\n",
    "    [-2,-1,-3,7],\n",
    "    [2,8,-4,-42],\n",
    "])\n",
    "\n",
    "# Get number of rows\n",
    "m = len(A)\n",
    "\n",
    "# Concatenate identity matrix\n",
    "Aaug = np.array(np.concatenate((A,np.eye(m,m)),axis=1),dtype='int64')\n",
    "\n",
    "# Convert to sympy matrix for rref\n",
    "Aaug = Matrix(Aaug) \n",
    "Asol = Aaug.rref() \n",
    "\n",
    "# extract matrix from sympy object\n",
    "Asol = Asol[0] \n",
    "# Extract the modified identity matrix\n",
    "Ainvrref = Asol[:,m+1:]  \n",
    "\n",
    "# Print whole thing to double check\n",
    "print('rref(A|I) =\\n',np.array(Asol))\n",
    "print(' ')\n",
    "\n",
    "# Answer \n",
    "print(\"U = \\n\",np.array(Ainvrref))"
   ]
  }
 ]
}