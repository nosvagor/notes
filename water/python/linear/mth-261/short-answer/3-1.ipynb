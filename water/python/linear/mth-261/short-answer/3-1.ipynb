{
  "nbformat": 4,
  "nbformat_minor": 0,
  "metadata": {
    "language_info": {
      "codemirror_mode": {
        "name": "ipython",
        "version": 3
      },
      "file_extension": ".py",
      "mimetype": "text/x-python",
      "name": "python",
      "nbconvert_exporter": "python",
      "pygments_lexer": "ipython3",
      "version": "3.9.5-final"
    },
    "orig_nbformat": 2,
    "kernelspec": {
      "name": "python39264bitlinearvenv6ce40b61835845b0a51e3922e69d679e",
      "display_name": "Python 3.9.2 64-bit ('linear': venv)"
    },
    "colab": {
      "name": "3-1.ipynb",
      "provenance": [],
      "collapsed_sections": []
    }
  },
  "cells": [
    {
      "cell_type": "code",
      "metadata": {
        "id": "5YolIUdxoD_0"
      },
      "source": [
        "import numpy as np\n",
        "from sympy import *"
      ],
      "execution_count": 8,
      "outputs": []
    },
    {
      "cell_type": "markdown",
      "metadata": {
        "id": "rvU9F6_woD_4"
      },
      "source": [
        "## Question 1\n",
        "\n",
        " Use the ~~cofactor expansion~~ **python**\n",
        " to compute the following determinant:"
      ]
    },
    {
      "cell_type": "code",
      "metadata": {
        "colab": {
          "base_uri": "https://localhost:8080/"
        },
        "id": "egqdHBT5oD_5",
        "outputId": "90e82bb2-58b0-43f2-d536-852d0b05aada"
      },
      "source": [
        "A = np.array([\n",
        "    [-3,10,-5],\n",
        "    [10,4,-8],\n",
        "    [-7,10,10]\n",
        "])\n",
        "\n",
        "print(np.linalg.det(A))"
      ],
      "execution_count": 2,
      "outputs": [
        {
          "output_type": "stream",
          "text": [
            "-1440.0000000000005\n"
          ],
          "name": "stdout"
        }
      ]
    },
    {
      "cell_type": "markdown",
      "metadata": {
        "id": "Ra903KwPoD_6"
      },
      "source": [
        "## Question 2\n",
        "\n",
        "Find a formula in terms of k for the following determinant:"
      ]
    },
    {
      "cell_type": "code",
      "metadata": {
        "colab": {
          "base_uri": "https://localhost:8080/"
        },
        "id": "GdC7Jnp9oD_7",
        "outputId": "fad55609-3c79-4186-a2a9-15244d35a2c4"
      },
      "source": [
        "k = Symbol('k')\n",
        "\n",
        "afj, bgh, cei, hfc, iga, jeb = [], [], [], [], [], []\n",
        "\n",
        "A = np.array([\n",
        "    [-1,0,7],\n",
        "    [k,4,-7],\n",
        "    [-1,-2,4]\n",
        "])\n",
        "\n",
        "# Only works for 3x3 matrices\n",
        "# Uses the Rule of Sarrus method\n",
        "def sarrus(A):\n",
        "    for i in range(3):\n",
        "        afj.append(A[i][i])\n",
        "        hfc.append(A[2+(-1*i)][i])\n",
        "\n",
        "    bgh.append(A[0][1])\n",
        "    bgh.append(A[1][2])\n",
        "    bgh.append(A[2][0])\n",
        "\n",
        "    cei.append(A[0][2])\n",
        "    cei.append(A[1][0])\n",
        "    cei.append(A[2][1])\n",
        "\n",
        "    iga.append(A[2][1])\n",
        "    iga.append(A[1][2])\n",
        "    iga.append(A[0][0])\n",
        "\n",
        "    jeb.append(A[2][2])\n",
        "    jeb.append(A[1][0])\n",
        "    jeb.append(A[0][1])\n",
        "\n",
        "\n",
        "sarrus(A)\n",
        "\n",
        "# Double checking work\n",
        "print(afj,bgh,cei,hfc,iga,jeb)\n",
        "\n",
        "# Shows partial breakdown of A, if A is:\n",
        "# [a b c]\n",
        "# [e f g]\n",
        "# [h i j] \n",
        "# afj + bgh + cei - hfc - iga - jeb\n",
        "print(\n",
        "    np.prod(afj),'+',np.prod(bgh),'+',np.prod(cei),\n",
        "    '-',\n",
        "    np.prod(hfc),'-',np.prod(iga),'-',prod(jeb)\n",
        "    )\n",
        "\n",
        "res = np.prod(afj) + np.prod(bgh) + np.prod(cei) - np.prod(hfc) - np.prod(iga) - np.prod(jeb)\n",
        "\n",
        "print('')\n",
        "print('det(A) in terms of k =',res)"
      ],
      "execution_count": 5,
      "outputs": [
        {
          "output_type": "stream",
          "name": "stdout",
          "text": [
            "[-1, 4, 4] [0, -7, -1] [7, k, -2] [-1, 4, 7] [-2, -7, -1] [4, k, 0]\n-16 + 0 + -14*k - -28 - -14 - 0\n\ndet(A) in terms of k = 26 - 14*k\n"
          ]
        }
      ]
    },
    {
      "cell_type": "markdown",
      "metadata": {
        "id": "Vmoa8zvvoD_8"
      },
      "source": [
        "## Question 3\n",
        "\n",
        "Let A be a 2×2 (can change) matrix and suppose that det(A)=6 (can cahnge). For each of the following row operations, determine the value of det(B), where B is the matrix obtained by applying that row operation to A (can change)."
      ]
    },
    {
      "cell_type": "code",
      "metadata": {
        "colab": {
          "base_uri": "https://localhost:8080/"
        },
        "id": "CrG8I3T6oD_8",
        "outputId": "684a01ca-4e6d-4e14-ff14-178e8e1aad58"
      },
      "source": [
        "def operations(det, operation, value=1):\n",
        "    if operation == 'scale':\n",
        "        print('Multiplied a row by some scalar: det =',det * value)\n",
        "    elif operation == 'swap':\n",
        "        print('Swaped two rows (doesn\\'t matter which): det =',-1*det)\n",
        "    elif operation == 'add':\n",
        "        print('Added one row to another (does nothing): det =',det)\n",
        "    else:\n",
        "        print('Operations accepted: scale (needs value if so, default is 1), swap, and add')\n",
        "        print('Please try again')\n",
        "\n",
        "# Needs (Determinant, operation, scalar(only needed if scaling))\n",
        "operations(6,'scale',3)\n",
        "\n",
        "operations(6,'swap')\n",
        "\n",
        "operations(6,'add')"
      ],
      "execution_count": 6,
      "outputs": [
        {
          "output_type": "stream",
          "name": "stdout",
          "text": [
            "Multiplied a row by some scalar: det = 18\nSwaped two rows (doesn't matter which): det = -6\nAdded one row to another (does nothing): det = 6\n"
          ]
        }
      ]
    },
    {
      "cell_type": "code",
      "execution_count": 15,
      "metadata": {},
      "outputs": [
        {
          "output_type": "execute_result",
          "data": {
            "text/plain": [
              "a*e*i - a*f*h - b*d*i + b*f*g + c*d*h - c*e*g"
            ],
            "text/latex": "$\\displaystyle a e i - a f h - b d i + b f g + c d h - c e g$"
          },
          "metadata": {},
          "execution_count": 15
        }
      ],
      "source": [
        "a,b,c,d,e,f,g,h,i = symbols('a,b,c,d,e,f,g,h,i')\n",
        "\n",
        "A = Matrix([\n",
        "    [a,b,c],\n",
        "    [d+3*g,e+3*h,f+3*i],\n",
        "    [g,h,i]\n",
        "])\n",
        "\n",
        "A.det()"
      ]
    },
    {
      "cell_type": "markdown",
      "metadata": {
        "id": "p-U3hqX4oD_8"
      },
      "source": [
        "## Question 4\n",
        "\n",
        "Compute the determinant of the matrix A, below, by using row operations to transform A to an upper-triangular matrix B. Then express the determinant of A as a multiple k of the determinant of B, and use this to compute the determinant of A.\n",
        "\n"
      ]
    },
    {
      "cell_type": "code",
      "metadata": {
        "colab": {
          "base_uri": "https://localhost:8080/"
        },
        "id": "BMynAacMoD_9",
        "outputId": "d36834b1-5696-468f-943d-84693212869e"
      },
      "source": [
        "# I use QR decomposition here to find upper right triangle, R\n",
        "\n",
        "A = np.array([\n",
        "    [10,-1,2,8],\n",
        "    [30,-18,-11,38],\n",
        "    [0,5,7,-8],\n",
        "    [-60,51,27,-67]\n",
        "])\n",
        "\n",
        "Q,R = np.linalg.qr(A)\n",
        "\n",
        "print(R)\n",
        "print(' ')\n",
        "\n",
        "# Finding an ref is simpler, but typing numbers in isn't that\n",
        "# hard... but it works! \n",
        "# I think QR decomp uses rref, hence weird results.\n",
        "print('det(R) =',np.round(np.linalg.det(R)))\n",
        "print('det(A) =',np.round(np.linalg.det(A)))\n",
        "print('k =',np.round(np.linalg.det(R))/np.round(np.linalg.det(A)))\n"
      ],
      "execution_count": 7,
      "outputs": [
        {
          "output_type": "stream",
          "text": [
            "[[-67.82329983  53.22654617  28.45629754 -77.25958503]\n",
            " [  0.         -10.8597782   -8.59774145   3.38304611]\n",
            " [  0.           0.          -4.39522154   8.96239353]\n",
            " [  0.           0.           0.           0.43246144]]\n",
            " \n",
            "det(R) = -1400.0\n",
            "det(A) = 1400.0\n",
            "k = -1.0\n"
          ],
          "name": "stdout"
        }
      ]
    },
    {
      "cell_type": "markdown",
      "metadata": {
        "id": "SlJBbLlboD_9"
      },
      "source": [
        "## Question 5\n",
        "\n",
        "If the determinant of the first matrix below is as given, find the determinant of the other matrix."
      ]
    },
    {
      "cell_type": "code",
      "metadata": {
        "colab": {
          "base_uri": "https://localhost:8080/"
        },
        "id": "00OkF6LwoD_-",
        "outputId": "e594c700-5928-4be5-980d-95816d755451"
      },
      "source": [
        "# Basically the same as question 3, but harder to tell what operations were used.\n",
        "\n",
        "# Means we can use function. Must run cell above containing the\n",
        "# function in order to make it work.\n",
        "operations(-5,'swap')\n",
        "\n",
        "# Take given det, apply function again\n",
        "operations(5,'add')\n",
        "\n",
        "operations(5,'scale',6)"
      ],
      "execution_count": 6,
      "outputs": [
        {
          "output_type": "stream",
          "text": [
            "Swaped two rows (doesn't matter which): det = 5\n",
            "Added one row to another (does nothing): det = 5\n",
            "Multiplied a row by some scalar: det = 30\n"
          ],
          "name": "stdout"
        }
      ]
    }
  ]
}