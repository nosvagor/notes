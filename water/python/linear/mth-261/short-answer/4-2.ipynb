{
 "metadata": {
  "language_info": {
   "codemirror_mode": {
    "name": "ipython",
    "version": 3
   },
   "file_extension": ".py",
   "mimetype": "text/x-python",
   "name": "python",
   "nbconvert_exporter": "python",
   "pygments_lexer": "ipython3",
   "version": "3.9.5-final"
  },
  "orig_nbformat": 2,
  "kernelspec": {
   "name": "python39264bitlinearvenv6ce40b61835845b0a51e3922e69d679e",
   "display_name": "Python 3.9.2 64-bit ('linear': venv)"
  }
 },
 "nbformat": 4,
 "nbformat_minor": 2,
 "cells": [
  {
   "cell_type": "code",
   "execution_count": 13,
   "metadata": {},
   "outputs": [],
   "source": [
    "import numpy as np\n",
    "from sympy import *\n",
    "import math as m\n",
    "from fractions import Fraction"
   ]
  },
  {
   "source": [
    "## Question 1\n",
    "\n",
    " Compute the dot product of the vectors **u** and **v** below.\n"
   ],
   "cell_type": "markdown",
   "metadata": {}
  },
  {
   "cell_type": "code",
   "execution_count": 14,
   "metadata": {},
   "outputs": [
    {
     "output_type": "stream",
     "name": "stdout",
     "text": [
      "89\n"
     ]
    }
   ],
   "source": [
    "u = np.array([-9,0,2])\n",
    "v = np.array([-9,1,4])\n",
    "\n",
    "print(u@v)"
   ]
  },
  {
   "source": [
    "## Question 2\n",
    "\n",
    "Find x so that the dot product of the vectors u and v below is −22.\n"
   ],
   "cell_type": "markdown",
   "metadata": {}
  },
  {
   "cell_type": "code",
   "execution_count": 15,
   "metadata": {},
   "outputs": [
    {
     "output_type": "stream",
     "name": "stdout",
     "text": [
      "2\n"
     ]
    }
   ],
   "source": [
    "x = symbols('x')\n",
    "\n",
    "u = np.array([1,-7,-1])\n",
    "v = np.array([x+22,3,3])\n",
    "\n",
    "print(solve(u@v,x)[0])"
   ]
  },
  {
   "source": [
    "## Question 3\n",
    "\n",
    "Find the angle θ (in radians) between the vectors u and v below."
   ],
   "cell_type": "markdown",
   "metadata": {}
  },
  {
   "cell_type": "code",
   "execution_count": 16,
   "metadata": {},
   "outputs": [
    {
     "output_type": "stream",
     "name": "stdout",
     "text": [
      "-6.0\n√36.0\n-0.8660254037844387\n-0.8660254037844386\n"
     ]
    }
   ],
   "source": [
    "u = np.array([-3/2,0,-(3**0.5)/2])\n",
    "v = np.array([3,2,3**0.5])\n",
    "\n",
    "dot = u@v\n",
    "\n",
    "print(dot)\n",
    "#in case sqrt is needed\n",
    "print(f'√{(dot)**2}')\n",
    "\n",
    "uhat = np.linalg.norm(u)\n",
    "vhat = np.linalg.norm(v)\n",
    "cos = dot/(uhat*vhat)\n",
    "\n",
    "print(cos)\n",
    "# check angle\n",
    "print(-(3**0.5)/2)\n",
    "\n",
    "\n"
   ]
  },
  {
   "source": [
    "## Question 4\n",
    "\n",
    "Find x so that the vectors u and v below are perpendicular.\n"
   ],
   "cell_type": "markdown",
   "metadata": {}
  },
  {
   "cell_type": "code",
   "execution_count": 17,
   "metadata": {},
   "outputs": [
    {
     "output_type": "stream",
     "name": "stdout",
     "text": [
      "[42]\n"
     ]
    }
   ],
   "source": [
    "u = np.array([-8,-10,x])\n",
    "v = np.array([-7,-7,-3])\n",
    "\n",
    "print(solve(u@v,x))"
   ]
  },
  {
   "source": [
    "## Question 5\n",
    "\n",
    "Compute the orthogonal projection of u onto v. Use the square root symbol '√' where needed to give an exact value for your answer. \n"
   ],
   "cell_type": "markdown",
   "metadata": {}
  },
  {
   "cell_type": "code",
   "execution_count": 18,
   "metadata": {},
   "outputs": [
    {
     "output_type": "stream",
     "name": "stdout",
     "text": [
      "[-23/11 23/11 69/11]\n"
     ]
    }
   ],
   "source": [
    "u = np.array([-9,8,2])\n",
    "v = np.array([-1,1,3])\n",
    "\n",
    "mapping = u@v\n",
    "magintude = np.linalg.norm(v)**2\n",
    "\n",
    "proj_vu = mapping/magintude * v\n",
    "\n",
    "with np.printoptions(formatter={'all':lambda x: str(Fraction(x).limit_denominator())}): \n",
    "    print(proj_vu)\n"
   ]
  },
  {
   "source": [
    "## Question 6\n",
    "\n",
    "Express the vector u below as a sum of two vectors u1 and u2, where u1 is parallel to the vector v given below, and u2 is perpendicular to v. Make sure that the first vector in your sum is u1 and the second is u2. Use the square root symbol '√' where needed to give an exact value for your answer."
   ],
   "cell_type": "markdown",
   "metadata": {}
  },
  {
   "cell_type": "code",
   "execution_count": 19,
   "metadata": {},
   "outputs": [
    {
     "output_type": "stream",
     "name": "stdout",
     "text": [
      "u1 = [-6/7 -12/7 -18/7], u2 = [-36/7 -51/7 46/7]\n"
     ]
    }
   ],
   "source": [
    "v = np.array([-1,-2,-3])\n",
    "u = np.array([-6,-9,4])\n",
    "\n",
    "mapping = u@v\n",
    "magintude = np.linalg.norm(v)**2\n",
    "\n",
    "proj_vu = mapping/magintude * v    \n",
    "\n",
    "u1 = proj_vu\n",
    "u2 = u - u1\n",
    "\n",
    "with np.printoptions(formatter={'all':lambda x: str(Fraction(x).limit_denominator())}): \n",
    "    print(f'u1 = {u1}, u2 = {u2}')\n"
   ]
  },
  {
   "source": [
    "## Question 7\n",
    "\n",
    "Find the shortest distance d from the point $P_0$ to $L$, and the point $Q$ on $L$ that is closest to $P_0$. Use the square root symbol '√' where needed to give an exact value for your answer. "
   ],
   "cell_type": "markdown",
   "metadata": {}
  },
  {
   "cell_type": "code",
   "execution_count": 20,
   "metadata": {},
   "outputs": [
    {
     "output_type": "stream",
     "name": "stdout",
     "text": [
      "[2 0 7]\n6.4031242374328485\n√41\n"
     ]
    }
   ],
   "source": [
    "t = symbols('t')\n",
    "\n",
    "P0 = np.array([-4,1,5])\n",
    "L = np.array([4+1*t,4+2*t,3-2*t]) # <-- these need to match\n",
    "# Directional vector (d, I call a), i.e., the scalars of t (sometimes given, use to make equation for L in that case)\n",
    "a = np.array([1,2,-2])\n",
    "# Vector from P0 -> L \n",
    "b = L - P0\n",
    "# Find t\n",
    "t = solve(a@b)[0]\n",
    "# Plug t back into eqaution for line\n",
    "Q = np.array([4+1*t,4+2*t,3-2*t]) # <-- these need to match\n",
    "print(Q)\n",
    "\n",
    "t = float(t)\n",
    "Q = np.array([4+1*t,4+2*t,3-2*t]) # <-- these need to match\n",
    "b = Q-P0\n",
    "d = np.linalg.norm(b)\n",
    "\n",
    "print(d)\n",
    "# sometimes this works, sometimes it doesn't. Depends on float point precision errors I think\n",
    "print(f'√{Fraction(d**2).limit_denominator()}')"
   ]
  },
  {
   "source": [
    "## Question 8\n",
    "\n",
    "Find the vector equation for the line where S and T intersect."
   ],
   "cell_type": "markdown",
   "metadata": {}
  },
  {
   "cell_type": "code",
   "execution_count": 21,
   "metadata": {},
   "outputs": [
    {
     "output_type": "execute_result",
     "data": {
      "text/plain": [
       "Matrix([\n",
       "[1, 0, -1, -4],\n",
       "[0, 1,  0,  3]])"
      ],
      "text/latex": "$\\displaystyle \\left[\\begin{matrix}1 & 0 & -1 & -4\\\\0 & 1 & 0 & 3\\end{matrix}\\right]$"
     },
     "metadata": {},
     "execution_count": 21
    }
   ],
   "source": [
    "A = Matrix([\n",
    "    [3,-6,-3,-30],\n",
    "    [2,-3,-2,-17]\n",
    "])\n",
    "\n",
    "A.rref()[0]"
   ]
  },
  {
   "cell_type": "code",
   "execution_count": 22,
   "metadata": {},
   "outputs": [
    {
     "output_type": "execute_result",
     "data": {
      "text/plain": [
       "Matrix([\n",
       "[-4],\n",
       "[ 3],\n",
       "[ 0]])"
      ],
      "text/latex": "$\\displaystyle \\left[\\begin{matrix}-4\\\\3\\\\0\\end{matrix}\\right]$"
     },
     "metadata": {},
     "execution_count": 22
    }
   ],
   "source": [
    "A = A.rref()[0]\n",
    "\n",
    "c = Matrix([\n",
    "    [A[0,-1]],\n",
    "    [A[1,-1]],\n",
    "    [0],\n",
    "])\n",
    "\n",
    "c"
   ]
  },
  {
   "cell_type": "code",
   "execution_count": 23,
   "metadata": {},
   "outputs": [
    {
     "output_type": "execute_result",
     "data": {
      "text/plain": [
       "Matrix([\n",
       "[1],\n",
       "[0],\n",
       "[1]])"
      ],
      "text/latex": "$\\displaystyle \\left[\\begin{matrix}1\\\\0\\\\1\\end{matrix}\\right]$"
     },
     "metadata": {},
     "execution_count": 23
    }
   ],
   "source": [
    "t = Matrix([\n",
    "    [-1*A[0,-2]],\n",
    "    [-1*A[1,-2]],\n",
    "    [1],\n",
    "])\n",
    "\n",
    "t"
   ]
  },
  {
   "source": [
    "## Question 9\n",
    "\n",
    "Let L be the line passing through the point $P$ with direction vector $\\vec{d}$, and let $T$ be the plane defined by (given equation) Find the point Q where L and T intersect."
   ],
   "cell_type": "markdown",
   "metadata": {}
  },
  {
   "cell_type": "code",
   "execution_count": null,
   "metadata": {},
   "outputs": [],
   "source": []
  },
  {
   "cell_type": "code",
   "execution_count": 43,
   "metadata": {},
   "outputs": [
    {
     "output_type": "execute_result",
     "data": {
      "text/plain": [
       "Matrix([\n",
       "[-31],\n",
       "[ 20],\n",
       "[-49]])"
      ],
      "text/latex": "$\\displaystyle \\left[\\begin{matrix}-31\\\\20\\\\-49\\end{matrix}\\right]$"
     },
     "metadata": {},
     "execution_count": 43
    }
   ],
   "source": [
    "t = symbols('t')\n",
    "# Point P\n",
    "P = np.array([5,2,-4])\n",
    "# Directional vector d, calling a\n",
    "d = np.array([4,-2,5]) \n",
    "# Created using point P and direction vector\n",
    "L = P-(t*d)\n",
    "\n",
    "x,y,z = L[0],L[1],L[2]\n",
    "\n",
    "# Given equation that defines the plane T\n",
    "T = 5*x-5*y-5*z + 10\n",
    "# Find t\n",
    "t = solve(T)[0]\n",
    "# Plug t back into original equation for line to find Q\n",
    "Q = Matrix(P-(t*d))\n",
    "\n",
    "Q"
   ]
  },
  {
   "source": [
    "## Question 10\n",
    "Compute the cross product of the vectors u and v below."
   ],
   "cell_type": "markdown",
   "metadata": {}
  },
  {
   "cell_type": "code",
   "execution_count": 45,
   "metadata": {},
   "outputs": [
    {
     "output_type": "execute_result",
     "data": {
      "text/plain": [
       "Matrix([\n",
       "[ 1],\n",
       "[-2],\n",
       "[ 0]])"
      ],
      "text/latex": "$\\displaystyle \\left[\\begin{matrix}1\\\\-2\\\\0\\end{matrix}\\right]$"
     },
     "metadata": {},
     "execution_count": 45
    }
   ],
   "source": [
    "u = np.array([2,1,-3])\n",
    "v = np.array([-4,-2,7])\n",
    "\n",
    "Matrix(np.cross(u,v))"
   ]
  },
  {
   "source": [
    "## Question 11\n",
    "\n",
    " Find the scalar equation for the plane passing through the points P1, P2, and P3.\n",
    "\n"
   ],
   "cell_type": "markdown",
   "metadata": {}
  },
  {
   "cell_type": "code",
   "execution_count": 79,
   "metadata": {},
   "outputs": [
    {
     "output_type": "execute_result",
     "data": {
      "text/plain": [
       "-12*x - 2*y + 15*z"
      ],
      "text/latex": "$\\displaystyle - 12 x - 2 y + 15 z$"
     },
     "metadata": {},
     "execution_count": 79
    }
   ],
   "source": [
    "x,y,z = symbols('x,y,z')\n",
    "\n",
    "p1 = np.array([-1,-3,-5])\n",
    "p2 = np.array([-6,-3,-9])\n",
    "p3 = np.array([-4,0,-7])\n",
    "\n",
    "P1 = p1 - p2\n",
    "P2 = p3 - p2 \n",
    "P3 = np.cross(P1,P2)\n",
    "\n",
    "a,b,c = P3[0],P3[1],P3[2]\n",
    "\n",
    "eq = a*x+b*y+c*z\n",
    "\n",
    "eq\n"
   ]
  },
  {
   "cell_type": "code",
   "execution_count": 80,
   "metadata": {},
   "outputs": [
    {
     "output_type": "execute_result",
     "data": {
      "text/plain": [
       "-12*x - 2*y + 15*z + 57"
      ],
      "text/latex": "$\\displaystyle - 12 x - 2 y + 15 z + 57$"
     },
     "metadata": {},
     "execution_count": 80
    }
   ],
   "source": [
    "x,y,z = p2[0],p2[1],p2[2]\n",
    "\n",
    "d = a*x+b*y+c*z\n",
    "\n",
    "x,y,z = symbols('x,y,z')\n",
    "\n",
    "eq = a*x+b*y+c*z - d\n",
    "\n",
    "eq\n"
   ]
  }
 ]
}