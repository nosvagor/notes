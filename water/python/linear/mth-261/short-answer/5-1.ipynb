{
 "metadata": {
  "language_info": {
   "codemirror_mode": {
    "name": "ipython",
    "version": 3
   },
   "file_extension": ".py",
   "mimetype": "text/x-python",
   "name": "python",
   "nbconvert_exporter": "python",
   "pygments_lexer": "ipython3",
   "version": "3.9.5-final"
  },
  "orig_nbformat": 2,
  "kernelspec": {
   "name": "python39264bitlinearvenv6ce40b61835845b0a51e3922e69d679e",
   "display_name": "Python 3.9.2 64-bit ('linear': venv)"
  }
 },
 "nbformat": 4,
 "nbformat_minor": 2,
 "cells": [
  {
   "cell_type": "code",
   "execution_count": 3,
   "metadata": {},
   "outputs": [],
   "source": [
    "import numpy as np\n",
    "from sympy import *\n",
    "from fractions import Fraction\n",
    "from scipy.linalg import null_space"
   ]
  },
  {
   "source": [
    "## Question 1\n",
    "\n",
    "Let A be the matrix given below. Find an example of each the following: "
   ],
   "cell_type": "markdown",
   "metadata": {}
  },
  {
   "cell_type": "code",
   "execution_count": 4,
   "metadata": {},
   "outputs": [
    {
     "output_type": "stream",
     "name": "stdout",
     "text": [
      "(5, 6) \n\nNonzero vector in im(A) that is not already a column in A\n[[-8]\n [ 7]\n [10]\n [ 9]\n [12]] \n\nMost random vectors should not be in im(A)\n[[ -9]\n [  3]\n [-10]\n [ -9]\n [ -4]] \n\nVector in nullspace of A\n[[4]\n [1]\n [0]\n [0]\n [0]\n [0]]\n"
     ]
    }
   ],
   "source": [
    "A = np.array([\n",
    "    [1,-4,-1,-2,2,-4],\n",
    "    [1,-4,2,4,-1,5],\n",
    "    [-2,8,0,2,-6,8],\n",
    "    [-1,4,2,2,3,-1],\n",
    "    [-1,4,3,3,3,0]\n",
    "])\n",
    "\n",
    "print(A.shape,'\\n')\n",
    "\n",
    "print('Nonzero vector in im(A) that is not already a column in A')\n",
    "a = np.array([np.sum(A,axis=1)]).T\n",
    "print(a,'\\n')\n",
    "print('Most random vectors should not be in im(A)')\n",
    "print(np.array([np.random.randint(-10,10,size=A.shape[0])]).T,'\\n')\n",
    "\n",
    "# Possilbe null space of A\n",
    "c = np.array(Matrix(A).nullspace()[0])\n",
    "print('Vector in nullspace of A')\n",
    "print(c)"
   ]
  },
  {
   "source": [
    "## Question 2 \n",
    "\n",
    "For each of the following vectors, determine whether the vector is in the image of A. If so, demonstrate this by providing a vector x so that Ax=bi."
   ],
   "cell_type": "markdown",
   "metadata": {}
  },
  {
   "cell_type": "code",
   "execution_count": 5,
   "metadata": {},
   "outputs": [
    {
     "output_type": "stream",
     "name": "stdout",
     "text": [
      "[[1 0 0]\n [0 1 0]\n [0 0 1]\n [0 0 0]] \n\n[[1 0 0 0]\n [0 1 0 0]\n [0 0 1 0]\n [0 0 0 1]] \n\n[[1 0 0 1]\n [0 1 0 1]\n [0 0 1 1]\n [0 0 0 0]] \n\n[[1 0 0 -2]\n [0 1 0 2]\n [0 0 1 0]\n [0 0 0 0]] \n\n"
     ]
    }
   ],
   "source": [
    "A = np.array([\n",
    "    [2,-4,-4],\n",
    "    [1,0,-6],\n",
    "    [1,0,-1],\n",
    "    [2,-7,3]\n",
    "])\n",
    "\n",
    "b1 = np.array([[-7,-1,-4,-2]]).T\n",
    "b2 = np.array([[-6,-5,0,-2]]).T\n",
    "b3 = np.array([[-12,-2,-2,-18]]).T\n",
    "\n",
    "A1 = Matrix(np.concatenate((A,b1),axis=1))\n",
    "A2 = Matrix(np.concatenate((A,b2),axis=1))\n",
    "A3 = Matrix(np.concatenate((A,b3),axis=1))\n",
    "\n",
    "print(np.array(Matrix(A).rref()[0]),'\\n')\n",
    "print(np.array(A1.rref()[0]),'\\n')\n",
    "print(np.array(A2.rref()[0]),'\\n')\n",
    "print(np.array(A3.rref()[0]),'\\n')"
   ]
  },
  {
   "source": [
    "## Question 3\n",
    "For each of the following vectors, determine whether it is in the image and/or null space of A. If the vector is in the image of A find a vector x so that Ax=vi"
   ],
   "cell_type": "markdown",
   "metadata": {}
  },
  {
   "cell_type": "code",
   "execution_count": 6,
   "metadata": {},
   "outputs": [
    {
     "output_type": "stream",
     "name": "stdout",
     "text": [
      "[[1 0 1 -3]\n [0 1 1 2]\n [0 0 0 0]] \n\n[[ 24]\n [-16]\n [  9]]\n\n-------\n\n[[1 0 1 0]\n [0 1 1 0]\n [0 0 0 1]] \n\n[[0]\n [0]\n [0]]\n"
     ]
    }
   ],
   "source": [
    "A = np.array([\n",
    "    [3,6,9],\n",
    "    [-2,-4,-6],\n",
    "    [1,3,4]\n",
    "])\n",
    "\n",
    "v1 = np.array([[3,-2,3]]).T\n",
    "v2 = np.array([[-1,-1,1]]).T\n",
    "\n",
    "A1 = Matrix(np.concatenate((A,v1),axis=1))\n",
    "A2 = Matrix(np.concatenate((A,v2),axis=1))\n",
    "\n",
    "print(np.array(A1.rref()[0]),'\\n')\n",
    "print(A@v1)\n",
    "print('\\n-------\\n')\n",
    "print(np.array(A2.rref()[0]),'\\n')\n",
    "print(A@v2)"
   ]
  },
  {
   "source": [
    "## Question 4\n",
    "\n",
    "For each of the following vectors, determine whether it is in span{a, b, c}. If so, express it as a linear combination using a, b, and c as the names of the vectors above."
   ],
   "cell_type": "markdown",
   "metadata": {}
  },
  {
   "cell_type": "code",
   "execution_count": 7,
   "metadata": {},
   "outputs": [
    {
     "output_type": "stream",
     "name": "stdout",
     "text": [
      "[[1 0 0 -1]\n [0 1 0 -2]\n [0 0 1 1]\n [0 0 0 0]] \n\n[[1 0 0 0]\n [0 1 0 0]\n [0 0 1 0]\n [0 0 0 1]] \n\n[[1 0 0 1]\n [0 1 0 -2]\n [0 0 1 -1]\n [0 0 0 0]] \n\n"
     ]
    }
   ],
   "source": [
    "A = np.array([\n",
    "    [2,6,-2],\n",
    "    [-2,-4,0],\n",
    "    [3,10,-2],\n",
    "    [1,6,-3]\n",
    "])\n",
    "\n",
    "v1 = np.array([[-16,10,-25,-16]]).T\n",
    "v2 = np.array([[-5,-2,-8,8]]).T\n",
    "v3 = np.array([[-8,6,-15,-8]]).T\n",
    "\n",
    "A1 = Matrix(np.concatenate((A,v1),axis=1))\n",
    "A2 = Matrix(np.concatenate((A,v2),axis=1))\n",
    "A3 = Matrix(np.concatenate((A,v3),axis=1))\n",
    "\n",
    "# print(np.array(Matrix(A).rref()[0]),'\\n')\n",
    "print(np.array(A1.rref()[0]),'\\n')\n",
    "print(np.array(A2.rref()[0]),'\\n')\n",
    "print(np.array(A3.rref()[0]),'\\n')\n"
   ]
  },
  {
   "source": [
    "## Question 5\n",
    "\n",
    "Given the following vectors u and v, find a vector w in ℝ3 so that {u, v, w} spans ℝ3 and a non-zero vector z in ℝ3 so that {u, v, z} does not span ℝ3."
   ],
   "cell_type": "markdown",
   "metadata": {}
  },
  {
   "cell_type": "code",
   "execution_count": 8,
   "metadata": {},
   "outputs": [
    {
     "output_type": "stream",
     "name": "stdout",
     "text": [
      "[[ -40]\n [ 154]\n [-122]] \n \n[[17]\n [ 6]\n [ 2]]\n"
     ]
    }
   ],
   "source": [
    "u = np.array([8,10,10])\n",
    "v = np.array([9,-4,-8])\n",
    "\n",
    "w = np.cross(u,v)\n",
    "z = u+v\n",
    "\n",
    "print(np.array([w]).T,'\\n ')\n",
    "print(np.array([z]).T)\n"
   ]
  },
  {
   "source": [
    "## Question 6 \n",
    "\n",
    "Determine all values of k for which the following set of vectors spans ℝ4. You can select 'always', 'never', 'k = ', or 'k ≠', then specify a value or comma-separated list of values."
   ],
   "cell_type": "markdown",
   "metadata": {}
  },
  {
   "cell_type": "code",
   "execution_count": 9,
   "metadata": {},
   "outputs": [
    {
     "output_type": "execute_result",
     "data": {
      "text/plain": [
       "Matrix([\n",
       "[1, 0,  0,         2],\n",
       "[0, 1,  0,        -2],\n",
       "[0, 0, -2,         0],\n",
       "[0, 0,  0, -2*k - 16]])"
      ],
      "text/latex": "$\\displaystyle \\left[\\begin{matrix}1 & 0 & 0 & 2\\\\0 & 1 & 0 & -2\\\\0 & 0 & -2 & 0\\\\0 & 0 & 0 & - 2 k - 16\\end{matrix}\\right]$"
     },
     "metadata": {},
     "execution_count": 9
    }
   ],
   "source": [
    "k = symbols('k')\n",
    "\n",
    "A = Matrix([\n",
    "    [1,0,0,2],\n",
    "    [1,1,0,0],\n",
    "    [0,0,-2,0],\n",
    "    [0,4,6,k]\n",
    "])\n",
    "\n",
    "\n",
    "A.echelon_form()"
   ]
  },
  {
   "cell_type": "code",
   "execution_count": 10,
   "metadata": {},
   "outputs": [
    {
     "output_type": "execute_result",
     "data": {
      "text/plain": [
       "-8"
      ],
      "text/latex": "$\\displaystyle -8$"
     },
     "metadata": {},
     "execution_count": 10
    }
   ],
   "source": [
    "# Solve for when k = 0\n",
    "solve(A.echelon_form()[-1,-1])[0]"
   ]
  },
  {
   "source": [
    "## Question 7\n",
    "\n",
    "Give a set of vectors that spans each of im(A) and null(A)."
   ],
   "cell_type": "markdown",
   "metadata": {}
  },
  {
   "cell_type": "code",
   "execution_count": 11,
   "metadata": {},
   "outputs": [
    {
     "output_type": "stream",
     "name": "stdout",
     "text": [
      "Vectors spanning column space\n[[1]\n [-1]\n [-3]] \n\n[[1]\n [0]\n [0]] \n\n[[-1]\n [0]\n [1]] \n\nVectors spanning null space\n[[2]\n [1]\n [-4]\n [1]\n [0]] \n\n[[0]\n [-2]\n [4]\n [0]\n [1]] \n\n"
     ]
    }
   ],
   "source": [
    "A = Matrix([\n",
    "    [1,1,-1,-7,6],\n",
    "    [-1,0,0,2,0],\n",
    "    [-3,0,1,10,-4]\n",
    "])\n",
    "\n",
    "Cspace = A.columnspace()\n",
    "Nspace = A.nullspace()\n",
    "\n",
    "print('Vectors spanning column space')\n",
    "for i in range(len(Cspace)):\n",
    "    print(np.array(Cspace[i]),'\\n')\n",
    "\n",
    "print('Vectors spanning null space')\n",
    "for i in range(len(Nspace)):\n",
    "    print(np.array(Nspace[i]),'\\n')\n",
    "\n",
    "\n"
   ]
  }
 ]
}