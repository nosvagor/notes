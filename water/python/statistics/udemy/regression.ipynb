{
 "cells": [
  {
   "cell_type": "markdown",
   "metadata": {},
   "source": [
    "# COURSE: Master statistics and machine learning: Intuition, Math, code\n",
    "##### COURSE URL: udemy.com/course/statsml_x/?couponCode=202006 \n",
    "## SECTION: Regression\n",
    "### VIDEO: Logistic regression\n",
    "#### TEACHER: Mike X Cohen, sincxpress.com"
   ]
  },
  {
   "cell_type": "code",
   "execution_count": null,
   "metadata": {},
   "outputs": [],
   "source": [
    "import numpy as np\n",
    "import matplotlib.pyplot as plt\n",
    "from sklearn.linear_model import LogisticRegression"
   ]
  },
  {
   "cell_type": "code",
   "execution_count": null,
   "metadata": {},
   "outputs": [],
   "source": [
    "## generate the data\n",
    "\n",
    "exam_outcome = [0, 0, 0, 0, 0, 0, 0, 0, 0, 0, 1, 1, 1, 1, 1, 1, 1, 1, 1, 1];\n",
    "study_hours  = [7.9, 7.9, 2.8, 5.4, 6.1, 4.5, 6.9, 2.3, 1.9, 1, 3.1, 5.7, 5.6, 4.7, 4.2, 2, 7.7, 6.5, 5.1, 3.7]\n",
    "sleep_hours  = [4.4, 5.2, 7.5, 4.6, 5.5, 6.1, 6.6, 3.1, 5.9, 3.2, 7.5, 7.8, 6.1, 5.4, 10.5, 8.2, 7.2, 7.2, 5.9, 7.9]\n",
    "\n",
    "n = len(exam_outcome)\n",
    "\n",
    "# and plot\n",
    "for i in range(n):\n",
    "    plt.plot([exam_outcome[i]-.05, exam_outcome[i]+.05],[study_hours[i],sleep_hours[i]],color=[.7,.7,.7])\n",
    "\n",
    "plt.plot(exam_outcome-.05*np.ones(n),study_hours,'ks',markerfacecolor=[1,.8,1],label='Study')\n",
    "plt.plot(exam_outcome+.05*np.ones(n),sleep_hours,'ks',markerfacecolor=[.39,1,1],label='Sleep')\n",
    "\n",
    "plt.xticks([0,1],labels=('Fail','Pass'))\n",
    "plt.xlim([-.5,1.5])\n",
    "plt.ylabel('Hours sleep or study')\n",
    "plt.legend()\n",
    "plt.show()"
   ]
  },
  {
   "cell_type": "code",
   "execution_count": null,
   "metadata": {},
   "outputs": [],
   "source": [
    "## now for the logistic regression\n",
    "\n",
    "# create a model\n",
    "logregmodel = LogisticRegression(solver='liblinear')#'newton-cg')#\n",
    "\n",
    "# create the design matrix\n",
    "desmat = np.vstack((study_hours,sleep_hours)).T\n",
    "\n",
    "logregmodel.fit(desmat,np.array(exam_outcome))\n",
    "\n",
    "print(logregmodel.intercept_)\n",
    "print(logregmodel.coef_)"
   ]
  },
  {
   "cell_type": "code",
   "execution_count": null,
   "metadata": {},
   "outputs": [],
   "source": [
    "# compute predictions and accuracy\n",
    "\n",
    "predvals = logregmodel.predict(desmat) # class labels\n",
    "predvalsP = logregmodel.predict_proba(desmat) # probability values\n",
    "\n",
    "print(predvals)\n",
    "print(np.array(exam_outcome))\n",
    "\n",
    "print(predvalsP)\n",
    "\n",
    "logregmodel.score(desmat,np.array(exam_outcome))"
   ]
  },
  {
   "cell_type": "code",
   "execution_count": null,
   "metadata": {},
   "outputs": [],
   "source": [
    "# plotting\n",
    "\n",
    "fig,ax = plt.subplots(1,1,figsize=(5,5))\n",
    "\n",
    "ax.plot(predvalsP[:,1],'ks')\n",
    "ax.plot([0,19],[.5,.5],'b--')\n",
    "ax.plot([9.5,9.5],[0,1],'b--')\n",
    "\n",
    "ax.set_xticks(np.arange(20))\n",
    "ax.set_xlabel('Individual')\n",
    "ax.set_ylabel('p(pass)')\n",
    "ax.set_xlim([-.5, 19.5])\n",
    "ax.set_ylim([0,1])\n",
    "plt.show()"
   ]
  },
  {
   "cell_type": "markdown",
   "metadata": {},
   "source": [
    "# COURSE: Master statistics and machine learning: Intuition, Math, code\n",
    "##### COURSE URL: udemy.com/course/statsml_x/?couponCode=202006 \n",
    "## SECTION: Regression\n",
    "### VIDEO: Multiple regression\n",
    "#### TEACHER: Mike X Cohen, sincxpress.com"
   ]
  },
  {
   "cell_type": "code",
   "execution_count": null,
   "metadata": {},
   "outputs": [],
   "source": [
    "import numpy as np\n",
    "import matplotlib.pyplot as plt\n",
    "import scipy.stats as stats\n",
    "\n",
    "from sklearn.linear_model import LinearRegression\n",
    "import statsmodels.api as sm"
   ]
  },
  {
   "cell_type": "code",
   "execution_count": null,
   "metadata": {},
   "outputs": [],
   "source": [
    "## example: effects of sleep and study hours on exam scores\n",
    "### create the data\n",
    "\n",
    "exam_scores = []\n",
    "for ei in range(5):\n",
    "    exam_scores = np.hstack((exam_scores,60*np.ones(6)+np.linspace(-1,5,6)*ei))\n",
    "\n",
    "hours_studied = np.tile(np.linspace(2,8,6),5)\n",
    "ave_sleep_hrs = np.linspace(6,10,30)\n"
   ]
  },
  {
   "cell_type": "code",
   "execution_count": null,
   "metadata": {},
   "outputs": [],
   "source": [
    "## plot the data\n",
    "\n",
    "### stratify by hours studied\n",
    "\n",
    "# fewer than 4 hours studied\n",
    "plotidx = hours_studied<4.1\n",
    "plt.plot(ave_sleep_hrs[plotidx],exam_scores[plotidx],'ko',markerfacecolor='k')\n",
    "\n",
    "# 5-6 hours studied\n",
    "plotidx = np.logical_and(hours_studied>4.9, hours_studied<6.1)\n",
    "plt.plot(ave_sleep_hrs[plotidx],exam_scores[plotidx],'ro',markerfacecolor='r')\n",
    "\n",
    "# more than 6 hours\n",
    "plotidx = hours_studied>6\n",
    "plt.plot(ave_sleep_hrs[plotidx],exam_scores[plotidx],'bo',markerfacecolor='b')\n",
    "\n",
    "plt.xlabel('Hours of sleep')\n",
    "plt.ylabel('Exam score')\n",
    "plt.legend(('<4 hours studied','5-6 hours studied','>7 hours studied'))\n",
    "plt.show()\n"
   ]
  },
  {
   "cell_type": "code",
   "execution_count": null,
   "metadata": {},
   "outputs": [],
   "source": [
    "## multiple regression \n",
    "\n",
    "# build the design matrix\n",
    "desmat = np.vstack((np.ones((30,)),ave_sleep_hrs,hours_studied,ave_sleep_hrs*hours_studied)).T\n",
    "\n",
    "multireg = sm.OLS(endog=exam_scores, exog=desmat).fit()\n",
    "multireg.summary()"
   ]
  },
  {
   "cell_type": "code",
   "execution_count": null,
   "metadata": {},
   "outputs": [],
   "source": [
    "# without the interaction term\n",
    "\n",
    "multireg = sm.OLS(endog=exam_scores, exog=desmat[:,0:-1]).fit()\n",
    "multireg.summary()"
   ]
  },
  {
   "cell_type": "code",
   "execution_count": null,
   "metadata": {},
   "outputs": [],
   "source": [
    "# inspect the correlations of the IVs\n",
    "np.corrcoef(desmat[:,1:].T)"
   ]
  },
  {
   "cell_type": "code",
   "execution_count": null,
   "metadata": {},
   "outputs": [],
   "source": []
  },
  {
   "cell_type": "markdown",
   "metadata": {},
   "source": [
    "# COURSE: Master statistics and machine learning: Intuition, Math, code\n",
    "##### COURSE URL: udemy.com/course/statsml_x/?couponCode=202006 \n",
    "## SECTION: Regression\n",
    "### VIDEO: Polynomial regression\n",
    "#### TEACHER: Mike X Cohen, sincxpress.com"
   ]
  },
  {
   "cell_type": "code",
   "execution_count": null,
   "metadata": {},
   "outputs": [],
   "source": [
    "import numpy as np\n",
    "import matplotlib.pyplot as plt"
   ]
  },
  {
   "cell_type": "code",
   "execution_count": null,
   "metadata": {},
   "outputs": [],
   "source": [
    "## generate the data\n",
    "\n",
    "n  = 30\n",
    "x  = np.linspace(-2,4,n)\n",
    "y1 = x**2 + np.random.randn(n)\n",
    "y2 = x**3 + np.random.randn(n)\n",
    "\n",
    "\n",
    "# plot the data\n",
    "plt.plot(x,y1,'ko',markerfacecolor='r')\n",
    "plt.plot(x,y2,'ko',markerfacecolor='g')\n",
    "plt.legend(('Quadratic','Cubic'))\n",
    "plt.show()"
   ]
  },
  {
   "cell_type": "code",
   "execution_count": null,
   "metadata": {},
   "outputs": [],
   "source": [
    "## now for a polynomial fit\n",
    "\n",
    "# for y1\n",
    "pterms = np.polyfit(x,y1,2)\n",
    "yHat1 = np.polyval(pterms,x)\n",
    "\n",
    "# for y2\n",
    "pterms = np.polyfit(x,y2,3)\n",
    "yHat2 = np.polyval(pterms,x)\n",
    "\n",
    "# and all the plotting\n",
    "plt.plot(x,y1,'ko',markerfacecolor='r',label='y1')\n",
    "plt.plot(x,y2,'ko',markerfacecolor='g',label='y2')\n",
    "\n",
    "plt.plot(x,yHat1,'r',label='y1 fit')\n",
    "plt.plot(x,yHat2,'g',label='y2 fit')\n",
    "plt.legend()\n",
    "plt.show()"
   ]
  },
  {
   "cell_type": "code",
   "execution_count": null,
   "metadata": {},
   "outputs": [],
   "source": [
    "# compute R2\n",
    "\n",
    "# compute R2 for several polynomial orders\n",
    "orders = np.arange(1,6)\n",
    "\n",
    "# output matrices\n",
    "r2 = np.zeros((2,len(orders)))\n",
    "sse = np.zeros((2,len(orders)))\n",
    "\n",
    "# the loop!\n",
    "for oi in range(len(orders)):\n",
    "    \n",
    "    # fit the model with oi terms\n",
    "    pterms = np.polyfit(x,y1,orders[oi])\n",
    "    yHat = np.polyval(pterms,x)\n",
    "    \n",
    "    # compute R2\n",
    "    ss_eta = sum((y1-yHat)**2)  # numerator\n",
    "    ss_tot = sum((y1-np.mean(y1))**2)  # denominator\n",
    "    r2[0,oi] = 1 - ss_eta/ss_tot  # R^2\n",
    "    sse[0,oi] = ss_eta  # store just the SSe for model comparison later\n",
    "    \n",
    "    \n",
    "    ### repeat for y2\n",
    "    pterms = np.polyfit(x,y2,orders[oi])\n",
    "    yHat   = np.polyval(pterms,x)\n",
    "    ss_eta = sum((y2-yHat)**2)\n",
    "    ss_tot = np.var(y2)*(n-1)\n",
    "    r2[1,oi] = 1 - ss_eta/ss_tot\n",
    "    sse[1,oi] = ss_eta\n"
   ]
  },
  {
   "cell_type": "code",
   "execution_count": null,
   "metadata": {},
   "outputs": [],
   "source": [
    "fig,ax = plt.subplots(2,1,figsize=(6,4))\n",
    "\n",
    "# plot the R2 results\n",
    "ax[0].plot(orders,r2[0,:],'s-',markerfacecolor='w')\n",
    "ax[0].plot(orders,r2[1,:],'s-',markerfacecolor='w')\n",
    "ax[0].set_ylabel('Model $R^2$')\n",
    "ax[0].set_xticks([])\n",
    "ax[0].legend(('y1','y2'))\n",
    "\n",
    "\n",
    "\n",
    "# compute the Bayes Information Criterion\n",
    "bic = n*np.log(sse) + orders*np.log(n)\n",
    "ax[1].plot(orders,bic[0,:],'s-',markerfacecolor='w')\n",
    "ax[1].plot(orders,bic[1,:],'s-',markerfacecolor='w')\n",
    "ax[1].set_xlabel('Polynomial model order')\n",
    "ax[1].set_xticks(range(1,6))\n",
    "ax[1].set_ylabel('Model BIC')\n",
    "\n",
    "# optional zoom\n",
    "ax[1].set_ylim([90,120])\n",
    "\n",
    "plt.show()"
   ]
  },
  {
   "cell_type": "markdown",
   "metadata": {},
   "source": [
    "# COURSE: Master statistics and machine learning: Intuition, Math, code\n",
    "##### COURSE URL: udemy.com/course/statsml_x/?couponCode=202006 \n",
    "## SECTION: Regression\n",
    "### VIDEO: Simple regression\n",
    "#### TEACHER: Mike X Cohen, sincxpress.com"
   ]
  },
  {
   "cell_type": "code",
   "execution_count": null,
   "metadata": {},
   "outputs": [],
   "source": [
    "import numpy as np\n",
    "import matplotlib.pyplot as plt\n",
    "import scipy.stats as stats"
   ]
  },
  {
   "cell_type": "code",
   "execution_count": null,
   "metadata": {},
   "outputs": [],
   "source": [
    "## example: effects of sleep on food spending\n",
    "\n",
    "sleepHours = [5, 5.5, 6, 6, 7, 7, 7.5, 8, 8.5, 9]\n",
    "dollars = [47, 53, 52, 44, 39, 49, 50, 38, 43, 40]\n",
    "\n",
    "# start by showing the data\n",
    "plt.plot(sleepHours,dollars,'ko',markerfacecolor='k')\n",
    "plt.xlabel('Hours of sleep')\n",
    "plt.ylabel('Fijian dollars')\n",
    "plt.show()"
   ]
  },
  {
   "cell_type": "code",
   "execution_count": null,
   "metadata": {},
   "outputs": [],
   "source": [
    "## \"manual\" regression via least-squares fitting\n",
    "\n",
    "# create the design matrix\n",
    "desmat = np.vstack((np.ones(10),sleepHours)).T\n",
    "print(desmat)\n",
    "\n",
    "# compute the beta parameters (regression coefficients)\n",
    "beta = np.linalg.lstsq(desmat,dollars,rcond=None)[0]\n",
    "print(beta)\n",
    "\n",
    "# predicted data values\n",
    "yHat = desmat@beta"
   ]
  },
  {
   "cell_type": "code",
   "execution_count": null,
   "metadata": {},
   "outputs": [],
   "source": [
    "## show the predicted results on top of the \"real\" data\n",
    "\n",
    "# show previous data\n",
    "plt.plot(sleepHours,dollars,'ko',markerfacecolor='k')\n",
    "\n",
    "# predicted results\n",
    "plt.plot(sleepHours,yHat,'s-')\n",
    "\n",
    "# show the residuals\n",
    "for i in range(10):\n",
    "    plt.plot([sleepHours[i],sleepHours[i]],[dollars[i], yHat[i]],'m--')\n",
    "    \n",
    "\n",
    "plt.legend(('Data (y)','Model ($\\^{y}$)','Residuals'))\n",
    "\n",
    "plt.xlabel('Hours of sleep')\n",
    "plt.ylabel('Fijian dollars')\n",
    "plt.show()"
   ]
  },
  {
   "cell_type": "code",
   "execution_count": null,
   "metadata": {},
   "outputs": [],
   "source": [
    "## now with scipy\n",
    "\n",
    "slope,intercept,r,p,std_err = stats.linregress(sleepHours,dollars)\n",
    "print(intercept,slope)\n",
    "print(beta)"
   ]
  }
 ],
 "metadata": {
  "kernelspec": {
   "display_name": "Python 3",
   "language": "python",
   "name": "python3"
  },
  "language_info": {
   "codemirror_mode": {
    "name": "ipython",
    "version": 3
   },
   "file_extension": ".py",
   "mimetype": "text/x-python",
   "name": "python",
   "nbconvert_exporter": "python",
   "pygments_lexer": "ipython3",
   "version": "3.7.4"
  }
 },
 "nbformat": 4,
 "nbformat_minor": 2
}
