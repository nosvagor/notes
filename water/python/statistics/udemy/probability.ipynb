{
 "cells": [
  {
   "cell_type": "markdown",
   "metadata": {},
   "source": [
    "# COURSE: Master statistics and machine learning: Intuition, Math, code\n",
    "##### COURSE URL: udemy.com/course/statsml_x/?couponCode=202006 \n",
    "## SECTION: Probability theory\n",
    "### VIDEO: cdf's and pdf's\n",
    "#### TEACHER: Mike X Cohen, sincxpress.com"
   ]
  },
  {
   "cell_type": "code",
   "execution_count": null,
   "metadata": {},
   "outputs": [],
   "source": [
    "# import libraries\n",
    "import matplotlib.pyplot as plt\n",
    "import numpy as np\n",
    "import scipy.stats as stats"
   ]
  },
  {
   "cell_type": "code",
   "execution_count": null,
   "metadata": {},
   "outputs": [],
   "source": [
    "## example using log-normal distribution\n",
    "\n",
    "# variable to evaluate the functions on\n",
    "x = np.linspace(0,5,1001)\n",
    "\n",
    "# note the function call pattern...\n",
    "p1 = stats.lognorm.pdf(x,1)\n",
    "c1 = stats.lognorm.cdf(x,1)\n",
    "\n",
    "p2 = stats.lognorm.pdf(x,.1)\n",
    "c2 = stats.lognorm.cdf(x,.1)\n"
   ]
  },
  {
   "cell_type": "code",
   "execution_count": null,
   "metadata": {},
   "outputs": [],
   "source": [
    "# draw the pdfs\n",
    "fig,ax = plt.subplots(2,1,figsize=(4,7))\n",
    "\n",
    "ax[0].plot(x,p1/sum(p1)) # question: why divide by sum here?\n",
    "ax[0].plot(x,p1/sum(p1), x,p2/sum(p2))\n",
    "ax[0].set_ylabel('probability')\n",
    "ax[0].set_title('pdf(x)')\n",
    "\n",
    "# draw the cdfs\n",
    "ax[1].plot(x,c1)\n",
    "ax[1].plot(x,c1, x,c2)\n",
    "ax[1].set_ylabel('probability')\n",
    "ax[1].set_title('cdf(x)')\n",
    "plt.show()"
   ]
  },
  {
   "cell_type": "code",
   "execution_count": null,
   "metadata": {},
   "outputs": [],
   "source": [
    "## computing the cdf from the pdf\n",
    "\n",
    "# compute the cdf\n",
    "c1x = np.cumsum( p1 )\n",
    "\n",
    "plt.plot(x,c1)\n",
    "plt.plot(x,c1x,'--')\n",
    "plt.show()"
   ]
  },
  {
   "cell_type": "markdown",
   "metadata": {},
   "source": [
    "# COURSE: Master statistics and machine learning: Intuition, Math, code\n",
    "##### COURSE URL: udemy.com/course/statsml_x/?couponCode=202006 \n",
    "## SECTION: Probability theory\n",
    "### VIDEO: Central limit theorem in action!\n",
    "#### TEACHER: Mike X Cohen, sincxpress.com"
   ]
  },
  {
   "cell_type": "code",
   "execution_count": null,
   "metadata": {},
   "outputs": [],
   "source": [
    "# import libraries\n",
    "import matplotlib.pyplot as plt\n",
    "import numpy as np"
   ]
  },
  {
   "cell_type": "code",
   "execution_count": null,
   "metadata": {},
   "outputs": [],
   "source": [
    "## create data from a power-law distribution\n",
    "\n",
    "# data\n",
    "N = 1000000\n",
    "data = np.random.randn(N)**2\n",
    "# alternative data\n",
    "# data = np.sin(np.linspace(0,10*np.pi,N))\n",
    "\n",
    "# show the distribution\n",
    "plt.plot(data,'.')\n",
    "plt.show()\n",
    "\n",
    "plt.hist(data,40)\n",
    "plt.show()"
   ]
  },
  {
   "cell_type": "code",
   "execution_count": null,
   "metadata": {},
   "outputs": [],
   "source": [
    "## repeated samples of the mean\n",
    "\n",
    "samplesize   = 30\n",
    "numberOfExps = 500\n",
    "samplemeans  = np.zeros(numberOfExps)\n",
    "\n",
    "for expi in range(numberOfExps):\n",
    "    # get a sample and compute its mean\n",
    "    sampleidx = np.random.randint(0,N,samplesize)\n",
    "    samplemeans[expi] = np.mean(data[ sampleidx ])\n",
    "    \n",
    "\n",
    "# and show its distribution\n",
    "plt.hist(samplemeans,30)\n",
    "plt.xlabel('Mean estimate')\n",
    "plt.ylabel('Count')\n",
    "plt.show()\n"
   ]
  },
  {
   "cell_type": "code",
   "execution_count": null,
   "metadata": {},
   "outputs": [],
   "source": [
    "## linear mixtures\n",
    "\n",
    "# create two datasets with non-Gaussian distributions\n",
    "x = np.linspace(0,6*np.pi,10001)\n",
    "s = np.sin(x)\n",
    "u = 2*np.random.rand(len(x))-1\n",
    "\n",
    "fig,ax = plt.subplots(2,3,figsize=(10,6))\n",
    "ax[0,0].plot(x,s,'b')\n",
    "ax[0,0].set_title('Signal')\n",
    "\n",
    "y,xx = np.histogram(s,200)\n",
    "ax[1,0].plot(y,'b')\n",
    "ax[1,0].set_title('Distribution')\n",
    "\n",
    "ax[0,1].plot(x,u,'m')\n",
    "ax[0,1].set_title('Signal')\n",
    "\n",
    "y,xx = np.histogram(u,200)\n",
    "ax[1,1].plot(y,'m')\n",
    "ax[1,1].set_title('Distribution')\n",
    "\n",
    "ax[0,2].plot(x,s+u,'k')\n",
    "ax[0,2].set_title('Combined signal')\n",
    "\n",
    "y,xx = np.histogram(s+u,200)\n",
    "ax[1,2].plot(y,'k')\n",
    "ax[1,2].set_title('Combined distribution')\n",
    "\n",
    "plt.show()"
   ]
  },
  {
   "cell_type": "markdown",
   "metadata": {},
   "source": [
    "# COURSE: Master statistics and machine learning: Intuition, Math, code\n",
    "##### COURSE URL: udemy.com/course/statsml_x/?couponCode=202006 \n",
    "## SECTION: Probability theory\n",
    "### VIDEO: Compute probabilities\n",
    "#### TEACHER: Mike X Cohen, sincxpress.com"
   ]
  },
  {
   "cell_type": "code",
   "execution_count": null,
   "metadata": {},
   "outputs": [],
   "source": [
    "# import libraries\n",
    "import matplotlib.pyplot as plt\n",
    "import numpy as np"
   ]
  },
  {
   "cell_type": "code",
   "execution_count": null,
   "metadata": {},
   "outputs": [],
   "source": [
    "## the basic formula\n",
    "\n",
    "# counts of the different events\n",
    "c = np.array([ 1, 2, 4, 3 ])\n",
    "\n",
    "# convert to probability (%)\n",
    "prob = 100*c / np.sum(c)\n",
    "print(prob)"
   ]
  },
  {
   "cell_type": "code",
   "execution_count": null,
   "metadata": {},
   "outputs": [],
   "source": [
    "## the example of drawing marbles from a jar\n",
    "\n",
    "# colored marble counts\n",
    "blue   = 40\n",
    "yellow = 30\n",
    "orange = 20\n",
    "totalMarbs = blue + yellow + orange\n",
    "\n",
    "# put them all in a jar\n",
    "jar = np.hstack((1*np.ones(blue),2*np.ones(yellow),3*np.ones(orange)))\n",
    "\n",
    "# now we draw 500 marbles (with replacement)\n",
    "numDraws = 500\n",
    "drawColors = np.zeros(numDraws)\n",
    "\n",
    "for drawi in range(numDraws):\n",
    "    \n",
    "    # generate a random integer to draw\n",
    "    randmarble = int(np.random.rand()*len(jar))\n",
    "    \n",
    "    # store the color of that marble\n",
    "    drawColors[drawi] = jar[randmarble]\n",
    "\n",
    "# now we need to know the proportion of colors drawn\n",
    "propBlue = sum(drawColors==1) / numDraws\n",
    "propYell = sum(drawColors==2) / numDraws\n",
    "propOran = sum(drawColors==3) / numDraws\n",
    "\n",
    "\n",
    "# plot those against the theoretical probability\n",
    "plt.bar([1,2,3],[ propBlue, propYell, propOran ],label='Proportion')\n",
    "plt.plot([0.5, 1.5],[blue/totalMarbs, blue/totalMarbs],'b',linewidth=3,label='Probability')\n",
    "plt.plot([1.5, 2.5],[yellow/totalMarbs,yellow/totalMarbs],'b',linewidth=3)\n",
    "plt.plot([2.5, 3.5],[orange/totalMarbs,orange/totalMarbs],'b',linewidth=3)\n",
    "\n",
    "plt.xticks([1,2,3],labels=('Blue','Yellow','Orange'))\n",
    "plt.xlabel('Marble color')\n",
    "plt.ylabel('Proportion/probability')\n",
    "plt.legend()\n",
    "plt.show()"
   ]
  },
  {
   "cell_type": "markdown",
   "metadata": {},
   "source": [
    "# COURSE: Master statistics and machine learning: Intuition, Math, code\n",
    "##### COURSE URL: udemy.com/course/statsml_x/?couponCode=202006 \n",
    "## SECTION: Probability theory\n",
    "### VIDEO: Conditional probability\n",
    "#### TEACHER: Mike X Cohen, sincxpress.com"
   ]
  },
  {
   "cell_type": "code",
   "execution_count": null,
   "metadata": {},
   "outputs": [],
   "source": [
    "# import libraries\n",
    "import matplotlib.pyplot as plt\n",
    "import numpy as np"
   ]
  },
  {
   "cell_type": "code",
   "execution_count": null,
   "metadata": {},
   "outputs": [],
   "source": [
    "## generate two long-spike time series\n",
    "\n",
    "N = 10000\n",
    "spikeDur  = 10  # a.u. but must be an even number\n",
    "spikeNumA = .01 # in proportion of total number of points\n",
    "spikeNumB = .05 # in proportion of total number of points\n",
    "\n",
    "# initialize to zeros\n",
    "spike_tsA = np.zeros(N)\n",
    "spike_tsB = np.zeros(N)\n",
    "\n",
    "\n",
    "### populate time series A\n",
    "spiketimesA = np.random.randint(0,N,int(N*spikeNumA))\n",
    "\n",
    "# flesh out spikes (loop per spike)\n",
    "for spikei in range(len(spiketimesA)):\n",
    "    \n",
    "    # find boundaries\n",
    "    bnd_pre = int( max(0,spiketimesA[spikei]-spikeDur/2) )\n",
    "    bnd_pst = int( min(N,spiketimesA[spikei]+spikeDur/2) )\n",
    "    \n",
    "    # fill in with ones\n",
    "    spike_tsA[bnd_pre:bnd_pst] = 1\n",
    "\n",
    "\n",
    "# ### repeat for time series 2\n",
    "spiketimesB = np.random.randint(0,N,int(N*spikeNumB))\n",
    "# spiketimesB[:len(spiketimesA)] = spiketimesA # induce strong conditional probability\n",
    "\n",
    "# flesh out spikes (loop per spike)\n",
    "for spikei in range(len(spiketimesB)):\n",
    "    \n",
    "    # find boundaries\n",
    "    bnd_pre = int( max(0,spiketimesB[spikei]-spikeDur/2) )\n",
    "    bnd_pst = int( min(N,spiketimesB[spikei]+spikeDur/2) )\n",
    "    \n",
    "    # fill in with ones\n",
    "    spike_tsB[bnd_pre:bnd_pst] = 1\n"
   ]
  },
  {
   "cell_type": "code",
   "execution_count": null,
   "metadata": {},
   "outputs": [],
   "source": [
    "## let's see what they look like\n",
    "\n",
    "plt.plot(range(N),spike_tsA, range(N),spike_tsB)\n",
    "plt.ylim([0,1.2])\n",
    "# plt.xlim([2000,2500])\n",
    "plt.show()"
   ]
  },
  {
   "cell_type": "code",
   "execution_count": null,
   "metadata": {},
   "outputs": [],
   "source": [
    "## compute their probabilities and intersection\n",
    "\n",
    "# probabilities\n",
    "probA = sum(spike_tsA==1) / N\n",
    "probB = np.mean(spike_tsB)\n",
    "\n",
    "# joint probability\n",
    "probAB = np.mean(spike_tsA+spike_tsB==2)\n",
    "\n",
    "print(probA,probB,probAB)"
   ]
  },
  {
   "cell_type": "code",
   "execution_count": null,
   "metadata": {},
   "outputs": [],
   "source": [
    "## compute the conditional probabilities\n",
    "\n",
    "# p(A|B)\n",
    "pAgivenB = probAB/probB\n",
    "\n",
    "# p(B|A)\n",
    "pBgivenA = probAB/probA\n",
    "\n",
    "# print a little report\n",
    "print('P(A)   = %g'%probA)\n",
    "print('P(A|B) = %g'%pAgivenB)\n",
    "print('P(B)   = %g'%probB)\n",
    "print('P(B|A) = %g'%pBgivenA)"
   ]
  },
  {
   "cell_type": "markdown",
   "metadata": {},
   "source": [
    "# COURSE: Master statistics and machine learning: Intuition, Math, code\n",
    "##### COURSE URL: udemy.com/course/statsml_x/?couponCode=202006 \n",
    "## SECTION: Probability theory\n",
    "### VIDEO: The law of large numbers\n",
    "#### TEACHER: Mike X Cohen, sincxpress.com"
   ]
  },
  {
   "cell_type": "code",
   "execution_count": null,
   "metadata": {},
   "outputs": [],
   "source": [
    "# import libraries\n",
    "import matplotlib.pyplot as plt\n",
    "import numpy as np"
   ]
  },
  {
   "cell_type": "code",
   "execution_count": null,
   "metadata": {},
   "outputs": [],
   "source": [
    "## example with rolling a die\n",
    "\n",
    "# die probabilities (weighted)\n",
    "f1 = 2/8\n",
    "f2 = 2/8\n",
    "f3 = 1/8\n",
    "f4 = 1/8\n",
    "f5 = 1/8\n",
    "f6 = 1/8\n",
    "\n",
    "# confirm sum to 1\n",
    "print(f1+f2+f3+f4+f5+f6)\n",
    "\n",
    "# expected value\n",
    "expval = 1*f1 + 2*f2 + 3*f3 + 4*f4 + 5*f5 + 6*f6\n",
    "\n",
    "# generate \"population\"\n",
    "population = [ 1, 1, 2, 2, 3, 4, 5, 6 ]\n",
    "for i in range(20):\n",
    "    population = np.hstack((population,population))\n",
    "\n",
    "nPop = len(population)\n",
    "\n",
    "# draw sample of 8 rolls\n",
    "sample = np.random.choice(population,8)"
   ]
  },
  {
   "cell_type": "code",
   "execution_count": null,
   "metadata": {},
   "outputs": [],
   "source": [
    "## experiment: draw larger and larger samples\n",
    "\n",
    "k = 5000  # maximum number of samples\n",
    "sampleAve = np.zeros(k)\n",
    "\n",
    "for i in range(k):\n",
    "    idx = np.floor(np.random.rand(i+1)*nPop)\n",
    "    sampleAve[i] = np.mean( population[idx.astype(int)] )\n",
    "\n",
    "\n",
    "plt.plot(sampleAve,'k')\n",
    "plt.plot([1,k],[expval,expval],'r',linewidth=4)\n",
    "plt.xlabel('Number of samples')\n",
    "plt.ylabel('Value')\n",
    "plt.ylim([expval-1, expval+1])\n",
    "plt.legend(('Sample average','expected value'))\n",
    "\n",
    "# mean of samples converges to population estimate quickly:\n",
    "print( np.mean(sampleAve) )\n",
    "print( np.mean(sampleAve[:9]) )"
   ]
  },
  {
   "cell_type": "code",
   "execution_count": null,
   "metadata": {},
   "outputs": [],
   "source": [
    "## Another example from a previous lecture (sampleVariability) (slightly adapted)\n",
    "\n",
    "# generate population data with known mean\n",
    "populationN = 1000000\n",
    "population = np.random.randn(populationN)\n",
    "population = population - np.mean(population)  # demean\n",
    "\n",
    "\n",
    "# get means of samples\n",
    "samplesize   = 30\n",
    "numberOfExps = 500\n",
    "samplemeans  = np.zeros(numberOfExps)\n",
    "\n",
    "for expi in range(numberOfExps):\n",
    "    # get a sample and compute its mean\n",
    "    sampleidx = np.random.randint(0,populationN,samplesize)\n",
    "    samplemeans[expi] = np.mean(population[ sampleidx ])\n",
    "\n",
    "\n",
    "# show the results!\n",
    "fig,ax = plt.subplots(2,1,figsize=(4,6))\n",
    "ax[0].plot(samplemeans,'s-')\n",
    "ax[0].plot([0,numberOfExps],[np.mean(population),np.mean(population)],'r',linewidth=3)\n",
    "ax[0].set_xlabel('Experiment number')\n",
    "ax[0].set_ylabel('mean value')\n",
    "ax[0].legend(('Sample means','Population mean'))\n",
    "\n",
    "ax[1].plot(np.cumsum(samplemeans) / np.arange(1,numberOfExps+1),'s-')\n",
    "ax[1].plot([0,numberOfExps],[np.mean(population),np.mean(population)],'r',linewidth=3)\n",
    "ax[1].set_xlabel('Experiment number')\n",
    "ax[1].set_ylabel('mean value')\n",
    "ax[1].legend(('Sample means','Population mean'))\n",
    "\n",
    "plt.show()"
   ]
  },
  {
   "cell_type": "code",
   "execution_count": null,
   "metadata": {},
   "outputs": [],
   "source": [
    "## some foreshadowing...\n",
    "\n",
    "plt.hist(samplemeans,30)\n",
    "plt.xlabel('Sample mean value')\n",
    "plt.ylabel('Count')\n",
    "plt.show()"
   ]
  },
  {
   "cell_type": "markdown",
   "metadata": {},
   "source": [
    "# COURSE: Master statistics and machine learning: Intuition, Math, code\n",
    "##### COURSE URL: udemy.com/course/statsml_x/?couponCode=202006 \n",
    "## SECTION: Probability theory\n",
    "### VIDEO: Compute probability mass functions\n",
    "#### TEACHER: Mike X Cohen, sincxpress.com"
   ]
  },
  {
   "cell_type": "code",
   "execution_count": null,
   "metadata": {},
   "outputs": [],
   "source": [
    "# import libraries\n",
    "import matplotlib.pyplot as plt\n",
    "import numpy as np"
   ]
  },
  {
   "cell_type": "code",
   "execution_count": null,
   "metadata": {},
   "outputs": [],
   "source": [
    "\n",
    "## re-run marble jar code from \"compute probabilities\"\n"
   ]
  },
  {
   "cell_type": "code",
   "execution_count": null,
   "metadata": {},
   "outputs": [],
   "source": [
    "## compute empirical probability function\n",
    "\n",
    "# continous signal (technically discrete!)\n",
    "N = 10004\n",
    "datats1 = np.cumsum(np.sign(np.random.randn(N)))\n",
    "datats2 = np.cumsum(np.sign(np.random.randn(N)))\n",
    "\n",
    "# let's see what they look like\n",
    "plt.plot(np.arange(N),datats1,linewidth=2)\n",
    "plt.plot(np.arange(N),datats2,linewidth=2)\n",
    "plt.show()\n",
    "\n",
    "\n",
    "# discretize using histograms\n",
    "nbins = 50\n",
    "\n",
    "y,x = np.histogram(datats1,nbins)\n",
    "x1 = (x[1:]+x[:-1])/2\n",
    "y1 = y/sum(y)\n",
    "\n",
    "y,x = np.histogram(datats2,nbins)\n",
    "x2 = (x[1:]+x[:-1])/2\n",
    "y2 = y/sum(y)\n",
    "\n",
    "\n",
    "plt.plot(x1,y1, x2,y2,linewidth=3)\n",
    "plt.legend(('ts1','ts2'))\n",
    "plt.xlabel('Data value')\n",
    "plt.ylabel('Probability')\n",
    "plt.show()"
   ]
  },
  {
   "cell_type": "markdown",
   "metadata": {},
   "source": [
    "# COURSE: Master statistics and machine learning: Intuition, Math, code\n",
    "##### COURSE URL: udemy.com/course/statsml_x/?couponCode=202006 \n",
    "## SECTION: Probability theory\n",
    "### VIDEO: Sampling variability\n",
    "#### TEACHER: Mike X Cohen, sincxpress.com"
   ]
  },
  {
   "cell_type": "code",
   "execution_count": null,
   "metadata": {},
   "outputs": [],
   "source": [
    "# import libraries\n",
    "import matplotlib.pyplot as plt\n",
    "import numpy as np\n",
    "import scipy.stats as stats"
   ]
  },
  {
   "cell_type": "code",
   "execution_count": null,
   "metadata": {},
   "outputs": [],
   "source": [
    "## a theoretical normal distribution\n",
    "x = np.linspace(-5,5,10101)\n",
    "theoNormDist = stats.norm.pdf(x)\n",
    "# (normalize to pdf)\n",
    "# theoNormDist = theoNormDist*np.mean(np.diff(x))\n",
    "\n",
    "# now for our experiment\n",
    "numSamples = 40\n",
    "\n",
    "# initialize\n",
    "sampledata = np.zeros(numSamples)\n",
    "\n",
    "# run the experiment!\n",
    "for expi in range(numSamples):\n",
    "    sampledata[expi] = np.random.randn()\n",
    "\n",
    "\n",
    "# show the results\n",
    "plt.hist(sampledata,density=True)\n",
    "plt.plot(x,theoNormDist,'r',linewidth=3)\n",
    "plt.xlabel('Data values')\n",
    "plt.ylabel('Probability')\n",
    "plt.show()"
   ]
  },
  {
   "cell_type": "code",
   "execution_count": null,
   "metadata": {},
   "outputs": [],
   "source": [
    "## show the mean of samples of a known distribution\n",
    "\n",
    "# generate population data with known mean\n",
    "populationN = 1000000\n",
    "population  = np.random.randn(populationN)\n",
    "population  = population - np.mean(population) # demean\n",
    "\n",
    "\n",
    "# now we draw a random sample from that population\n",
    "samplesize = 30\n",
    "\n",
    "# the random indices to select from the population\n",
    "sampleidx = np.random.randint(0,populationN,samplesize)\n",
    "samplemean = np.mean(population[ sampleidx ])\n",
    "\n",
    "### how does the sample mean compare to the population mean?\n",
    "print(samplemean)"
   ]
  },
  {
   "cell_type": "code",
   "execution_count": null,
   "metadata": {},
   "outputs": [],
   "source": [
    "## repeat for different sample sizes\n",
    "\n",
    "samplesizes = np.arange(30,1000)\n",
    "\n",
    "samplemeans = np.zeros(len(samplesizes))\n",
    "\n",
    "for sampi in range(len(samplesizes)):\n",
    "    \n",
    "    # nearly the same code as above\n",
    "    sampleidx = np.random.randint(0,populationN,samplesizes[sampi])\n",
    "    samplemeans[sampi] = np.mean(population[ sampleidx ])\n",
    "\n",
    "\n",
    "# show the results!\n",
    "plt.plot(samplesizes,samplemeans,'s-')\n",
    "plt.plot(samplesizes[[0,-1]],[np.mean(population),np.mean(population)],'r',linewidth=3)\n",
    "plt.xlabel('sample size')\n",
    "plt.ylabel('mean value')\n",
    "plt.legend(('Sample means','Population mean'))\n",
    "plt.show()"
   ]
  }
 ],
 "metadata": {
  "kernelspec": {
   "display_name": "Python 3",
   "language": "python",
   "name": "python3"
  },
  "language_info": {
   "codemirror_mode": {
    "name": "ipython",
    "version": 3
   },
   "file_extension": ".py",
   "mimetype": "text/x-python",
   "name": "python",
   "nbconvert_exporter": "python",
   "pygments_lexer": "ipython3",
   "version": "3.7.4"
  }
 },
 "nbformat": 4,
 "nbformat_minor": 2
}
