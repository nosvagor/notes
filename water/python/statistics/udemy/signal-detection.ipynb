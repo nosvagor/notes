{
 "cells": [
  {
   "cell_type": "markdown",
   "metadata": {},
   "source": [
    "# COURSE: Master statistics and machine learning: Intuition, Math, code\n",
    "##### COURSE URL: udemy.com/course/statsml_x/?couponCode=202006 \n",
    "## SECTION: Signal detection theory\n",
    "### VIDEO: d-prime\n",
    "#### TEACHER: Mike X Cohen, sincxpress.com"
   ]
  },
  {
   "cell_type": "code",
   "execution_count": null,
   "metadata": {},
   "outputs": [],
   "source": [
    "import numpy as np\n",
    "import matplotlib.pyplot as plt\n",
    "import scipy.stats as stats"
   ]
  },
  {
   "cell_type": "code",
   "execution_count": null,
   "metadata": {},
   "outputs": [],
   "source": [
    "## example from the slides\n",
    "\n",
    "# step 1\n",
    "hitP = 22/30\n",
    "faP  =  3/30\n",
    "\n",
    "# step 2\n",
    "hitZ = stats.norm.ppf(hitP)\n",
    "faZ  = stats.norm.ppf(faP)\n",
    "\n",
    "# step 3\n",
    "dPrime = hitZ-faZ\n",
    "\n",
    "print(dPrime)"
   ]
  },
  {
   "cell_type": "code",
   "execution_count": null,
   "metadata": {},
   "outputs": [],
   "source": [
    "## failure scenarios and their resolutions\n",
    "\n",
    "hitZ = stats.norm.ppf(0/30)\n",
    "faZ  = stats.norm.ppf(22/30)\n",
    "\n",
    "print(hitZ-faZ)"
   ]
  },
  {
   "cell_type": "code",
   "execution_count": null,
   "metadata": {},
   "outputs": [],
   "source": [
    "## 2D d' space\n",
    "\n",
    "# response probabilities\n",
    "x  = np.arange(.01,1,.01)\n",
    "\n",
    "# generate the space using tile expansion\n",
    "dp = np.tile(stats.norm.ppf(x),(99,1)).T - np.tile(stats.norm.ppf(x),(99,1))\n",
    "\n",
    "\n",
    "# show the 2D d' space\n",
    "plt.imshow(dp,extent=[x[0],x[-1],x[0],x[-1]],origin='lower')\n",
    "plt.xlabel('False alarm rate')\n",
    "plt.ylabel('Hit rate')\n",
    "plt.title(\"d'\")\n",
    "plt.colorbar()\n",
    "plt.show()"
   ]
  },
  {
   "cell_type": "markdown",
   "metadata": {},
   "source": [
    "# COURSE: Master statistics and machine learning: Intuition, Math, code\n",
    "##### COURSE URL: udemy.com/course/statsml_x/?couponCode=202006 \n",
    "## SECTION: Signal detection theory\n",
    "### VIDEO: F-score\n",
    "#### TEACHER: Mike X Cohen, sincxpress.com"
   ]
  },
  {
   "cell_type": "code",
   "execution_count": null,
   "metadata": {},
   "outputs": [],
   "source": [
    "import numpy as np\n",
    "import matplotlib.pyplot as plt\n",
    "import scipy.stats as stats"
   ]
  },
  {
   "cell_type": "code",
   "execution_count": null,
   "metadata": {},
   "outputs": [],
   "source": [
    "## run experiment\n",
    "\n",
    "# number of 'trials' in the experiment\n",
    "N = 50 # actual trials is 2N\n",
    "\n",
    "# number of experiment repetitions\n",
    "numExps = 10000\n",
    "\n",
    "# initialize\n",
    "Fscores     = np.zeros(numExps)\n",
    "dPrimes     = np.zeros(numExps)\n",
    "specificity = np.zeros(numExps)\n",
    "\n",
    "\n",
    "### run the experiment!\n",
    "for expi in range(numExps):\n",
    "    \n",
    "    # generate data\n",
    "    H = np.random.randint(1,N)  # hits\n",
    "    M = N-H                     # misses\n",
    "    CR = np.random.randint(1,N) # correct rejections\n",
    "    FA = N-CR                   # false alarms\n",
    "    \n",
    "    # Fscore\n",
    "    Fscores[expi] = H / (H+(FA+M)/2)\n",
    "    \n",
    "    # specificity\n",
    "    specificity[expi] = CR/(CR+FA)\n",
    "    \n",
    "    # d'\n",
    "    dPrimes[expi] = stats.norm.ppf(H/N) - stats.norm.ppf(FA/N)\n",
    "    \n",
    "    \n",
    "    # not used here...\n",
    "    precision = H/(H+FA)\n",
    "    recall    = H/(H+M)\n"
   ]
  },
  {
   "cell_type": "code",
   "execution_count": null,
   "metadata": {},
   "outputs": [],
   "source": [
    "## let's see how they relate to each other!\n",
    "\n",
    "fig = plt.subplots(1,figsize=(6,6))\n",
    "\n",
    "plt.scatter(dPrimes,Fscores,s=5,c=specificity)\n",
    "plt.plot([-4,4],[.5,.5],'k--',linewidth=.5)\n",
    "plt.plot([0,0],[0,1],'k--',linewidth=.5)\n",
    "plt.xlabel('d-prime')\n",
    "plt.ylabel('F-score')\n",
    "plt.title('Correlation = %g' %np.round(np.corrcoef(Fscores,dPrimes)[1,0],3))\n",
    "\n",
    "plt.show()"
   ]
  },
  {
   "cell_type": "markdown",
   "metadata": {},
   "source": [
    "# COURSE: Master statistics and machine learning: Intuition, Math, code\n",
    "##### COURSE URL: udemy.com/course/statsml_x/?couponCode=202006 \n",
    "## SECTION: Signal detection theory\n",
    "### VIDEO: Response bias\n",
    "#### TEACHER: Mike X Cohen, sincxpress.com"
   ]
  },
  {
   "cell_type": "code",
   "execution_count": null,
   "metadata": {},
   "outputs": [],
   "source": [
    "import numpy as np\n",
    "import matplotlib.pyplot as plt\n",
    "import scipy.stats as stats"
   ]
  },
  {
   "cell_type": "code",
   "execution_count": null,
   "metadata": {},
   "outputs": [],
   "source": [
    "## example from the slides\n",
    "\n",
    "# step 1\n",
    "hitP = 22/30\n",
    "faP  =  3/30\n",
    "\n",
    "# step 2\n",
    "hitZ = stats.norm.ppf(hitP)\n",
    "faZ  = stats.norm.ppf(faP)\n",
    "\n",
    "# step 3\n",
    "respBias = -(hitZ+faZ)/2\n",
    "\n",
    "print(respBias)"
   ]
  },
  {
   "cell_type": "code",
   "execution_count": null,
   "metadata": {},
   "outputs": [],
   "source": [
    "## 2D bias space\n",
    "\n",
    "# response probabilities\n",
    "x  = np.arange(.01,1,.01)\n",
    "\n",
    "# generate the space using tile expansion\n",
    "rb = -( np.tile(stats.norm.ppf(x),(99,1)).T + np.tile(stats.norm.ppf(x),(99,1)) )/2\n",
    "\n",
    "\n",
    "# show the 2D response bias space\n",
    "plt.imshow(rb,extent=[x[0],x[-1],x[0],x[-1]],origin='lower')\n",
    "plt.xlabel('False alarm rate')\n",
    "plt.ylabel('Hit rate')\n",
    "plt.title('Response bias')\n",
    "plt.colorbar()\n",
    "plt.show()"
   ]
  },
  {
   "cell_type": "markdown",
   "metadata": {},
   "source": [
    "# COURSE: Master statistics and machine learning: Intuition, Math, code\n",
    "##### COURSE URL: udemy.com/course/statsml_x/?couponCode=202006 \n",
    "## SECTION: Signal detection theory\n",
    "### VIDEO: ROC curves\n",
    "#### TEACHER: Mike X Cohen, sincxpress.com"
   ]
  },
  {
   "cell_type": "code",
   "execution_count": null,
   "metadata": {},
   "outputs": [],
   "source": [
    "import numpy as np\n",
    "import matplotlib.pyplot as plt\n",
    "import scipy.stats as stats"
   ]
  },
  {
   "cell_type": "code",
   "execution_count": null,
   "metadata": {},
   "outputs": [],
   "source": [
    "## first, re-create the dp and rb matrices from previous lectures\n",
    "\n",
    "x  = np.arange(.01,1,.01)\n",
    "dp = np.tile(stats.norm.ppf(x),(99,1)).T - np.tile(stats.norm.ppf(x),(99,1))\n",
    "rb = -( np.tile(stats.norm.ppf(x),(99,1)).T + np.tile(stats.norm.ppf(x),(99,1)) )/2"
   ]
  },
  {
   "cell_type": "code",
   "execution_count": null,
   "metadata": {},
   "outputs": [],
   "source": [
    "## create the 2D bias spaces and plot their ROC curves\n",
    "\n",
    "rb2plot = [.3, .5, .9, 1.5] # d'/bias levels \n",
    "tol = .01 # tolerance for matching levels\n",
    "colorz = 'rbmk'\n",
    "\n",
    "# setup the figure\n",
    "fig,ax = plt.subplots(1,2,figsize=(10,5))\n",
    "\n",
    "# show the 2D spaces\n",
    "ax[0].imshow(dp,extent=[x[0],x[-1],x[0],x[-1]],origin='lower')\n",
    "ax[0].set_xlabel('False alarm rate')\n",
    "ax[0].set_ylabel('Hit rate')\n",
    "ax[0].set_title(\"d'\")\n",
    "\n",
    "ax[1].imshow(rb,extent=[x[0],x[-1],x[0],x[-1]],origin='lower')\n",
    "ax[1].set_xlabel('False alarm rate')\n",
    "ax[1].set_ylabel('Hit rate')\n",
    "ax[1].set_title('Response bias')\n",
    "\n",
    "\n",
    "\n",
    "### now draw the isocontours\n",
    "for i in range(len(rb2plot)):\n",
    "    \n",
    "    # find d' points\n",
    "    idx = np.where((dp>rb2plot[i]-tol) & (dp<rb2plot[i]+tol))\n",
    "    ax[0].plot(x[idx[1]],x[idx[0]],'o-',color=colorz[i])\n",
    "    \n",
    "    # find bias points\n",
    "    idx = np.where((rb>rb2plot[i]-tol) & (rb<rb2plot[i]+tol))\n",
    "    ax[1].plot(x[idx[1]],x[idx[0]],'o-',color=colorz[i])\n",
    "\n",
    "\n",
    "plt.show()"
   ]
  }
 ],
 "metadata": {
  "kernelspec": {
   "display_name": "Python 3",
   "language": "python",
   "name": "python3"
  },
  "language_info": {
   "codemirror_mode": {
    "name": "ipython",
    "version": 3
   },
   "file_extension": ".py",
   "mimetype": "text/x-python",
   "name": "python",
   "nbconvert_exporter": "python",
   "pygments_lexer": "ipython3",
   "version": "3.7.3"
  }
 },
 "nbformat": 4,
 "nbformat_minor": 2
}
