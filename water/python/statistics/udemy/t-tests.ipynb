{
 "cells": [
  {
   "cell_type": "markdown",
   "metadata": {},
   "source": [
    "# COURSE: Master statistics and machine learning: Intuition, Math, code\n",
    "##### COURSE URL: udemy.com/course/statsml_x/?couponCode=202006 \n",
    "## SECTION: The t-test family\n",
    "### VIDEO: Mann-Whitney U test\n",
    "#### TEACHER: Mike X Cohen, sincxpress.com"
   ]
  },
  {
   "cell_type": "code",
   "execution_count": null,
   "metadata": {},
   "outputs": [],
   "source": [
    "# import libraries\n",
    "import matplotlib.pyplot as plt\n",
    "import numpy as np\n",
    "import scipy.stats as stats"
   ]
  },
  {
   "cell_type": "code",
   "execution_count": null,
   "metadata": {},
   "outputs": [],
   "source": [
    "## generate the data\n",
    "\n",
    "# the data (note the different sample sizes)\n",
    "N1 = 30\n",
    "N2 = 35\n",
    "\n",
    "data1 = np.random.poisson(2,N1)\n",
    "data2 = np.random.poisson(1,N2)\n",
    "\n",
    "plt.plot(1+np.random.randn(N1)/10,data1,'ks',markerfacecolor='w')\n",
    "plt.plot(2+np.random.randn(N2)/10,data2,'ro',markerfacecolor='w')\n",
    "\n",
    "plt.xlim([0,3])\n",
    "plt.xticks([1,2],labels=('data1','data2'))\n",
    "plt.xlabel('Data group')\n",
    "plt.ylabel('Data value')\n",
    "plt.show()"
   ]
  },
  {
   "cell_type": "code",
   "execution_count": null,
   "metadata": {},
   "outputs": [],
   "source": [
    "## now for the test\n",
    "\n",
    "U,p = stats.mannwhitneyu(data1,data2)\n",
    "\n",
    "print(U,p)"
   ]
  },
  {
   "cell_type": "markdown",
   "metadata": {},
   "source": [
    "# COURSE: Master statistics and machine learning: Intuition, Math, code\n",
    "##### COURSE URL: udemy.com/course/statsml_x/?couponCode=202006 \n",
    "## SECTION: The t-test family\n",
    "### VIDEO: One-sample t-test\n",
    "#### TEACHER: Mike X Cohen, sincxpress.com"
   ]
  },
  {
   "cell_type": "code",
   "execution_count": null,
   "metadata": {},
   "outputs": [],
   "source": [
    "# import libraries\n",
    "import matplotlib.pyplot as plt\n",
    "import numpy as np\n",
    "import scipy.stats as stats"
   ]
  },
  {
   "cell_type": "code",
   "execution_count": null,
   "metadata": {},
   "outputs": [],
   "source": [
    "## generate the data\n",
    "\n",
    "# parameters\n",
    "N = 20  # sample size\n",
    "popMu = .5 # true population mean\n",
    "data  = np.random.randn(N) + popMu\n",
    "\n",
    "# let's see what the data look(s) like\n",
    "plt.plot(data,'ko-',markerfacecolor='w',markersize=10)\n",
    "plt.xlabel('Data index')\n",
    "plt.ylabel('Data value')\n",
    "plt.show()\n",
    "\n",
    "### question: Should there be lines in this plot?"
   ]
  },
  {
   "cell_type": "code",
   "execution_count": null,
   "metadata": {},
   "outputs": [],
   "source": [
    "## \"manual\" t-test\n",
    "\n",
    "# the null-hypothesis value\n",
    "H0val = 0\n",
    "\n",
    "# compute the t-value\n",
    "t_num = np.mean(data) - H0val\n",
    "t_den = np.std(data) / np.sqrt(N)\n",
    "tval = t_num / t_den\n",
    "\n",
    "# degrees of freedom\n",
    "df = N-1\n",
    "\n",
    "# p-value\n",
    "pval = 1-stats.t.cdf(abs(tval),df)\n",
    "\n",
    "# show the H0 parameter distribution and observed t-value\n",
    "x = np.linspace(-4,4,1001)\n",
    "tdist = stats.t.pdf(x,df) * np.mean(np.diff(x))\n",
    "\n",
    "plt.plot(x,tdist,linewidth=2)\n",
    "plt.plot([tval,tval],[0,max(tdist)],'r--')\n",
    "plt.legend(('H_0 distribution','Observed t-value'))\n",
    "plt.xlabel('t-value')\n",
    "plt.ylabel('pdf(t)')\n",
    "plt.title('t(%g) = %g, p=%g'%(df,tval,pval))\n",
    "plt.show()"
   ]
  },
  {
   "cell_type": "code",
   "execution_count": null,
   "metadata": {},
   "outputs": [],
   "source": [
    "## now using the Python function\n",
    "\n",
    "t,p = stats.ttest_1samp(data,H0val)\n",
    "\n",
    "print(t,p)\n",
    "# do these values match our manually computed values?"
   ]
  },
  {
   "cell_type": "markdown",
   "metadata": {},
   "source": [
    "# COURSE: Master statistics and machine learning: Intuition, Math, code\n",
    "##### COURSE URL: udemy.com/course/statsml_x/?couponCode=202006 \n",
    "## SECTION: The t-test family\n",
    "### VIDEO: Permutation testing\n",
    "#### TEACHER: Mike X Cohen, sincxpress.com"
   ]
  },
  {
   "cell_type": "code",
   "execution_count": null,
   "metadata": {},
   "outputs": [],
   "source": [
    "# import libraries\n",
    "import matplotlib.pyplot as plt\n",
    "import numpy as np\n",
    "import scipy.stats as stats"
   ]
  },
  {
   "cell_type": "code",
   "execution_count": null,
   "metadata": {},
   "outputs": [],
   "source": [
    "## simulate two distributions\n",
    "\n",
    "# number of trials\n",
    "N = 100\n",
    "\n",
    "# dataset \"A\"\n",
    "r = np.random.randn(N)\n",
    "r[r>0] = np.log(1+r[r>0])\n",
    "dataA = 26-r*10\n",
    "\n",
    "# get histogram values for later comparison\n",
    "yA,xA = np.histogram(dataA,20)\n",
    "xA = (xA[:-1]+xA[1:])/2\n",
    "\n",
    "# dataset \"B\"\n",
    "r = np.random.randn(N)\n",
    "r[r>0] = np.log(1+r[r>0])\n",
    "dataB = 30-r*10\n",
    "\n",
    "#get histogram values for later comparison\n",
    "yB,xB = np.histogram(dataB,20)\n",
    "xB = (xB[:-1]+xB[1:])/2\n",
    "\n",
    "\n",
    "plt.stem(xA,yA,'b',markerfmt='bo',basefmt=' ',label='Data\"A\"')\n",
    "plt.stem(xB,yB,'r',markerfmt='ro',basefmt=' ',label='Data\"B\"')\n",
    "plt.legend()\n",
    "plt.show()"
   ]
  },
  {
   "cell_type": "code",
   "execution_count": null,
   "metadata": {},
   "outputs": [],
   "source": [
    "## mix trials together\n",
    "\n",
    "# concatenate trials\n",
    "alldata = np.hstack((dataA,dataB))\n",
    "\n",
    "# condition labels\n",
    "conds = np.hstack((np.ones(N),2*np.ones(N)))"
   ]
  },
  {
   "cell_type": "code",
   "execution_count": null,
   "metadata": {},
   "outputs": [],
   "source": [
    "## generate one null hypothesis scenario\n",
    "\n",
    "# random permutation\n",
    "fakeconds = np.random.permutation(N*2)\n",
    "\n",
    "# shuffled condition labels\n",
    "fakeconds[fakeconds<N] = 1\n",
    "fakeconds[fakeconds>1] = 2\n",
    "\n",
    "\n",
    "# these two means should be different.\n",
    "print([np.mean(alldata[conds==1]), np.mean(alldata[conds==2])])\n",
    "\n",
    "# should these two be different?\n",
    "print([np.mean(alldata[fakeconds==1]), np.mean(alldata[fakeconds==2])])\n"
   ]
  },
  {
   "cell_type": "code",
   "execution_count": null,
   "metadata": {},
   "outputs": [],
   "source": [
    "## and now a distribution of null hypothesis values\n",
    "\n",
    "nPerms = 1000\n",
    "permdiffs = np.zeros(nPerms)\n",
    "\n",
    "for permi in range(nPerms):\n",
    "    fconds = np.random.permutation(N*2)\n",
    "    fconds[fconds<N] = 1\n",
    "    fconds[fconds>1] = 2\n",
    "    permdiffs[permi] = np.mean(alldata[fconds==2]) - np.mean(alldata[fconds==1])\n",
    "\n",
    "\n",
    "# plot the distribution of H0 values\n",
    "plt.hist(permdiffs,50)\n",
    "\n",
    "# and plot the observed value on top\n",
    "obsval = np.mean(alldata[conds==2]) - np.mean(alldata[conds==1])\n",
    "plt.plot([obsval, obsval],[0, 50],'m',linewidth=10)\n",
    "plt.xlabel('Value')\n",
    "plt.ylabel('Count')\n",
    "plt.show()"
   ]
  },
  {
   "cell_type": "code",
   "execution_count": null,
   "metadata": {},
   "outputs": [],
   "source": [
    "## two methods of evaluating statistical significance\n",
    "\n",
    "# Z-value\n",
    "zVal = ( obsval-np.mean(permdiffs) ) / np.std(permdiffs,ddof=1)\n",
    "p = 1-stats.norm.cdf(abs(zVal))\n",
    "\n",
    "# p-value count\n",
    "pCount = sum(permdiffs>obsval)/nPerms\n",
    "\n",
    "print(p,pCount)"
   ]
  },
  {
   "cell_type": "markdown",
   "metadata": {},
   "source": [
    "# COURSE: Master statistics and machine learning: Intuition, Math, code\n",
    "##### COURSE URL: udemy.com/course/statsml_x/?couponCode=202006 \n",
    "## SECTION: The t-test family\n",
    "### VIDEO: Signed-rank test (Wilcoxon signed-rank for one-sample or paired samples)\n",
    "#### TEACHER: Mike X Cohen, sincxpress.com"
   ]
  },
  {
   "cell_type": "code",
   "execution_count": null,
   "metadata": {},
   "outputs": [],
   "source": [
    "# import libraries\n",
    "import matplotlib.pyplot as plt\n",
    "import numpy as np\n",
    "import scipy.stats as stats"
   ]
  },
  {
   "cell_type": "code",
   "execution_count": null,
   "metadata": {},
   "outputs": [],
   "source": [
    "## generate the data\n",
    "\n",
    "N = 30\n",
    "\n",
    "data1 = np.random.poisson(1.5,N)\n",
    "data2 = np.random.poisson(1,N)\n",
    "\n",
    "colors = 'kr'\n",
    "for i in range(N):\n",
    "    plt.plot([data1[i], data2[i]],[i, i],colors[int(data1[i]<data2[i])])\n",
    "\n",
    "plt.plot(data1,np.arange(N),'ks',markerfacecolor='k',label='data1')\n",
    "plt.plot(data2,np.arange(N),'ro',markerfacecolor='r',label='data2')\n",
    "\n",
    "plt.ylabel('Data index')\n",
    "plt.xlabel('Data value')\n",
    "plt.legend()\n",
    "\n",
    "plt.show()"
   ]
  },
  {
   "cell_type": "code",
   "execution_count": null,
   "metadata": {},
   "outputs": [],
   "source": [
    "## now for the test\n",
    "\n",
    "t,p = stats.wilcoxon(data1,data2)\n",
    "print('Wilcoxon z=%g, p=%g'%(t,p))\n"
   ]
  },
  {
   "cell_type": "code",
   "execution_count": null,
   "metadata": {},
   "outputs": [],
   "source": [
    "## now for the 2D space\n",
    "\n",
    "# parameter ranges\n",
    "Ns = np.arange(5,51)\n",
    "lambdas = np.linspace(1,3,40)\n",
    "\n",
    "# initialize output matrix\n",
    "pvals = np.zeros((len(Ns),len(lambdas)))\n",
    "\n",
    "for ni in range(len(Ns)):\n",
    "    for li in range(len(lambdas)):\n",
    "        \n",
    "        # generate some data\n",
    "        data1 = np.random.poisson(lambdas[0], Ns[ni])\n",
    "        data2 = np.random.poisson(lambdas[li],Ns[ni])\n",
    "        \n",
    "        # compute the statistic\n",
    "        t,p = stats.wilcoxon(data1,data2)\n",
    "        \n",
    "        # store the results\n",
    "        pvals[ni,li] = -np.log(p)\n",
    "        \n",
    "\n",
    "# optional p-value thresholding\n",
    "pvalthresh = .01\n",
    "pvals[ pvals<-np.log(pvalthresh) ] = np.NaN\n",
    "\n",
    "\n",
    "# now show in a heatmap!\n",
    "plt.imshow(pvals,origin='lower',extent=[lambdas[0],lambdas[-1],Ns[0],Ns[-1]],aspect='auto')\n",
    "plt.xlabel('lambda difference')\n",
    "plt.ylabel('Sample size')\n",
    "plt.title('Signed-rank test results: -log(p)')\n",
    "plt.colorbar()\n",
    "plt.show()"
   ]
  },
  {
   "cell_type": "markdown",
   "metadata": {},
   "source": [
    "# COURSE: Master statistics and machine learning: Intuition, Math, code\n",
    "##### COURSE URL: udemy.com/course/statsml_x/?couponCode=202006 \n",
    "## SECTION: The t-test family\n",
    "### VIDEO: Two-samples t-test\n",
    "#### TEACHER: Mike X Cohen, sincxpress.com"
   ]
  },
  {
   "cell_type": "code",
   "execution_count": null,
   "metadata": {},
   "outputs": [],
   "source": [
    "# import libraries\n",
    "import matplotlib.pyplot as plt\n",
    "import numpy as np\n",
    "import scipy.stats as stats"
   ]
  },
  {
   "cell_type": "code",
   "execution_count": null,
   "metadata": {},
   "outputs": [],
   "source": [
    "## generate the data\n",
    "\n",
    "# parameters\n",
    "n1 = 30   # samples in dataset 1\n",
    "n2 = 40   # ...and 2\n",
    "mu1 = 1   # population mean in dataset 1\n",
    "mu2 = 1.2 # population mean in dataset 2\n",
    "\n",
    "\n",
    "# generate the data\n",
    "data1 = mu1 + np.random.randn(n1)\n",
    "data2 = mu2 + np.random.randn(n2)\n",
    "\n",
    "# show their histograms\n",
    "plt.hist(data1,bins='fd',color=[1,0,0,.5],label='Data 1')\n",
    "plt.hist(data2,bins='fd',color=[0,0,1,.5],label='Data 2')\n",
    "plt.xlabel('Data value')\n",
    "plt.ylabel('Count')\n",
    "plt.legend()\n",
    "plt.show()"
   ]
  },
  {
   "cell_type": "code",
   "execution_count": null,
   "metadata": {},
   "outputs": [],
   "source": [
    "## now for the t-test\n",
    "\n",
    "t,p = stats.ttest_ind(data1,data2,equal_var=True)\n",
    "\n",
    "df = n1+n2-2\n",
    "print('t(%g) = %g, p=%g'%(df,t,p))"
   ]
  },
  {
   "cell_type": "code",
   "execution_count": null,
   "metadata": {},
   "outputs": [],
   "source": [
    "## a 2D space of t values\n",
    "\n",
    "# ranges for t-value parameters\n",
    "meandiffs = np.linspace(-3,3,80)\n",
    "pooledvar = np.linspace(.5,4,100)\n",
    "\n",
    "# group sample size\n",
    "n1 = 40\n",
    "n2 = 30\n",
    "\n",
    "# initialize output matrix\n",
    "allTvals = np.zeros((len(meandiffs),len(pooledvar)))\n",
    "\n",
    "# loop over the parameters...\n",
    "for meani in range(len(meandiffs)):\n",
    "    for vari in range(len(pooledvar)):\n",
    "        \n",
    "        # t-value denominator\n",
    "        df = n1 + n2 - 2\n",
    "        s  = np.sqrt(( (n1-1)*pooledvar[vari] + (n2-1)*pooledvar[vari]) / df)\n",
    "        t_den = s * np.sqrt(1/n1 + 1/n2)\n",
    "        \n",
    "        # t-value in the matrix\n",
    "        allTvals[meani,vari] = meandiffs[meani] / t_den\n",
    "\n",
    "        \n",
    "plt.imshow(allTvals,vmin=-4,vmax=4,extent=[pooledvar[0],pooledvar[-1],meandiffs[0],meandiffs[-1]],aspect='auto')\n",
    "plt.xlabel('Variance')\n",
    "plt.ylabel('Mean differences')\n",
    "plt.colorbar()\n",
    "plt.title('t-values as a function of difference and variance')\n",
    "plt.show()"
   ]
  }
 ],
 "metadata": {
  "kernelspec": {
   "display_name": "Python 3",
   "language": "python",
   "name": "python3"
  },
  "language_info": {
   "codemirror_mode": {
    "name": "ipython",
    "version": 3
   },
   "file_extension": ".py",
   "mimetype": "text/x-python",
   "name": "python",
   "nbconvert_exporter": "python",
   "pygments_lexer": "ipython3",
   "version": "3.7.4"
  }
 },
 "nbformat": 4,
 "nbformat_minor": 2
}
