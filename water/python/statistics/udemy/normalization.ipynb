{
 "cells": [
  {
   "cell_type": "markdown",
   "metadata": {},
   "source": [
    "# COURSE: Master statistics and machine learning: Intuition, Math, code\n",
    "##### COURSE URL: udemy.com/course/statsml_x/?couponCode=202006 \n",
    "## SECTION: Data normalizations and outliers\n",
    "### VIDEO: Min-max scaling\n",
    "#### TEACHER: Mike X Cohen, sincxpress.com"
   ]
  },
  {
   "cell_type": "code",
   "execution_count": null,
   "metadata": {},
   "outputs": [],
   "source": [
    "# import libraries\n",
    "import matplotlib.pyplot as plt\n",
    "import numpy as np"
   ]
  },
  {
   "cell_type": "code",
   "execution_count": null,
   "metadata": {},
   "outputs": [],
   "source": [
    "## create some data\n",
    "\n",
    "N = 42\n",
    "data = np.log(np.random.rand(N))*234 + 934\n",
    "\n",
    "# get min and max\n",
    "dataMin = min(data)\n",
    "dataMax = max(data)\n",
    "\n",
    "# now min-max scale\n",
    "dataS = (data-dataMin) / (dataMax-dataMin)\n",
    "\n",
    "\n",
    "# now plot\n",
    "fig,ax = plt.subplots(1,2,figsize=(8,4))\n",
    "ax[0].plot(1+np.random.randn(N)/20,data,'ks')\n",
    "ax[0].set_xlim([0,2])\n",
    "ax[0].set_xticks([])\n",
    "ax[0].set_ylabel('Original data scale')\n",
    "ax[0].set_title('Original data')\n",
    "\n",
    "ax[1].plot(1+np.random.randn(N)/20,dataS,'ks')\n",
    "ax[1].set_xlim([0,2])\n",
    "ax[1].set_xticks([])\n",
    "ax[1].set_ylabel('Unity-normed data scale')\n",
    "ax[1].set_title('Scaled data')\n",
    "\n",
    "plt.show()"
   ]
  },
  {
   "cell_type": "code",
   "execution_count": null,
   "metadata": {},
   "outputs": [],
   "source": [
    "## show that scaling doesn't affect the relative values\n",
    "\n",
    "plt.plot(data,dataS,'ks')\n",
    "plt.xlabel('Original')\n",
    "plt.ylabel('Scaled')\n",
    "plt.show()"
   ]
  },
  {
   "cell_type": "code",
   "execution_count": null,
   "metadata": {},
   "outputs": [],
   "source": [
    "## any abitrary data range\n",
    "\n",
    "# step 1 is to [0,1] normalize as above\n",
    "\n",
    "# step 2:\n",
    "newMin = 4\n",
    "newMax = 8.7\n",
    "\n",
    "dataSS = dataS*(newMax-newMin) + newMin\n",
    "\n",
    "# test it!\n",
    "print([min(dataSS), max(dataSS)])\n"
   ]
  },
  {
   "cell_type": "markdown",
   "metadata": {},
   "source": [
    "# COURSE: Master statistics and machine learning: Intuition, Math, code\n",
    "##### COURSE URL: udemy.com/course/statsml_x/?couponCode=202006 \n",
    "## SECTION: Data normalizations and outliers\n",
    "### VIDEO: Euclidean distance for outlier removal\n",
    "#### TEACHER: Mike X Cohen, sincxpress.com"
   ]
  },
  {
   "cell_type": "code",
   "execution_count": null,
   "metadata": {},
   "outputs": [],
   "source": [
    "import numpy as np\n",
    "import matplotlib.pyplot as plt"
   ]
  },
  {
   "cell_type": "code",
   "execution_count": null,
   "metadata": {},
   "outputs": [],
   "source": [
    "## create some data\n",
    "\n",
    "N = 40\n",
    "\n",
    "# two-dimensional data\n",
    "d1 = np.exp(-abs(np.random.randn(N)*3))\n",
    "d2 = np.exp(-abs(np.random.randn(N)*5))\n",
    "datamean = [ np.mean(d1), np.mean(d2) ]\n",
    "\n",
    "\n",
    "# compute distance of each point to the mean\n",
    "ds = np.zeros(N)\n",
    "for i in range(N):\n",
    "    ds[i] = np.sqrt( (d1[i]-datamean[0])**2 + (d2[i]-datamean[1])**2 )\n",
    "    \n",
    "\n",
    "# convert to z (don't need the original data)\n",
    "ds = (ds-np.mean(ds)) / np.std(ds)\n",
    "\n",
    "\n",
    "\n",
    "\n",
    "\n",
    "# plot the data\n",
    "fig,ax = plt.subplots(1,2,figsize=(8,6))\n",
    "\n",
    "ax[0].plot(d1,d2,'ko',markerfacecolor='k')\n",
    "ax[0].set_xticks([])\n",
    "ax[0].set_yticks([])\n",
    "ax[0].set_xlabel('Variable x')\n",
    "ax[0].set_ylabel('Variable y')\n",
    "\n",
    "# plot the multivariate mean\n",
    "ax[0].plot(datamean[0],datamean[1],'kp',markerfacecolor='g',markersize=15)\n",
    "\n",
    "# then plot those distances\n",
    "ax[1].plot(ds,'ko',markerfacecolor=[.7, .5, .3],markersize=12)\n",
    "ax[1].set_xlabel('Data index')\n",
    "ax[1].set_ylabel('Z distance')"
   ]
  },
  {
   "cell_type": "code",
   "execution_count": null,
   "metadata": {},
   "outputs": [],
   "source": [
    "## now for the thresholding\n",
    "\n",
    "# threshold in standard deviation units\n",
    "distanceThresh = 2.5\n",
    "\n",
    "# find the offending points\n",
    "oidx = np.where(ds>distanceThresh)[0]\n",
    "\n",
    "print(oidx)\n",
    "\n",
    "\n",
    "# and cross those out\n",
    "ax[1].plot(oidx,ds[oidx],'x',color='r',markersize=20)\n",
    "ax[0].plot(d1[oidx],d2[oidx],'x',color='r',markersize=20)\n",
    "\n",
    "fig"
   ]
  },
  {
   "cell_type": "markdown",
   "metadata": {},
   "source": [
    "# COURSE: Master statistics and machine learning: Intuition, Math, code\n",
    "##### COURSE URL: udemy.com/course/statsml_x/?couponCode=202006 \n",
    "## SECTION: Data normalizations and outliers\n",
    "### VIDEO: Data trimming to remove outliers\n",
    "#### TEACHER: Mike X Cohen, sincxpress.com"
   ]
  },
  {
   "cell_type": "code",
   "execution_count": null,
   "metadata": {},
   "outputs": [],
   "source": [
    "import numpy as np\n",
    "import matplotlib.pyplot as plt"
   ]
  },
  {
   "cell_type": "code",
   "execution_count": null,
   "metadata": {},
   "outputs": [],
   "source": [
    "## create some data\n",
    "\n",
    "N = 40\n",
    "data = np.random.randn(N)\n",
    "data[data<-2] = -data[data<-2]**2\n",
    "data[data>2]  =  data[data>2]**2\n",
    "\n",
    "# also need the mean-centered data\n",
    "dataMC = data - np.mean(data)\n",
    "\n",
    "# and plot them (not it ;) )\n",
    "fig,ax = plt.subplots(1,1)\n",
    "ax.plot(data,'k^',markerfacecolor='y',markersize=12)\n",
    "ax.set_xticks([])\n",
    "ax.set_yticks([])\n",
    "ax.set_xlabel('Data index')\n",
    "ax.set_ylabel('Data value')\n",
    "plt.show()"
   ]
  },
  {
   "cell_type": "code",
   "execution_count": null,
   "metadata": {},
   "outputs": [],
   "source": [
    "## option 1: remove k% of the data\n",
    "\n",
    "# percent of \"extreme\" data values to remove\n",
    "trimPct = 5 # in percent\n",
    "\n",
    "# identify the cut-off (note the abs() )\n",
    "datacutoff = np.percentile(abs(dataMC),100-trimPct)\n",
    "\n",
    "# find the exceedance data values\n",
    "data2cut = np.where( abs(dataMC)>datacutoff )[0]\n",
    "\n",
    "# and mark those off\n",
    "ax.plot(data2cut,data[data2cut],'rx',markersize=15)\n",
    "\n",
    "fig"
   ]
  },
  {
   "cell_type": "code",
   "execution_count": null,
   "metadata": {},
   "outputs": [],
   "source": [
    "## option 2: remove k most extreme values\n",
    "\n",
    "# number of \"extreme\" data values to remove\n",
    "k2remove = 3  # in number\n",
    "\n",
    "# find the exceedance data values\n",
    "datasortIdx = np.argsort(abs(dataMC),axis=0)[::-1]\n",
    "data2cut = np.squeeze(datasortIdx[:k2remove])\n",
    "\n",
    "# and mark those off\n",
    "ax.plot(data2cut,data[data2cut],'go',markersize=15,alpha=.5)\n",
    "\n",
    "# finally, add a legend\n",
    "ax.legend(('All data','%g%% threshold'%(100-trimPct),'%g-value threshold'%k2remove))\n",
    "fig"
   ]
  },
  {
   "cell_type": "markdown",
   "metadata": {},
   "source": [
    "# COURSE: Master statistics and machine learning: Intuition, Math, code\n",
    "##### COURSE URL: udemy.com/course/statsml_x/?couponCode=202006 \n",
    "## SECTION: Data normalizations and outliers\n",
    "### VIDEO: Z-score for outlier removal\n",
    "#### TEACHER: Mike X Cohen, sincxpress.com"
   ]
  },
  {
   "cell_type": "code",
   "execution_count": null,
   "metadata": {},
   "outputs": [],
   "source": [
    "import numpy as np\n",
    "import matplotlib.pyplot as plt\n",
    "from statsmodels import robust\n",
    "import scipy.stats as stats"
   ]
  },
  {
   "cell_type": "code",
   "execution_count": null,
   "metadata": {},
   "outputs": [],
   "source": [
    "## create some data\n",
    "\n",
    "N = 40\n",
    "data = np.random.randn(N)\n",
    "data[data<-1] = data[data<-1]+2\n",
    "data[data>2] = data[data>2]**2; # try to force a few outliers\n",
    "data = data*200 + 50  # change the scale for comparison with z\n",
    "\n",
    "# convert to z\n",
    "dataZ = (data-np.mean(data)) / np.std(data)\n",
    "\n",
    "\n",
    "#### specify the z-score threshold\n",
    "zscorethresh = 3\n",
    "\n",
    "\n",
    "\n",
    "# plot the data\n",
    "fig,ax = plt.subplots(2,1,figsize=(8,6))\n",
    "\n",
    "ax[0].plot(data,'k^',markerfacecolor='w',markersize=12)\n",
    "ax[0].set_xticks([])\n",
    "ax[0].set_xlabel('Data index')\n",
    "ax[0].set_ylabel('Orig. scale')\n",
    "\n",
    "# then plot the zscores\n",
    "ax[1].plot(dataZ,'k^',markerfacecolor='w',markersize=12)\n",
    "ax[1].plot([0,N],[zscorethresh,zscorethresh],'r--')\n",
    "ax[1].set_xlabel('Data index')\n",
    "ax[1].set_ylabel('Z distance')\n",
    "plt.show()"
   ]
  },
  {
   "cell_type": "code",
   "execution_count": null,
   "metadata": {},
   "outputs": [],
   "source": [
    "## identify outliers\n",
    "\n",
    "# find 'em!\n",
    "outliers = np.where(abs(dataZ)>zscorethresh)[0]\n",
    "\n",
    "# and cross those out\n",
    "ax[0].plot(outliers,data[outliers],'x',color='r',markersize=20)\n",
    "ax[1].plot(outliers,dataZ[outliers],'x',color='r',markersize=20)\n",
    "\n",
    "fig"
   ]
  },
  {
   "cell_type": "code",
   "execution_count": null,
   "metadata": {},
   "outputs": [],
   "source": [
    "## iterative method\n",
    "\n",
    "# pick a lenient threshold just for illustration\n",
    "zscorethresh = 2\n",
    "dataZ = (data-np.mean(data)) / np.std(data)\n",
    "\n",
    "\n",
    "colorz = 'brkm'\n",
    "numiters = 0 # iteration counter\n",
    "while True:\n",
    "    \n",
    "    # convert to z\n",
    "    datamean = np.nanmean(dataZ)\n",
    "    datastd  = np.nanstd(dataZ)\n",
    "    dataZ = (dataZ-datamean) / datastd\n",
    "    \n",
    "    # find data values to remove\n",
    "    toremove = dataZ>zscorethresh\n",
    "    \n",
    "    # break out of while loop if no points to remove\n",
    "    if sum(toremove)==0:\n",
    "        break\n",
    "    else:\n",
    "        # otherwise, mark the outliers in the plot\n",
    "        plt.plot(np.where(toremove)[0],dataZ[toremove],'%sx'%colorz[numiters],markersize=12)\n",
    "        dataZ[toremove] = np.nan\n",
    "    \n",
    "    # replot\n",
    "    plt.plot(dataZ,'k^',markersize=12,markerfacecolor=colorz[numiters],label='iteration %g'%numiters)\n",
    "    numiters = numiters + 1\n",
    "\n",
    "plt.xticks([])\n",
    "plt.ylabel('Z-score')\n",
    "plt.xlabel('Data index')\n",
    "plt.legend()\n",
    "plt.show()\n",
    "\n",
    "#### the data points to be removed\n",
    "removeFromOriginal = np.where(np.isnan(dataZ))[0]\n",
    "print(removeFromOriginal)"
   ]
  },
  {
   "cell_type": "code",
   "execution_count": null,
   "metadata": {},
   "outputs": [],
   "source": [
    "## modified Z for non-normal distributions\n",
    "\n",
    "# compute modified z\n",
    "dataMed = np.median(data)\n",
    "dataMAD = robust.mad(data)\n",
    "\n",
    "dataMz = stats.norm.ppf(.75)*(data-dataMed) / dataMAD\n",
    "\n",
    "\n",
    "# plot the data\n",
    "fig,ax = plt.subplots(2,1,figsize=(8,6))\n",
    "\n",
    "ax[0].plot(data,'k^',markerfacecolor='w',markersize=12)\n",
    "ax[0].set_xticks([])\n",
    "ax[0].set_xlabel('Data index')\n",
    "ax[0].set_ylabel('Orig. scale')\n",
    "\n",
    "# then plot the zscores\n",
    "ax[1].plot(dataMz,'k^',markerfacecolor='w',markersize=12)\n",
    "ax[1].plot([0,N],[zscorethresh,zscorethresh],'r--')\n",
    "ax[1].set_xlabel('Data index')\n",
    "ax[1].set_ylabel('Median dev. units (Mz)')\n",
    "plt.show()"
   ]
  },
  {
   "cell_type": "markdown",
   "metadata": {},
   "source": [
    "# COURSE: Master statistics and machine learning: Intuition, Math, code\n",
    "##### COURSE URL: udemy.com/course/statsml_x/?couponCode=202006 \n",
    "## SECTION: Data normalizations and outliers\n",
    "### VIDEO: Z-score\n",
    "#### TEACHER: Mike X Cohen, sincxpress.com"
   ]
  },
  {
   "cell_type": "code",
   "execution_count": null,
   "metadata": {},
   "outputs": [],
   "source": [
    "# import libraries\n",
    "import matplotlib.pyplot as plt\n",
    "import numpy as np\n",
    "from scipy import stats"
   ]
  },
  {
   "cell_type": "code",
   "execution_count": null,
   "metadata": {},
   "outputs": [],
   "source": [
    "## create data\n",
    "\n",
    "data = np.random.poisson(3,1000)**2\n",
    "\n",
    "## compute the mean and std\n",
    "datamean = np.mean(data)\n",
    "datastd  = np.std(data,ddof=1)\n",
    "\n",
    "# the previous two lines are equivalent to the following two lines\n",
    "#datamean = data.mean()\n",
    "#datastd  = data.std(ddof=1)\n",
    "\n",
    "\n",
    "\n",
    "plt.plot(data,'s',markersize=3)\n",
    "plt.xlabel('Data index')\n",
    "plt.ylabel('Data value')\n",
    "plt.title(f'Mean = {np.round(datamean,2)}; std = {np.round(datastd,2)}')\n",
    "\n",
    "plt.show()"
   ]
  },
  {
   "cell_type": "code",
   "execution_count": null,
   "metadata": {},
   "outputs": [],
   "source": [
    "## now for z-scoring\n",
    "\n",
    "# z-score is data minus mean divided by stdev\n",
    "dataz = (data-datamean) / datastd\n",
    "\n",
    "# can also use Python function\n",
    "dataz = stats.zscore(data)\n",
    "\n",
    "# compute the mean and std\n",
    "dataZmean = np.mean(dataz)\n",
    "dataZstd  = np.std(dataz,ddof=1)\n",
    "\n",
    "plt.plot(dataz,'s',markersize=3)\n",
    "plt.xlabel('Data index')\n",
    "plt.ylabel('Data value')\n",
    "plt.title(f'Mean = {np.round(dataZmean,2)}; std = {np.round(dataZstd,2)}')\n",
    "\n",
    "plt.show()"
   ]
  },
  {
   "cell_type": "code",
   "execution_count": null,
   "metadata": {},
   "outputs": [],
   "source": [
    "## show that the relative values are preserved\n",
    "\n",
    "plt.plot(data,dataz,'s')\n",
    "plt.xlabel('Original')\n",
    "plt.ylabel('Z-transformed')\n",
    "plt.title('Correlation r = %g'%np.corrcoef(data,dataz)[0,0])\n",
    "plt.show()"
   ]
  }
 ],
 "metadata": {
  "kernelspec": {
   "display_name": "Python 3",
   "language": "python",
   "name": "python3"
  },
  "language_info": {
   "codemirror_mode": {
    "name": "ipython",
    "version": 3
   },
   "file_extension": ".py",
   "mimetype": "text/x-python",
   "name": "python",
   "nbconvert_exporter": "python",
   "pygments_lexer": "ipython3",
   "version": "3.7.4"
  }
 },
 "nbformat": 4,
 "nbformat_minor": 2
}
